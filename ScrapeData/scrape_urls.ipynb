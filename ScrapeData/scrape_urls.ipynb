{
 "cells": [
  {
   "cell_type": "code",
   "execution_count": 125,
   "metadata": {},
   "outputs": [],
   "source": [
    "# load neceassy libraries\n",
    "import time\n",
    "import json\n",
    "import pandas as pd\n",
    "from bs4 import BeautifulSoup  # import beautifulsoup\n",
    "from splinter import Browser  # import splinter\n",
    "\n",
    "executable_path = {'executable_path':'/usr/local/bin/chromedriver'}\n",
    "browser = Browser('chrome', **executable_path)"
   ]
  },
  {
   "cell_type": "code",
   "execution_count": 135,
   "metadata": {},
   "outputs": [],
   "source": [
    "url_primary = 'https://www.epicurious.com/search/?content=recipe&page='\n",
    "\n",
    "# initialize an empty array to hold the urls on recepies\n",
    "urls = []\n",
    "\n",
    "# each page has 18 recepies\n",
    "nu_of_pages_scrape = 1000\n",
    "\n",
    "# loop through pages\n",
    "for page in range(750,nu_of_pages_scrape):\n",
    "    if page == 0:\n",
    "        url_page = url_primary[:-1]\n",
    "    else:\n",
    "        url_page = url_primary +str(page)\n",
    "        \n",
    "    # visit the url_page\n",
    "    browser.visit(url_page)\n",
    "    time.sleep(1)\n",
    "    \n",
    "    # scrape page into soup\n",
    "    html = browser.html\n",
    "    soup = BeautifulSoup(html, 'html.parser')\n",
    "    article_urls = soup.find('div', class_='results-group').find_all('article',\n",
    "                                                  class_='recipe-content-card')\n",
    "\n",
    "    # loop through each receipe url in the page and extract the receipe url\n",
    "    for article in article_urls:\n",
    "    \n",
    "        #extract number of reviews\n",
    "        reviews = article.find('dd',class_='reviews-count').text\n",
    "    \n",
    "        #extract only those urls that had greater than 10 reviews\n",
    "        if int(reviews) >= 10:\n",
    "            url_recepie = article.find(\"a\").attrs['href']\n",
    "            url_recepie = \"https://www.epicurious.com\" + url_recepie\n",
    "            urls.append(url_recepie) "
   ]
  },
  {
   "cell_type": "code",
   "execution_count": 136,
   "metadata": {},
   "outputs": [],
   "source": [
    "# last url scraped https://www.epicurious.com/search?content=recipe&page=499\n",
    "urls_df4 = pd.DataFrame({'urls':urls,'batch':'750-999'})"
   ]
  },
  {
   "cell_type": "code",
   "execution_count": 137,
   "metadata": {},
   "outputs": [
    {
     "name": "stdout",
     "output_type": "stream",
     "text": [
      "<class 'pandas.core.frame.DataFrame'>\n",
      "RangeIndex: 1816 entries, 0 to 1815\n",
      "Data columns (total 2 columns):\n",
      "batch    1816 non-null object\n",
      "urls     1816 non-null object\n",
      "dtypes: object(2)\n",
      "memory usage: 28.5+ KB\n"
     ]
    }
   ],
   "source": [
    "urls_df4.info()"
   ]
  },
  {
   "cell_type": "code",
   "execution_count": 138,
   "metadata": {},
   "outputs": [],
   "source": [
    "urls_df4.to_csv('urls_df4.csv')"
   ]
  }
 ],
 "metadata": {
  "kernelspec": {
   "display_name": "Python 3",
   "language": "python",
   "name": "python3"
  },
  "language_info": {
   "codemirror_mode": {
    "name": "ipython",
    "version": 3
   },
   "file_extension": ".py",
   "mimetype": "text/x-python",
   "name": "python",
   "nbconvert_exporter": "python",
   "pygments_lexer": "ipython3",
   "version": "3.6.2"
  }
 },
 "nbformat": 4,
 "nbformat_minor": 2
}
