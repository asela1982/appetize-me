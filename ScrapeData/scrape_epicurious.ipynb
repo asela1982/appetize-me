{
 "cells": [
  {
   "cell_type": "code",
   "execution_count": 238,
   "metadata": {},
   "outputs": [],
   "source": [
    "# load neceassy libraries\n",
    "import time\n",
    "import json\n",
    "from bs4 import BeautifulSoup  # import beautifulsoup\n",
    "from splinter import Browser  # import splinter\n",
    "\n",
    "executable_path = {'executable_path':'/usr/local/bin/chromedriver'}\n",
    "browser = Browser('chrome', **executable_path)"
   ]
  },
  {
   "cell_type": "code",
   "execution_count": 225,
   "metadata": {},
   "outputs": [],
   "source": [
    "# prepare a template to scrape a page: https://www.epicurious.com/recipes/food/views/hot-cocoa-cake\n",
    "url = 'https://www.epicurious.com/recipes/food/views/pork-shoulder-braciola-with-ragu'\n",
    "browser.visit(url)\n",
    "time.sleep(1)"
   ]
  },
  {
   "cell_type": "code",
   "execution_count": 226,
   "metadata": {},
   "outputs": [],
   "source": [
    "# scrape page into soup\n",
    "html = browser.html\n",
    "soup = BeautifulSoup(html, 'html.parser')"
   ]
  },
  {
   "cell_type": "code",
   "execution_count": 227,
   "metadata": {},
   "outputs": [
    {
     "data": {
      "text/plain": [
       "'Preheat oven to 225°F. Place pork shoulder, fat side down, on a cutting board with a short end facing you. Holding a long, sharp knife about 1\" above cutting board, make a shallow cut along the entire length of a long side of roast. Continue cutting deeper into the roast, lifting and unfurling meat with your free hand, until it lies flat (be careful not to cut all the way through). Season generously on both sides with salt.Mix eggs, chopped garlic, panko, parsley, rosemary, black pepper, red pepper flakes, and 3 oz. Parmesan in a medium bowl. Keeping fattier side of pork shoulder facing downward, smear filling all over top side. Roll up roast and tie closed in 3–4 places with kitchen twine.Heat oil in a large Dutch oven or other heavy pot over medium-high. Sear pork roast until browned all over, 10–12 minutes total. Arrange tomatoes and their juices and sliced garlic all around roast and bring to a simmer. Make sure roast is turned fat side up, cover pot, and transfer to oven. Roast until a skewer easily passes through meat (a thermometer inserted into the center should register 200–205°F), 4–5 hours. Keep covered and let rest in pot 30 minutes.Transfer pork roast to a cutting board and remove kitchen twine. Gently mash sauce in pot with a spoon or a potato masher (simmer it gently to thicken, if desired). Taste ragù and season with salt if needed. Slice pork 1\" thick.Meanwhile, cook pasta in a large pot of boiling salted water, stirring occasionally, until al dente; drain.Spoon pasta into a serving dish and top with some ragù; toss to coat. Sprinkle with finely grated Parmesan. Transfer pork to a platter; spoon remaining ragù over.Pork can be stuffed and rolled 2 days before roasting; cover and chill. Pork can be roasted 3 days ahead; let cool, then cover and chill. Reheat gently in sauce before serving.'"
      ]
     },
     "execution_count": 227,
     "metadata": {},
     "output_type": "execute_result"
    }
   ],
   "source": [
    "# extract preparation text\n",
    "\n",
    "preparation = soup.find_all(\"li\", class_=\"preparation-step\")\n",
    "preparation_text = []\n",
    "\n",
    "for steps in preparation:\n",
    "    text = steps.text.strip()\n",
    "    preparation_text.append(text)\n",
    "    \n",
    "preparation_text = ''.join(preparation_text)\n",
    "preparation_text"
   ]
  },
  {
   "cell_type": "code",
   "execution_count": 228,
   "metadata": {},
   "outputs": [
    {
     "data": {
      "text/plain": [
       "'0'"
      ]
     },
     "execution_count": 228,
     "metadata": {},
     "output_type": "execute_result"
    }
   ],
   "source": [
    "# \n",
    "\n",
    "review_rating = soup.find(\"meta\", attrs={\"itemprop\": \"ratingValue\"})['content']\n",
    "review_rating"
   ]
  },
  {
   "cell_type": "code",
   "execution_count": 229,
   "metadata": {},
   "outputs": [
    {
     "data": {
      "text/plain": [
       "'4'"
      ]
     },
     "execution_count": 229,
     "metadata": {},
     "output_type": "execute_result"
    }
   ],
   "source": [
    "# extract best rating\n",
    "best_rating = soup.find(\"meta\", attrs={\"itemprop\": \"bestRating\"})['content']\n",
    "best_rating"
   ]
  },
  {
   "cell_type": "code",
   "execution_count": 230,
   "metadata": {},
   "outputs": [
    {
     "data": {
      "text/plain": [
       "'0'"
      ]
     },
     "execution_count": 230,
     "metadata": {},
     "output_type": "execute_result"
    }
   ],
   "source": [
    "# extract number of reviews\n",
    "number_of_reviews = soup.find(\"span\", class_=\"reviews-count\").text\n",
    "number_of_reviews"
   ]
  },
  {
   "cell_type": "code",
   "execution_count": 231,
   "metadata": {},
   "outputs": [
    {
     "data": {
      "text/plain": [
       "'Pork Shoulder Braciola with Ragù '"
      ]
     },
     "execution_count": 231,
     "metadata": {},
     "output_type": "execute_result"
    }
   ],
   "source": [
    "# extract the title of the recepie\n",
    "title_text = soup.find(\"div\", class_=\"title-source\").find('h1').text\n",
    "title_text"
   ]
  },
  {
   "cell_type": "code",
   "execution_count": 232,
   "metadata": {},
   "outputs": [
    {
     "data": {
      "text/plain": [
       "'0%'"
      ]
     },
     "execution_count": 232,
     "metadata": {},
     "output_type": "execute_result"
    }
   ],
   "source": [
    "# extrac the make_it_again score\n",
    "make_it_again = soup.find(\"div\", class_=\"prepare-again-rating\").find('span').text\n",
    "make_it_again"
   ]
  },
  {
   "cell_type": "code",
   "execution_count": 233,
   "metadata": {},
   "outputs": [
    {
     "data": {
      "text/plain": [
       "['Bon Appétit',\n",
       " 'Dinner',\n",
       " 'Italian',\n",
       " 'Pork',\n",
       " 'Garlic',\n",
       " 'Herb',\n",
       " 'Parmesan',\n",
       " 'Tomato',\n",
       " 'Pasta',\n",
       " 'Braise',\n",
       " 'Roast']"
      ]
     },
     "execution_count": 233,
     "metadata": {},
     "output_type": "execute_result"
    }
   ],
   "source": [
    "# extract the tags\n",
    "tags = soup.find(\"dl\",class_='tags').find_all('dt')\n",
    "tags_list = []\n",
    "\n",
    "for tag in tags:\n",
    "    tags_list.append(tag.text)\n",
    "    \n",
    "tags_list"
   ]
  },
  {
   "cell_type": "code",
   "execution_count": 234,
   "metadata": {},
   "outputs": [],
   "source": [
    "# extract the list of INGREDIENTS\n",
    "ingredients = soup.find_all(\"li\", class_=\"ingredient\")\n",
    "ingredients_list = []\n",
    "for item in ingredients:\n",
    "    ingredients_list.append(item.text)"
   ]
  },
  {
   "cell_type": "code",
   "execution_count": 235,
   "metadata": {},
   "outputs": [
    {
     "data": {
      "text/plain": [
       "['1 (4-lb.) piece skinless, boneless pork shoulder (Boston butt)',\n",
       " 'Kosher salt',\n",
       " '2 large eggs, beaten to blend',\n",
       " '1 head of garlic, cloves separated, half finely chopped, half thinly sliced',\n",
       " '1/2 cup panko (Japanese breadcrumbs)',\n",
       " '1/3 cup chopped parsley',\n",
       " '1 Tbsp. chopped rosemary',\n",
       " '1 tsp. freshly ground black pepper',\n",
       " '1/2 tsp. crushed red pepper flakes',\n",
       " '3 oz. Parmesan, coarsely grated, plus finely grated for serving',\n",
       " '2 Tbsp. extra-virgin olive oil',\n",
       " '2 (28-oz.) cans whole peeled tomatoes',\n",
       " '1 lb. pasta (any shape)']"
      ]
     },
     "execution_count": 235,
     "metadata": {},
     "output_type": "execute_result"
    }
   ],
   "source": [
    "ingredients_list"
   ]
  },
  {
   "cell_type": "code",
   "execution_count": 236,
   "metadata": {},
   "outputs": [],
   "source": [
    "recepie = {\"ingredients\": ingredients_list, \n",
    "           \"tags\": tags_list, \n",
    "           \"preparation\": preparation_text,\n",
    "           \"title\": title_text, \n",
    "           \"scores\":{\n",
    "           \"rating\": review_rating, \n",
    "           \"bestrating\": best_rating, \n",
    "           \"makeitagainscore\": make_it_again\n",
    "           },\n",
    "           \"reviews\":number_of_reviews\n",
    "          }"
   ]
  },
  {
   "cell_type": "code",
   "execution_count": 237,
   "metadata": {},
   "outputs": [
    {
     "data": {
      "text/plain": [
       "{'ingredients': ['1 (4-lb.) piece skinless, boneless pork shoulder (Boston butt)',\n",
       "  'Kosher salt',\n",
       "  '2 large eggs, beaten to blend',\n",
       "  '1 head of garlic, cloves separated, half finely chopped, half thinly sliced',\n",
       "  '1/2 cup panko (Japanese breadcrumbs)',\n",
       "  '1/3 cup chopped parsley',\n",
       "  '1 Tbsp. chopped rosemary',\n",
       "  '1 tsp. freshly ground black pepper',\n",
       "  '1/2 tsp. crushed red pepper flakes',\n",
       "  '3 oz. Parmesan, coarsely grated, plus finely grated for serving',\n",
       "  '2 Tbsp. extra-virgin olive oil',\n",
       "  '2 (28-oz.) cans whole peeled tomatoes',\n",
       "  '1 lb. pasta (any shape)'],\n",
       " 'preparation': 'Preheat oven to 225°F. Place pork shoulder, fat side down, on a cutting board with a short end facing you. Holding a long, sharp knife about 1\" above cutting board, make a shallow cut along the entire length of a long side of roast. Continue cutting deeper into the roast, lifting and unfurling meat with your free hand, until it lies flat (be careful not to cut all the way through). Season generously on both sides with salt.Mix eggs, chopped garlic, panko, parsley, rosemary, black pepper, red pepper flakes, and 3 oz. Parmesan in a medium bowl. Keeping fattier side of pork shoulder facing downward, smear filling all over top side. Roll up roast and tie closed in 3–4 places with kitchen twine.Heat oil in a large Dutch oven or other heavy pot over medium-high. Sear pork roast until browned all over, 10–12 minutes total. Arrange tomatoes and their juices and sliced garlic all around roast and bring to a simmer. Make sure roast is turned fat side up, cover pot, and transfer to oven. Roast until a skewer easily passes through meat (a thermometer inserted into the center should register 200–205°F), 4–5 hours. Keep covered and let rest in pot 30 minutes.Transfer pork roast to a cutting board and remove kitchen twine. Gently mash sauce in pot with a spoon or a potato masher (simmer it gently to thicken, if desired). Taste ragù and season with salt if needed. Slice pork 1\" thick.Meanwhile, cook pasta in a large pot of boiling salted water, stirring occasionally, until al dente; drain.Spoon pasta into a serving dish and top with some ragù; toss to coat. Sprinkle with finely grated Parmesan. Transfer pork to a platter; spoon remaining ragù over.Pork can be stuffed and rolled 2 days before roasting; cover and chill. Pork can be roasted 3 days ahead; let cool, then cover and chill. Reheat gently in sauce before serving.',\n",
       " 'reviews': '0',\n",
       " 'scores': {'bestrating': '4', 'makeitagainscore': '0%', 'rating': '0'},\n",
       " 'tags': ['Bon Appétit',\n",
       "  'Dinner',\n",
       "  'Italian',\n",
       "  'Pork',\n",
       "  'Garlic',\n",
       "  'Herb',\n",
       "  'Parmesan',\n",
       "  'Tomato',\n",
       "  'Pasta',\n",
       "  'Braise',\n",
       "  'Roast'],\n",
       " 'title': 'Pork Shoulder Braciola with Ragù '}"
      ]
     },
     "execution_count": 237,
     "metadata": {},
     "output_type": "execute_result"
    }
   ],
   "source": [
    "recepie"
   ]
  },
  {
   "cell_type": "code",
   "execution_count": 244,
   "metadata": {},
   "outputs": [
    {
     "data": {
      "text/plain": [
       "{'ingredients': ['1 (4-lb.) piece skinless, boneless pork shoulder (Boston butt)',\n",
       "  'Kosher salt',\n",
       "  '2 large eggs, beaten to blend',\n",
       "  '1 head of garlic, cloves separated, half finely chopped, half thinly sliced',\n",
       "  '1/2 cup panko (Japanese breadcrumbs)',\n",
       "  '1/3 cup chopped parsley',\n",
       "  '1 Tbsp. chopped rosemary',\n",
       "  '1 tsp. freshly ground black pepper',\n",
       "  '1/2 tsp. crushed red pepper flakes',\n",
       "  '3 oz. Parmesan, coarsely grated, plus finely grated for serving',\n",
       "  '2 Tbsp. extra-virgin olive oil',\n",
       "  '2 (28-oz.) cans whole peeled tomatoes',\n",
       "  '1 lb. pasta (any shape)'],\n",
       " 'preparation': 'Preheat oven to 225°F. Place pork shoulder, fat side down, on a cutting board with a short end facing you. Holding a long, sharp knife about 1\" above cutting board, make a shallow cut along the entire length of a long side of roast. Continue cutting deeper into the roast, lifting and unfurling meat with your free hand, until it lies flat (be careful not to cut all the way through). Season generously on both sides with salt.Mix eggs, chopped garlic, panko, parsley, rosemary, black pepper, red pepper flakes, and 3 oz. Parmesan in a medium bowl. Keeping fattier side of pork shoulder facing downward, smear filling all over top side. Roll up roast and tie closed in 3–4 places with kitchen twine.Heat oil in a large Dutch oven or other heavy pot over medium-high. Sear pork roast until browned all over, 10–12 minutes total. Arrange tomatoes and their juices and sliced garlic all around roast and bring to a simmer. Make sure roast is turned fat side up, cover pot, and transfer to oven. Roast until a skewer easily passes through meat (a thermometer inserted into the center should register 200–205°F), 4–5 hours. Keep covered and let rest in pot 30 minutes.Transfer pork roast to a cutting board and remove kitchen twine. Gently mash sauce in pot with a spoon or a potato masher (simmer it gently to thicken, if desired). Taste ragù and season with salt if needed. Slice pork 1\" thick.Meanwhile, cook pasta in a large pot of boiling salted water, stirring occasionally, until al dente; drain.Spoon pasta into a serving dish and top with some ragù; toss to coat. Sprinkle with finely grated Parmesan. Transfer pork to a platter; spoon remaining ragù over.Pork can be stuffed and rolled 2 days before roasting; cover and chill. Pork can be roasted 3 days ahead; let cool, then cover and chill. Reheat gently in sauce before serving.',\n",
       " 'reviews': '0',\n",
       " 'scores': {'bestrating': '4', 'makeitagainscore': '0%', 'rating': '0'},\n",
       " 'tags': ['Bon Appétit',\n",
       "  'Dinner',\n",
       "  'Italian',\n",
       "  'Pork',\n",
       "  'Garlic',\n",
       "  'Herb',\n",
       "  'Parmesan',\n",
       "  'Tomato',\n",
       "  'Pasta',\n",
       "  'Braise',\n",
       "  'Roast'],\n",
       " 'title': 'Pork Shoulder Braciola with Ragù '}"
      ]
     },
     "execution_count": 244,
     "metadata": {},
     "output_type": "execute_result"
    }
   ],
   "source": [
    "recepie"
   ]
  },
  {
   "cell_type": "code",
   "execution_count": null,
   "metadata": {},
   "outputs": [],
   "source": []
  },
  {
   "cell_type": "code",
   "execution_count": null,
   "metadata": {},
   "outputs": [],
   "source": []
  }
 ],
 "metadata": {
  "kernelspec": {
   "display_name": "Python 3",
   "language": "python",
   "name": "python3"
  },
  "language_info": {
   "codemirror_mode": {
    "name": "ipython",
    "version": 3
   },
   "file_extension": ".py",
   "mimetype": "text/x-python",
   "name": "python",
   "nbconvert_exporter": "python",
   "pygments_lexer": "ipython3",
   "version": "3.6.2"
  }
 },
 "nbformat": 4,
 "nbformat_minor": 2
}
