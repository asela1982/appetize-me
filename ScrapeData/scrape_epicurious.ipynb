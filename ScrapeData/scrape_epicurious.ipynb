{
 "cells": [
  {
   "cell_type": "code",
   "execution_count": 1,
   "metadata": {},
   "outputs": [],
   "source": [
    "# load neceassy libraries\n",
    "import time\n",
    "import json\n",
    "from bs4 import BeautifulSoup  # import beautifulsoup\n",
    "from splinter import Browser  # import splinter\n",
    "\n",
    "executable_path = {'executable_path':'/usr/local/bin/chromedriver'}\n",
    "browser = Browser('chrome', **executable_path)"
   ]
  },
  {
   "cell_type": "code",
   "execution_count": 41,
   "metadata": {},
   "outputs": [],
   "source": [
    "# prepare a template to scrape a page: https://www.epicurious.com/recipes/food/views/hot-cocoa-cake\n",
    "url = 'https://www.epicurious.com/recipes/food/views/short-ribs-slow-roasted-in-coconut-milk'\n",
    "browser.visit(url)\n",
    "time.sleep(1)"
   ]
  },
  {
   "cell_type": "code",
   "execution_count": 42,
   "metadata": {},
   "outputs": [],
   "source": [
    "# scrape page into soup\n",
    "html = browser.html\n",
    "soup = BeautifulSoup(html, 'html.parser')"
   ]
  },
  {
   "cell_type": "code",
   "execution_count": 43,
   "metadata": {},
   "outputs": [
    {
     "data": {
      "text/plain": [
       "'Place a rack in middle of the oven; preheat to 250°F. Spread out coconut flakes on a rimmed baking sheet and toast until golden, 10–15 minutes. Let cool.Meanwhile, season beef generously with salt and set aside. Trim top three-quarters from lemongrass stalks and place top portions in a large cast-iron skillet or heavy roasting pan. Peel outer layers from root end and finely grate into a blender. Add shallot, garlic, chiles, ginger, coconut milk, and curry powder; purée until smooth.Arrange short ribs, bone side up, in skillet; pour purée over. Roast until meat is halfway to tender and liquid is reduced by two-thirds (it will look slightly oily and broken, and this is exactly what you want), 3–3 1/2 hours. Turn ribs onto their sides and continue to roast, adding water by 1/4-cupfuls if liquid in skillet looks in danger of burning or getting very dark, until meat is fork-tender and liquid is a jammy glaze, 2–2 1/2 hours longer.Toss coconut, cilantro, lime juice, and a pinch of salt in a small bowl. Top short ribs with gremolata and serve with rice.'"
      ]
     },
     "execution_count": 43,
     "metadata": {},
     "output_type": "execute_result"
    }
   ],
   "source": [
    "# extract preparation text\n",
    "\n",
    "preparation = soup.find_all(\"li\", class_=\"preparation-step\")\n",
    "preparation_text = []\n",
    "\n",
    "for steps in preparation:\n",
    "    text = steps.text.strip()\n",
    "    preparation_text.append(text)\n",
    "    \n",
    "preparation_text = ''.join(preparation_text)\n",
    "preparation_text"
   ]
  },
  {
   "cell_type": "code",
   "execution_count": 44,
   "metadata": {},
   "outputs": [
    {
     "data": {
      "text/plain": [
       "'3'"
      ]
     },
     "execution_count": 44,
     "metadata": {},
     "output_type": "execute_result"
    }
   ],
   "source": [
    "# \n",
    "\n",
    "review_rating = soup.find(\"meta\", attrs={\"itemprop\": \"ratingValue\"})['content']\n",
    "review_rating"
   ]
  },
  {
   "cell_type": "code",
   "execution_count": 45,
   "metadata": {},
   "outputs": [
    {
     "data": {
      "text/plain": [
       "'4'"
      ]
     },
     "execution_count": 45,
     "metadata": {},
     "output_type": "execute_result"
    }
   ],
   "source": [
    "# extract best rating\n",
    "best_rating = soup.find(\"meta\", attrs={\"itemprop\": \"bestRating\"})['content']\n",
    "best_rating"
   ]
  },
  {
   "cell_type": "code",
   "execution_count": 46,
   "metadata": {},
   "outputs": [
    {
     "data": {
      "text/plain": [
       "'1'"
      ]
     },
     "execution_count": 46,
     "metadata": {},
     "output_type": "execute_result"
    }
   ],
   "source": [
    "# extract number of reviews\n",
    "number_of_reviews = soup.find(\"span\", class_=\"reviews-count\").text\n",
    "number_of_reviews"
   ]
  },
  {
   "cell_type": "code",
   "execution_count": 47,
   "metadata": {},
   "outputs": [
    {
     "data": {
      "text/plain": [
       "'Short Ribs Slow-Roasted in Coconut Milk '"
      ]
     },
     "execution_count": 47,
     "metadata": {},
     "output_type": "execute_result"
    }
   ],
   "source": [
    "# extract the title of the recepie\n",
    "title_text = soup.find(\"div\", class_=\"title-source\").find('h1').text\n",
    "title_text"
   ]
  },
  {
   "cell_type": "code",
   "execution_count": 48,
   "metadata": {},
   "outputs": [
    {
     "data": {
      "text/plain": [
       "'100%'"
      ]
     },
     "execution_count": 48,
     "metadata": {},
     "output_type": "execute_result"
    }
   ],
   "source": [
    "# extrac the make_it_again score\n",
    "make_it_again = soup.find(\"div\", class_=\"prepare-again-rating\").find('span').text\n",
    "make_it_again"
   ]
  },
  {
   "cell_type": "code",
   "execution_count": 49,
   "metadata": {},
   "outputs": [
    {
     "data": {
      "text/plain": [
       "['Bon Appétit',\n",
       " 'Dinner',\n",
       " 'Beef Rib',\n",
       " 'Beef',\n",
       " 'Coconut',\n",
       " 'Lemongrass',\n",
       " 'Garlic',\n",
       " 'Indonesian',\n",
       " 'Ginger',\n",
       " 'Cilantro',\n",
       " 'Curry',\n",
       " 'Southeast Asian',\n",
       " 'Roast']"
      ]
     },
     "execution_count": 49,
     "metadata": {},
     "output_type": "execute_result"
    }
   ],
   "source": [
    "# extract the tags\n",
    "tags = soup.find(\"dl\",class_='tags').find_all('dt')\n",
    "tags_list = []\n",
    "\n",
    "for tag in tags:\n",
    "    tags_list.append(tag.text)\n",
    "    \n",
    "tags_list"
   ]
  },
  {
   "cell_type": "code",
   "execution_count": 50,
   "metadata": {},
   "outputs": [
    {
     "data": {
      "text/plain": [
       "['1/3 cup unsweetened coconut flakes',\n",
       " '3 lb. (1 1/2–2\"-thick) cross-cut beef short ribs (flanken style; well-marbled works best)',\n",
       " 'Kosher salt',\n",
       " '2 lemongrass stalks',\n",
       " '1 shallot, chopped',\n",
       " '4 garlic cloves',\n",
       " '2 red Fresno chiles or jalapeños, seeds removed',\n",
       " '1 (1\") piece ginger, peeled, finely grated',\n",
       " '1 (13.5-oz.) can unsweetened coconut milk',\n",
       " '1 Tbsp. curry powder',\n",
       " '1 cup cilantro leaves with tender stems',\n",
       " '2 Tbsp. fresh lime juice',\n",
       " 'Steamed white rice (for serving)']"
      ]
     },
     "execution_count": 50,
     "metadata": {},
     "output_type": "execute_result"
    }
   ],
   "source": [
    "# extract the list of INGREDIENTS\n",
    "ingredients = soup.find_all(\"li\", class_=\"ingredient\")\n",
    "ingredients_list = []\n",
    "for item in ingredients:\n",
    "    ingredients_list.append(item.text)\n",
    "ingredients_list"
   ]
  },
  {
   "cell_type": "code",
   "execution_count": 51,
   "metadata": {},
   "outputs": [],
   "source": [
    "# extract the image src\n",
    "img_src = soup.find('div', class_=\"recipe-image-container\")\n",
    "img_src = img_src.find('div', class_=\"social-img\")\n",
    "img_src = img_src.find('picture',class_='photo-wrap')\n",
    "img_src = img_src.find(\"img\").attrs['srcset']"
   ]
  },
  {
   "cell_type": "code",
   "execution_count": 52,
   "metadata": {},
   "outputs": [],
   "source": [
    "recepie = {\"ingredients\": ingredients_list, \n",
    "           \"tags\": tags_list, \n",
    "           \"preparation\": preparation_text,\n",
    "           \"title\": title_text, \n",
    "           \"scores\":{\n",
    "           \"rating\": review_rating, \n",
    "           \"bestrating\": best_rating, \n",
    "           \"makeitagainscore\": make_it_again\n",
    "           },\n",
    "           \"reviews\":number_of_reviews,\n",
    "           \"imagesrc\":img_src\n",
    "          }"
   ]
  },
  {
   "cell_type": "code",
   "execution_count": 53,
   "metadata": {},
   "outputs": [
    {
     "data": {
      "text/plain": [
       "{'imagesrc': 'https://assets.epicurious.com/photos/5aa0123f8a0b867cab500b0f/6:4/w_274%2Ch_169/short-ribs-slow-roasted-in-coconut-milk-recipe-BA-030718.jpg',\n",
       " 'ingredients': ['1/3 cup unsweetened coconut flakes',\n",
       "  '3 lb. (1 1/2–2\"-thick) cross-cut beef short ribs (flanken style; well-marbled works best)',\n",
       "  'Kosher salt',\n",
       "  '2 lemongrass stalks',\n",
       "  '1 shallot, chopped',\n",
       "  '4 garlic cloves',\n",
       "  '2 red Fresno chiles or jalapeños, seeds removed',\n",
       "  '1 (1\") piece ginger, peeled, finely grated',\n",
       "  '1 (13.5-oz.) can unsweetened coconut milk',\n",
       "  '1 Tbsp. curry powder',\n",
       "  '1 cup cilantro leaves with tender stems',\n",
       "  '2 Tbsp. fresh lime juice',\n",
       "  'Steamed white rice (for serving)'],\n",
       " 'preparation': 'Place a rack in middle of the oven; preheat to 250°F. Spread out coconut flakes on a rimmed baking sheet and toast until golden, 10–15 minutes. Let cool.Meanwhile, season beef generously with salt and set aside. Trim top three-quarters from lemongrass stalks and place top portions in a large cast-iron skillet or heavy roasting pan. Peel outer layers from root end and finely grate into a blender. Add shallot, garlic, chiles, ginger, coconut milk, and curry powder; purée until smooth.Arrange short ribs, bone side up, in skillet; pour purée over. Roast until meat is halfway to tender and liquid is reduced by two-thirds (it will look slightly oily and broken, and this is exactly what you want), 3–3 1/2 hours. Turn ribs onto their sides and continue to roast, adding water by 1/4-cupfuls if liquid in skillet looks in danger of burning or getting very dark, until meat is fork-tender and liquid is a jammy glaze, 2–2 1/2 hours longer.Toss coconut, cilantro, lime juice, and a pinch of salt in a small bowl. Top short ribs with gremolata and serve with rice.',\n",
       " 'reviews': '1',\n",
       " 'scores': {'bestrating': '4', 'makeitagainscore': '100%', 'rating': '3'},\n",
       " 'tags': ['Bon Appétit',\n",
       "  'Dinner',\n",
       "  'Beef Rib',\n",
       "  'Beef',\n",
       "  'Coconut',\n",
       "  'Lemongrass',\n",
       "  'Garlic',\n",
       "  'Indonesian',\n",
       "  'Ginger',\n",
       "  'Cilantro',\n",
       "  'Curry',\n",
       "  'Southeast Asian',\n",
       "  'Roast'],\n",
       " 'title': 'Short Ribs Slow-Roasted in Coconut Milk '}"
      ]
     },
     "execution_count": 53,
     "metadata": {},
     "output_type": "execute_result"
    }
   ],
   "source": [
    "recepie"
   ]
  },
  {
   "cell_type": "code",
   "execution_count": null,
   "metadata": {},
   "outputs": [],
   "source": []
  }
 ],
 "metadata": {
  "kernelspec": {
   "display_name": "Python 3",
   "language": "python",
   "name": "python3"
  },
  "language_info": {
   "codemirror_mode": {
    "name": "ipython",
    "version": 3
   },
   "file_extension": ".py",
   "mimetype": "text/x-python",
   "name": "python",
   "nbconvert_exporter": "python",
   "pygments_lexer": "ipython3",
   "version": "3.6.2"
  }
 },
 "nbformat": 4,
 "nbformat_minor": 2
}
