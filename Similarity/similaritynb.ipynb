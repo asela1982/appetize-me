{
 "cells": [
  {
   "cell_type": "markdown",
   "metadata": {},
   "source": [
    "#### merge urls to recipe dataframe"
   ]
  },
  {
   "cell_type": "code",
   "execution_count": 1,
   "metadata": {},
   "outputs": [],
   "source": [
    "# import relevant libraries\n",
    "import pandas as pd\n",
    "import numpy as np\n",
    "from collections import Counter\n",
    "import nltk \n",
    "from nltk.tokenize import sent_tokenize, word_tokenize\n",
    "from nltk.corpus import stopwords\n",
    "import ast\n",
    "import re\n",
    "import math"
   ]
  },
  {
   "cell_type": "code",
   "execution_count": 2,
   "metadata": {},
   "outputs": [],
   "source": [
    "# recipes dataframes\n",
    "# there is a mismatch in df3_urls and df3_recipes 2430 vs 1022\n",
    "df1 = pd.read_csv('../ScrapeData/csv_recipes/recipe_df1.csv')\n",
    "df2 = pd.read_csv('../ScrapeData/csv_recipes/recipe_df2.csv')\n",
    "df3 = pd.read_csv('../ScrapeData/csv_recipes/recipe_df3.csv')\n",
    "df4 = pd.read_csv('../ScrapeData/csv_recipes/recipe_df4.csv')\n",
    "df5 = pd.read_csv('../ScrapeData/csv_recipes/recipe_df5.csv')\n",
    "df6 = pd.read_csv('../ScrapeData/csv_recipes/recipe_df6.csv')\n",
    "df7 = pd.read_csv('../ScrapeData/csv_recipes/recipe_df7.csv')\n",
    "df8 = pd.read_csv('../ScrapeData/csv_recipes/recipe_df8.csv')"
   ]
  },
  {
   "cell_type": "code",
   "execution_count": 3,
   "metadata": {
    "scrolled": true
   },
   "outputs": [],
   "source": [
    "# concat the dataframes\n",
    "df_recipes = pd.concat([df1,df2,df3,df4,df5,df6,df7,df8])\n",
    "df_recipes = df_recipes.drop(['Unnamed: 0','id'], axis=1) #drop columns not required"
   ]
  },
  {
   "cell_type": "code",
   "execution_count": 4,
   "metadata": {},
   "outputs": [],
   "source": [
    "df_recipes=df_recipes.reset_index(drop='index')"
   ]
  },
  {
   "cell_type": "code",
   "execution_count": 5,
   "metadata": {},
   "outputs": [],
   "source": [
    "# url dataframes\n",
    "df1_url = pd.read_csv('../ScrapeData/csv_urls/urls_df1.csv')\n",
    "df2_url = pd.read_csv('../ScrapeData/csv_urls/urls_df2.csv')\n",
    "df3_url = pd.read_csv('../ScrapeData/csv_urls/urls_df3.csv')\n",
    "df3_url = df3_url.iloc[:1022,:]\n",
    "df4_url = pd.read_csv('../ScrapeData/csv_urls/urls_df4.csv')\n",
    "df5_url = pd.read_csv('../ScrapeData/csv_urls/urls_df5.csv')\n",
    "df6_url = pd.read_csv('../ScrapeData/csv_urls/urls_df6.csv')"
   ]
  },
  {
   "cell_type": "code",
   "execution_count": 6,
   "metadata": {},
   "outputs": [],
   "source": [
    "# concat the dataframes url and recipes\n",
    "df_url = pd.concat([df1_url,df2_url, df3_url, df4_url,df5_url,df6_url])\n",
    "df_url = df_url.drop(['Unnamed: 0'], axis=1) #drop columns not required"
   ]
  },
  {
   "cell_type": "code",
   "execution_count": 7,
   "metadata": {},
   "outputs": [],
   "source": [
    "df_url = df_url.reset_index(drop='index')"
   ]
  },
  {
   "cell_type": "code",
   "execution_count": 8,
   "metadata": {},
   "outputs": [],
   "source": [
    "# merge df_url and df_recipes\n",
    "df = pd.concat([df_url,df_recipes],axis=1)"
   ]
  },
  {
   "cell_type": "markdown",
   "metadata": {},
   "source": [
    "#### preprocess the dataframe"
   ]
  },
  {
   "cell_type": "code",
   "execution_count": 9,
   "metadata": {},
   "outputs": [],
   "source": [
    "df['makeitagainscore'] = pd.to_numeric(df['makeitagainscore'].str.replace('%', ''))"
   ]
  },
  {
   "cell_type": "code",
   "execution_count": 10,
   "metadata": {},
   "outputs": [],
   "source": [
    "# drop rows if there are null value records\n",
    "df.dropna(axis=0, how='any', inplace=True,subset=['bestrating','ingredients',\\\n",
    "                            'makeitagainscore','preparation','rating','reviews','tags','title'])"
   ]
  },
  {
   "cell_type": "code",
   "execution_count": 11,
   "metadata": {},
   "outputs": [],
   "source": [
    "df[\"ingredients_refined\"] = \"\"\n",
    "for index, row in df.iterrows():\n",
    "    ingredients_items = ast.literal_eval(row[\"ingredients\"])\n",
    "    df.set_value(index,'ingredients_refined',ingredients_items)"
   ]
  },
  {
   "cell_type": "code",
   "execution_count": 12,
   "metadata": {},
   "outputs": [],
   "source": [
    "df[\"tags_refined\"] = \"\"\n",
    "for index, row in df.iterrows():\n",
    "    tag_items = ast.literal_eval(row[\"tags\"])\n",
    "    df.set_value(index,'tags_refined',tag_items)"
   ]
  },
  {
   "cell_type": "markdown",
   "metadata": {},
   "source": [
    "#### extract ingrediants"
   ]
  },
  {
   "cell_type": "code",
   "execution_count": 13,
   "metadata": {},
   "outputs": [],
   "source": [
    "# list of prepositions\n",
    "prepositions = [\"A\", \"An\", \"a\", \"about\", \"above\", \"above\", \"across\", \"additional\",\"after\", \"afterwards\", \"again\", \"against\", \"all\", \"almost\", \"alone\", \"along\", \"already\", \"also\",\"although\",\"always\",\"am\",\"among\", \"amongst\", \"amoungst\", \"amount\",  \"an\", \"and\", \"another\", \"any\",\"anyhow\",\"anyone\",\"anything\",\"anyway\", \"anywhere\", \"are\", \"around\", \"as\",  \"at\", \"back\",\"be\",\"became\", \"because\",\"become\",\"becomes\", \"becoming\", \"been\", \"before\", \"beforehand\", \"behind\", \"being\", \"below\", \"beside\", \"besides\", \"between\", \"beyond\", \"bill\", \"both\", \"bottom\",\"but\", \"by\", \"call\", \"can\", \"cannot\", \"cant\", \"co\", \"con\", \"could\", \"couldnt\", \"cry\", \"de\", \"describe\", \"detail\", \"do\", \"done\", \"down\", \"due\", \"during\", \"each\", \"eg\", \"eight\", \"either\", \"eleven\",\"else\", \"elsewhere\", \"empty\", \"enough\", \"etc\", \"even\", \"ever\", \"every\", \"everyone\", \"everything\", \"everywhere\", \"except\", \"few\", \"fifteen\", \"fify\", \"fill\", \"find\", \"fire\", \"first\", \"five\", \"for\", \"former\", \"formerly\", \"forty\", \"found\", \"four\", \"from\", \"front\", \"full\", \"further\", \"get\", \"give\", \"go\", \"had\", \"has\", \"hasnt\", \"have\", \"he\", \"hence\", \"her\", \"here\", \"hereafter\", \"hereby\", \"herein\", \"hereupon\", \"hers\", \"herself\", \"him\", \"himself\", \"his\", \"how\", \"however\", \"hundred\", \"ie\", \"if\", \"in\", \"inc\", \"indeed\", \"interest\", \"into\", \"is\", \"it\", \"its\", \"itself\", \"keep\", \"last\", \"latter\", \"latterly\", \"least\", \"less\", \"ltd\", \"made\", \"many\", \"may\", \"me\", \"meanwhile\", \"might\", \"mill\", \"mine\", \"more\", \"moreover\", \"most\", \"mostly\", \"move\", \"much\", \"must\", \"my\", \"myself\", \"name\", \"namely\", \"neither\", \"never\", \"nevertheless\", \"next\", \"nine\", \"no\", \"nobody\", \"none\", \"nor\", \"not\", \"nothing\", \"now\", \"nowhere\", \"of\", \"off\", \"often\", \"on\", \"once\", \"one\", \"only\", \"onto\", \"or\", \"other\", \"others\", \"otherwise\", \"our\", \"ours\", \"ourselves\", \"out\", \"over\", \"own\",\"part\", \"per\", \"perhaps\", \"please\", \"plus\", \"put\", \"rather\", \"re\", \"same\", \"see\", \"seem\", \"seemed\", \"seeming\", \"seems\", \"serious\", \"several\", \"she\", \"should\", \"show\", \"side\", \"since\", \"sincere\", \"six\", \"sixty\", \"so\", \"some\", \"somehow\", \"someone\", \"something\", \"sometime\", \"sometimes\", \"somewhere\", \"still\", \"such\", \"system\", \"take\", \"ten\", \"than\", \"that\", \"the\", \"their\", \"them\", \"themselves\", \"then\", \"thence\", \"there\", \"thereafter\", \"thereby\", \"therefore\", \"therein\", \"thereupon\", \"these\", \"they\", \"thick\", \"thickly\", \"thin\", \"thinly\", \"third\", \"this\", \"those\", \"though\", \"three\", \"through\", \"throughout\", \"thru\", \"thus\", \"to\", \"together\", \"too\", \"top\", \"toward\", \"towards\", \"twelve\", \"twenty\", \"two\", \"un\", \"under\", \"until\", \"up\", \"upon\", \"us\", \"very\", \"via\", \"was\", \"we\", \"well\", \"were\", \"what\", \"whatever\", \"when\", \"whence\", \"whenever\", \"where\", \"whereafter\", \"whereas\", \"whereby\", \"wherein\", \"whereupon\", \"wherever\", \"whether\", \"which\", \"while\", \"whither\", \"who\", \"whoever\", \"whole\", \"whom\", \"whose\", \"why\", \"will\", \"with\", \"within\", \"without\", \"would\", \"yet\", \"you\", \"your\", \"yours\", \"yourself\", \"yourselves\", \"the\"]"
   ]
  },
  {
   "cell_type": "code",
   "execution_count": 14,
   "metadata": {},
   "outputs": [],
   "source": [
    "# Common measurement words and hard-coded words.\n",
    "measurement_words = ['pound',\n",
    " 'cubes',\n",
    "  'cups',\n",
    "  'cut',\n",
    " 'kilogram',\n",
    " 'ounce','-ounce',\n",
    " 'gram',\n",
    " 'cup',\n",
    " 'spoon',\n",
    " 'quart',\n",
    " 'teaspoon','teaspoons',\n",
    " 'smidgen',\n",
    " 'drop',\n",
    " 'gallon',\n",
    " 'dash',\n",
    " 'handful',\n",
    " 'scoop',\n",
    " 'bowl',\n",
    " 'inch',\n",
    " '-inch',\n",
    " 'pinch',\n",
    " 'liter',\n",
    " 'milliliter',\n",
    " 'tablespoon', 'tablespoons',\n",
    " 'fluid',\n",
    " 'bottle',\n",
    " 'tad',\n",
    " 'pint', 'Tbsp', 'tsp','lb']"
   ]
  },
  {
   "cell_type": "code",
   "execution_count": 15,
   "metadata": {},
   "outputs": [],
   "source": [
    "# create a list of stopwords, prepositions, and measurement words\n",
    "filtered = nltk.corpus.stopwords.words('english')\n",
    "for word in prepositions:\n",
    "    filtered.append(word)\n",
    "for word in measurement_words:\n",
    "    filtered.append(word)"
   ]
  },
  {
   "cell_type": "code",
   "execution_count": 16,
   "metadata": {},
   "outputs": [],
   "source": [
    "df[\"ingredient_list\"] = \"\"\n",
    "for index, row in df.iterrows():\n",
    "    ingredients_items = ast.literal_eval(row[\"ingredients\"])\n",
    "\n",
    "    ingredients = []\n",
    "    pattern = \"([^\\d\\\\.\\\\,\\\\\\;\\\\*\\\\]\\\\[\\\\%\\\\½\\\\<\\\\>\\\\:\\\\°\\\\?\\\\�\\\\}\\\\{\\)\\(\\\"\\/\\s]+)\"\n",
    "    for ingredient in ingredients_items:\n",
    "        p = re.compile(pattern)\n",
    "        result = p.findall(ingredient) \n",
    "        ingredients.append(result)\n",
    "        \n",
    "        \n",
    "    single_ingr = sum(ingredients, [])\n",
    "    recipe_ingr = list(set(single_ingr))\n",
    "\n",
    "\n",
    "    filtered_ingr = []\n",
    "    for item in recipe_ingr:\n",
    "        if item not in filtered:\n",
    "            filtered_ingr.append(item)\n",
    "    df.set_value(index,\"ingredient_list\",filtered_ingr)"
   ]
  },
  {
   "cell_type": "code",
   "execution_count": 17,
   "metadata": {},
   "outputs": [],
   "source": [
    "#export the refined dataframe to a csv\n",
    "df.to_csv('df_similaritly.csv')"
   ]
  },
  {
   "cell_type": "markdown",
   "metadata": {},
   "source": [
    "#### similarity script"
   ]
  },
  {
   "cell_type": "code",
   "execution_count": 18,
   "metadata": {},
   "outputs": [
    {
     "data": {
      "text/html": [
       "<div>\n",
       "<style>\n",
       "    .dataframe thead tr:only-child th {\n",
       "        text-align: right;\n",
       "    }\n",
       "\n",
       "    .dataframe thead th {\n",
       "        text-align: left;\n",
       "    }\n",
       "\n",
       "    .dataframe tbody tr th {\n",
       "        vertical-align: top;\n",
       "    }\n",
       "</style>\n",
       "<table border=\"1\" class=\"dataframe\">\n",
       "  <thead>\n",
       "    <tr style=\"text-align: right;\">\n",
       "      <th></th>\n",
       "      <th>batch</th>\n",
       "      <th>urls</th>\n",
       "      <th>bestrating</th>\n",
       "      <th>imagesrc</th>\n",
       "      <th>ingredients</th>\n",
       "      <th>makeitagainscore</th>\n",
       "      <th>preparation</th>\n",
       "      <th>rating</th>\n",
       "      <th>reviews</th>\n",
       "      <th>tags</th>\n",
       "      <th>title</th>\n",
       "      <th>ingredients_refined</th>\n",
       "      <th>tags_refined</th>\n",
       "      <th>ingredient_list</th>\n",
       "    </tr>\n",
       "  </thead>\n",
       "  <tbody>\n",
       "    <tr>\n",
       "      <th>0</th>\n",
       "      <td>0-249</td>\n",
       "      <td>https://www.epicurious.com/recipes/food/views/...</td>\n",
       "      <td>4.0</td>\n",
       "      <td>https://assets.epicurious.com/photos/56df1d8cb...</td>\n",
       "      <td>['2 cups whole-wheat flour', '2 cups all-purpo...</td>\n",
       "      <td>90.0</td>\n",
       "      <td>Put oven rack in middle position and preheat o...</td>\n",
       "      <td>3.5</td>\n",
       "      <td>50.0</td>\n",
       "      <td>['Irish', 'Bread', 'Bake', 'Vegetarian', 'Quic...</td>\n",
       "      <td>Irish Brown Bread</td>\n",
       "      <td>[2 cups whole-wheat flour, 2 cups all-purpose ...</td>\n",
       "      <td>[Irish, Bread, Bake, Vegetarian, Quick &amp; Easy,...</td>\n",
       "      <td>[baking, soda, cream, stick, flour, germ, whea...</td>\n",
       "    </tr>\n",
       "    <tr>\n",
       "      <th>1</th>\n",
       "      <td>0-249</td>\n",
       "      <td>https://www.epicurious.com/recipes/food/views/...</td>\n",
       "      <td>4.0</td>\n",
       "      <td>https://assets.epicurious.com/photos/5a78b5919...</td>\n",
       "      <td>['1 Tbsp. crushed red pepper flakes', '1 Tbsp....</td>\n",
       "      <td>91.0</td>\n",
       "      <td>Coarsely grind red pepper flakes, peppercorns,...</td>\n",
       "      <td>3.0</td>\n",
       "      <td>11.0</td>\n",
       "      <td>['Pepper', 'Fennel', 'Pork', 'Garlic', 'White ...</td>\n",
       "      <td>Slow-Cooked Pork with Chickpeas</td>\n",
       "      <td>[1 Tbsp. crushed red pepper flakes, 1 Tbsp. wh...</td>\n",
       "      <td>[Pepper, Fennel, Pork, Garlic, White Wine, Oni...</td>\n",
       "      <td>[leaves, wine, chickpeas, dry, oil, trimmed, p...</td>\n",
       "    </tr>\n",
       "    <tr>\n",
       "      <th>2</th>\n",
       "      <td>0-249</td>\n",
       "      <td>https://www.epicurious.com/recipes/food/views/...</td>\n",
       "      <td>4.0</td>\n",
       "      <td>https://assets.epicurious.com/photos/5a68f33b3...</td>\n",
       "      <td>['1/4 cup extra-virgin olive oil', '12 oz. dry...</td>\n",
       "      <td>67.0</td>\n",
       "      <td>Pour oil into cooker insert and select “Sauté....</td>\n",
       "      <td>2.0</td>\n",
       "      <td>15.0</td>\n",
       "      <td>['Instant Pot', 'Kale', 'Potato', 'Onion', 'Ga...</td>\n",
       "      <td>Instant Pot Caldo Verde</td>\n",
       "      <td>[1/4 cup extra-virgin olive oil, 12 oz. dry-cu...</td>\n",
       "      <td>[Instant Pot, Kale, Potato, Onion, Garlic, Sou...</td>\n",
       "      <td>[leaves, curly, stems, oil, Spanish, black, re...</td>\n",
       "    </tr>\n",
       "    <tr>\n",
       "      <th>3</th>\n",
       "      <td>0-249</td>\n",
       "      <td>https://www.epicurious.com/recipes/food/views/...</td>\n",
       "      <td>4.0</td>\n",
       "      <td>https://assets.epicurious.com/photos/5a9971b01...</td>\n",
       "      <td>['1 tablespoon olive oil', '2 garlic cloves, t...</td>\n",
       "      <td>81.0</td>\n",
       "      <td>Preheat oven to 350°F. Heat oil in a large ski...</td>\n",
       "      <td>3.5</td>\n",
       "      <td>26.0</td>\n",
       "      <td>['Side', 'Bake', 'Christmas', 'Easter', 'Thank...</td>\n",
       "      <td>Parmesan Bread Pudding with Broccoli Rabe and ...</td>\n",
       "      <td>[1 tablespoon olive oil, 2 garlic cloves, thin...</td>\n",
       "      <td>[Side, Bake, Christmas, Easter, Thanksgiving, ...</td>\n",
       "      <td>[eggs, bread, oil, trimmed, milk, black, flake...</td>\n",
       "    </tr>\n",
       "    <tr>\n",
       "      <th>4</th>\n",
       "      <td>0-249</td>\n",
       "      <td>https://www.epicurious.com/recipes/food/views/...</td>\n",
       "      <td>4.0</td>\n",
       "      <td>https://assets.epicurious.com/photos/54b71d9a2...</td>\n",
       "      <td>['1 1/2 pounds boneless, skinless chicken brea...</td>\n",
       "      <td>96.0</td>\n",
       "      <td>Place chicken, garlic, bay leaves, allspice, a...</td>\n",
       "      <td>3.5</td>\n",
       "      <td>23.0</td>\n",
       "      <td>['Asian', 'Soup/Stew', 'Chicken', 'Low Carb', ...</td>\n",
       "      <td>Brothy Poached Chicken with Mushrooms and Fres...</td>\n",
       "      <td>[1 1/2 pounds boneless, skinless chicken breas...</td>\n",
       "      <td>[Asian, Soup/Stew, Chicken, Low Carb, Low Fat,...</td>\n",
       "      <td>[leaves, vinegar, ounces, maitake, sprigs, chi...</td>\n",
       "    </tr>\n",
       "  </tbody>\n",
       "</table>\n",
       "</div>"
      ],
      "text/plain": [
       "   batch                                               urls  bestrating  \\\n",
       "0  0-249  https://www.epicurious.com/recipes/food/views/...         4.0   \n",
       "1  0-249  https://www.epicurious.com/recipes/food/views/...         4.0   \n",
       "2  0-249  https://www.epicurious.com/recipes/food/views/...         4.0   \n",
       "3  0-249  https://www.epicurious.com/recipes/food/views/...         4.0   \n",
       "4  0-249  https://www.epicurious.com/recipes/food/views/...         4.0   \n",
       "\n",
       "                                            imagesrc  \\\n",
       "0  https://assets.epicurious.com/photos/56df1d8cb...   \n",
       "1  https://assets.epicurious.com/photos/5a78b5919...   \n",
       "2  https://assets.epicurious.com/photos/5a68f33b3...   \n",
       "3  https://assets.epicurious.com/photos/5a9971b01...   \n",
       "4  https://assets.epicurious.com/photos/54b71d9a2...   \n",
       "\n",
       "                                         ingredients  makeitagainscore  \\\n",
       "0  ['2 cups whole-wheat flour', '2 cups all-purpo...              90.0   \n",
       "1  ['1 Tbsp. crushed red pepper flakes', '1 Tbsp....              91.0   \n",
       "2  ['1/4 cup extra-virgin olive oil', '12 oz. dry...              67.0   \n",
       "3  ['1 tablespoon olive oil', '2 garlic cloves, t...              81.0   \n",
       "4  ['1 1/2 pounds boneless, skinless chicken brea...              96.0   \n",
       "\n",
       "                                         preparation  rating  reviews  \\\n",
       "0  Put oven rack in middle position and preheat o...     3.5     50.0   \n",
       "1  Coarsely grind red pepper flakes, peppercorns,...     3.0     11.0   \n",
       "2  Pour oil into cooker insert and select “Sauté....     2.0     15.0   \n",
       "3  Preheat oven to 350°F. Heat oil in a large ski...     3.5     26.0   \n",
       "4  Place chicken, garlic, bay leaves, allspice, a...     3.5     23.0   \n",
       "\n",
       "                                                tags  \\\n",
       "0  ['Irish', 'Bread', 'Bake', 'Vegetarian', 'Quic...   \n",
       "1  ['Pepper', 'Fennel', 'Pork', 'Garlic', 'White ...   \n",
       "2  ['Instant Pot', 'Kale', 'Potato', 'Onion', 'Ga...   \n",
       "3  ['Side', 'Bake', 'Christmas', 'Easter', 'Thank...   \n",
       "4  ['Asian', 'Soup/Stew', 'Chicken', 'Low Carb', ...   \n",
       "\n",
       "                                               title  \\\n",
       "0                                 Irish Brown Bread    \n",
       "1                   Slow-Cooked Pork with Chickpeas    \n",
       "2                           Instant Pot Caldo Verde    \n",
       "3  Parmesan Bread Pudding with Broccoli Rabe and ...   \n",
       "4  Brothy Poached Chicken with Mushrooms and Fres...   \n",
       "\n",
       "                                 ingredients_refined  \\\n",
       "0  [2 cups whole-wheat flour, 2 cups all-purpose ...   \n",
       "1  [1 Tbsp. crushed red pepper flakes, 1 Tbsp. wh...   \n",
       "2  [1/4 cup extra-virgin olive oil, 12 oz. dry-cu...   \n",
       "3  [1 tablespoon olive oil, 2 garlic cloves, thin...   \n",
       "4  [1 1/2 pounds boneless, skinless chicken breas...   \n",
       "\n",
       "                                        tags_refined  \\\n",
       "0  [Irish, Bread, Bake, Vegetarian, Quick & Easy,...   \n",
       "1  [Pepper, Fennel, Pork, Garlic, White Wine, Oni...   \n",
       "2  [Instant Pot, Kale, Potato, Onion, Garlic, Sou...   \n",
       "3  [Side, Bake, Christmas, Easter, Thanksgiving, ...   \n",
       "4  [Asian, Soup/Stew, Chicken, Low Carb, Low Fat,...   \n",
       "\n",
       "                                     ingredient_list  \n",
       "0  [baking, soda, cream, stick, flour, germ, whea...  \n",
       "1  [leaves, wine, chickpeas, dry, oil, trimmed, p...  \n",
       "2  [leaves, curly, stems, oil, Spanish, black, re...  \n",
       "3  [eggs, bread, oil, trimmed, milk, black, flake...  \n",
       "4  [leaves, vinegar, ounces, maitake, sprigs, chi...  "
      ]
     },
     "execution_count": 18,
     "metadata": {},
     "output_type": "execute_result"
    }
   ],
   "source": [
    "df.head()"
   ]
  },
  {
   "cell_type": "code",
   "execution_count": 19,
   "metadata": {},
   "outputs": [],
   "source": [
    "sample_str = [\n",
    "    \"rice\", \"carrots\", \"shallots\"\n",
    "]"
   ]
  },
  {
   "cell_type": "code",
   "execution_count": 20,
   "metadata": {},
   "outputs": [],
   "source": [
    "counterA = Counter(sample_str)\n",
    "counterB = Counter(df['ingredient_list'][0])"
   ]
  },
  {
   "cell_type": "code",
   "execution_count": 21,
   "metadata": {},
   "outputs": [
    {
     "data": {
      "text/plain": [
       "Counter({'carrots': 1, 'rice': 1, 'shallots': 1})"
      ]
     },
     "execution_count": 21,
     "metadata": {},
     "output_type": "execute_result"
    }
   ],
   "source": [
    "counterA"
   ]
  },
  {
   "cell_type": "code",
   "execution_count": 51,
   "metadata": {},
   "outputs": [],
   "source": [
    "def counter_cosine_similarity(c1, c2):\n",
    "    '''a function to calculate the cosine similarity between two lists'''\n",
    "    terms = set(c1).union(c2)\n",
    "    dotprod = sum(c1.get(k, 0) * c2.get(k, 0) for k in terms)\n",
    "    magA = math.sqrt(sum(c1.get(k, 0)**2 for k in terms))\n",
    "    magB = math.sqrt(sum(c2.get(k, 0)**2 for k in terms))\n",
    "    return dotprod / (magA * magB)"
   ]
  },
  {
   "cell_type": "code",
   "execution_count": 52,
   "metadata": {},
   "outputs": [],
   "source": [
    "df['similarity_score']=\"\"\n",
    "\n",
    "for index, row in df.iterrows():\n",
    "    try:\n",
    "        counterB = Counter(row['ingredient_list'])\n",
    "        score = counter_cosine_similarity(counterA,counterB)\n",
    "        df.set_value(index,'similarity_score',score)\n",
    "    except ZeroDivisionError:\n",
    "        df.set_value(index,'similarity_score',0)"
   ]
  },
  {
   "cell_type": "code",
   "execution_count": 62,
   "metadata": {},
   "outputs": [],
   "source": [
    "results = df.sort_values(by=['similarity_score','rating','makeitagainscore'],ascending=[False,False,False])[:3]"
   ]
  },
  {
   "cell_type": "code",
   "execution_count": 63,
   "metadata": {},
   "outputs": [],
   "source": [
    "results = results[['urls','ingredients_refined','tags_refined','title','rating','preparation','similarity_score']]"
   ]
  },
  {
   "cell_type": "code",
   "execution_count": 64,
   "metadata": {},
   "outputs": [],
   "source": [
    "results = results.reset_index(drop='index')"
   ]
  },
  {
   "cell_type": "code",
   "execution_count": 65,
   "metadata": {},
   "outputs": [
    {
     "data": {
      "text/plain": [
       "'{\"0\":{\"urls\":\"https:\\\\/\\\\/www.epicurious.com\\\\/recipes\\\\/food\\\\/views\\\\/carrot-ginger-dressing-233572\",\"ingredients_refined\":[\"1\\\\/2 lb carrots (3 medium), coarsely chopped\",\"1\\\\/4 cup chopped peeled fresh ginger\",\"1\\\\/4 cup chopped shallots\",\"1\\\\/4 cup seasoned rice vinegar\",\"1 tablespoon soy sauce\",\"1 tablespoon Asian sesame oil\",\"1\\\\/8 teaspoon salt\",\"1\\\\/2 cup vegetable oil\",\"1\\\\/4 cup water\"],\"tags_refined\":[\"American\",\"Food Processor\",\"Ginger\",\"No-Cook\",\"Quick & Easy\",\"Salad Dressing\",\"Carrot\",\"Shallot\",\"Gourmet\"],\"title\":\"Carrot Ginger Dressing \",\"rating\":3.5,\"preparation\":\"Pulse carrots in a food processor until finely ground (almost pur\\\\u00e9ed). Add chopped ginger, chopped shallots, rice vinegar, soy sauce, sesame oil, and salt and pulse until ginger and shallots are minced. With motor running, add vegetable oil in a slow stream.Transfer mixture to a blender. Add 1\\\\/4 cup water and blend until smooth, 2 to 3 minutes. Thin dressing with additional water if desired.\",\"similarity_score\":0.3973597071},\"1\":{\"urls\":\"https:\\\\/\\\\/www.epicurious.com\\\\/recipes\\\\/food\\\\/views\\\\/truffled-lobster-risotto-4622\",\"ingredients_refined\":[\"2 8-ounce uncooked lobster tails\",\"3 1\\\\/2 cups canned low-salt chicken broth\",\"3 tablespoons white or black truffle oil\",\"3\\\\/4 cup chopped peeled carrots\",\"1\\\\/4 cup chopped shallots\",\"1 cup arborio rice\",\"1\\\\/4 cup brandy\",\"1\\\\/3 cup whipping cream\",\"1\\\\/3 cup chopped fresh chives\"],\"tags_refined\":[\"Rice\",\"Shellfish\",\"Valentine\\'s Day\",\"Seafood\",\"Lobster\",\"Winter\",\"Anniversary\",\"Bon App\\\\u00e9tit\"],\"title\":\"Truffled Lobster Risotto \",\"rating\":3.5,\"preparation\":\"Preheat oven to 425\\\\u00b0F. Cook lobster in large pot of simmering salted water until cooked through, about 10 minutes. Transfer to bowl of cold water to cool. Drain lobster. Remove meat from shells; reserve shells. Cut meat into 1\\\\/2-inch pieces.Break shells into large pieces. Place on baking sheet; bake 15 minutes. Blend shells with 1 cup chicken broth in blender until finely chopped. Strain through fine sieve. Reserve lobster broth; discard shells.Bring 2 1\\\\/2 cups chicken broth to simmer; keep hot. Heat 1 tablespoon truffle oil in heavy large saucepan over medium heat. Add carrots and shallots; saut\\\\u00e9 2 minutes. Add rice; stir 2 minutes. Add brandy; reduce heat to medium-low. Simmer until brandy is absorbed, stirring constantly, about 2 minutes. Add lobster broth and 3\\\\/4 of chicken broth. Simmer until rice is just tender and mixture is creamy, adding remaining broth by 1\\\\/4 cupfuls as needed and stirring often, about 20 minutes. Add lobster and cream; stir until heated through. Remove from heat. Stir in 2 tablespoons truffle oil and chives. Season with salt and pepper.\",\"similarity_score\":0.3692744729},\"2\":{\"urls\":\"https:\\\\/\\\\/www.epicurious.com\\\\/recipes\\\\/food\\\\/views\\\\/basmati-rice-and-mustard-seed-pilaf-101513\",\"ingredients_refined\":[\"2 shallots\",\"1 teaspoon vegetable oil\",\"2 teaspoons mustard seeds\",\"2\\\\/3 cup white basmati rice\",\"1 cup water\",\"1\\\\/2 teaspoon salt\"],\"tags_refined\":[\"Indian\",\"Rice\",\"Side\",\"Low Fat\",\"Vegetarian\",\"Quick & Easy\",\"Gourmet\"],\"title\":\"Basmati Rice and Mustard-Seed Pilaf \",\"rating\":3.0,\"preparation\":\"Thinly slice shallots and in a 2-quart heavy saucepan cook in oil over moderate heat, stirring occasionally, until golden. Stir in mustard seeds and cook until they begin to pop. Add rice and cook, stirring, 1 minute. Add water and salt and bring to a boil. Cook pilaf, covered, over low heat until rice is tender and water is absorbed, about 25 minutes. Fluff rice with a fork.\",\"similarity_score\":0.3651483717}}'"
      ]
     },
     "execution_count": 65,
     "metadata": {},
     "output_type": "execute_result"
    }
   ],
   "source": [
    "results.to_json(orient='index')"
   ]
  }
 ],
 "metadata": {
  "kernelspec": {
   "display_name": "Python 3",
   "language": "python",
   "name": "python3"
  },
  "language_info": {
   "codemirror_mode": {
    "name": "ipython",
    "version": 3
   },
   "file_extension": ".py",
   "mimetype": "text/x-python",
   "name": "python",
   "nbconvert_exporter": "python",
   "pygments_lexer": "ipython3",
   "version": "3.6.2"
  }
 },
 "nbformat": 4,
 "nbformat_minor": 2
}
