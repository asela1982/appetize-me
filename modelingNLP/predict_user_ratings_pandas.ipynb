{
 "cells": [
  {
   "cell_type": "code",
   "execution_count": 1,
   "metadata": {},
   "outputs": [],
   "source": [
    "# import relevant libraries\n",
    "import pandas as pd\n",
    "import numpy as np"
   ]
  },
  {
   "cell_type": "code",
   "execution_count": 2,
   "metadata": {},
   "outputs": [],
   "source": [
    "# load the csvs\n",
    "df1 = pd.read_csv('../ScrapeData/csv_recipes/recipe_df1.csv')\n",
    "df2 = pd.read_csv('../ScrapeData/csv_recipes/recipe_df2.csv')\n",
    "df3 = pd.read_csv('../ScrapeData/csv_recipes/recipe_df3.csv')\n",
    "df4 = pd.read_csv('../ScrapeData/csv_recipes/recipe_df4.csv')\n",
    "df5 = pd.read_csv('../ScrapeData/csv_recipes/recipe_df5.csv')"
   ]
  },
  {
   "cell_type": "code",
   "execution_count": 3,
   "metadata": {},
   "outputs": [],
   "source": [
    "# concat the dataframes\n",
    "df = pd.concat([df1,df2,df3,df4,df5])\n",
    "df = df.drop(['Unnamed: 0', 'id'], axis=1)"
   ]
  },
  {
   "cell_type": "code",
   "execution_count": 4,
   "metadata": {},
   "outputs": [
    {
     "data": {
      "text/html": [
       "<div>\n",
       "<style>\n",
       "    .dataframe thead tr:only-child th {\n",
       "        text-align: right;\n",
       "    }\n",
       "\n",
       "    .dataframe thead th {\n",
       "        text-align: left;\n",
       "    }\n",
       "\n",
       "    .dataframe tbody tr th {\n",
       "        vertical-align: top;\n",
       "    }\n",
       "</style>\n",
       "<table border=\"1\" class=\"dataframe\">\n",
       "  <thead>\n",
       "    <tr style=\"text-align: right;\">\n",
       "      <th></th>\n",
       "      <th>bestrating</th>\n",
       "      <th>imagesrc</th>\n",
       "      <th>ingredients</th>\n",
       "      <th>makeitagainscore</th>\n",
       "      <th>preparation</th>\n",
       "      <th>rating</th>\n",
       "      <th>reviews</th>\n",
       "      <th>tags</th>\n",
       "      <th>title</th>\n",
       "    </tr>\n",
       "  </thead>\n",
       "  <tbody>\n",
       "    <tr>\n",
       "      <th>0</th>\n",
       "      <td>4.0</td>\n",
       "      <td>https://assets.epicurious.com/photos/56df1d8cb...</td>\n",
       "      <td>['2 cups whole-wheat flour', '2 cups all-purpo...</td>\n",
       "      <td>90%</td>\n",
       "      <td>Put oven rack in middle position and preheat o...</td>\n",
       "      <td>3.5</td>\n",
       "      <td>50.0</td>\n",
       "      <td>['Irish', 'Bread', 'Bake', 'Vegetarian', 'Quic...</td>\n",
       "      <td>Irish Brown Bread</td>\n",
       "    </tr>\n",
       "    <tr>\n",
       "      <th>1</th>\n",
       "      <td>4.0</td>\n",
       "      <td>https://assets.epicurious.com/photos/5a78b5919...</td>\n",
       "      <td>['1 Tbsp. crushed red pepper flakes', '1 Tbsp....</td>\n",
       "      <td>91%</td>\n",
       "      <td>Coarsely grind red pepper flakes, peppercorns,...</td>\n",
       "      <td>3.0</td>\n",
       "      <td>11.0</td>\n",
       "      <td>['Pepper', 'Fennel', 'Pork', 'Garlic', 'White ...</td>\n",
       "      <td>Slow-Cooked Pork with Chickpeas</td>\n",
       "    </tr>\n",
       "    <tr>\n",
       "      <th>2</th>\n",
       "      <td>4.0</td>\n",
       "      <td>https://assets.epicurious.com/photos/5a68f33b3...</td>\n",
       "      <td>['1/4 cup extra-virgin olive oil', '12 oz. dry...</td>\n",
       "      <td>67%</td>\n",
       "      <td>Pour oil into cooker insert and select “Sauté....</td>\n",
       "      <td>2.0</td>\n",
       "      <td>15.0</td>\n",
       "      <td>['Instant Pot', 'Kale', 'Potato', 'Onion', 'Ga...</td>\n",
       "      <td>Instant Pot Caldo Verde</td>\n",
       "    </tr>\n",
       "    <tr>\n",
       "      <th>3</th>\n",
       "      <td>4.0</td>\n",
       "      <td>https://assets.epicurious.com/photos/5a9971b01...</td>\n",
       "      <td>['1 tablespoon olive oil', '2 garlic cloves, t...</td>\n",
       "      <td>81%</td>\n",
       "      <td>Preheat oven to 350°F. Heat oil in a large ski...</td>\n",
       "      <td>3.5</td>\n",
       "      <td>26.0</td>\n",
       "      <td>['Side', 'Bake', 'Christmas', 'Easter', 'Thank...</td>\n",
       "      <td>Parmesan Bread Pudding with Broccoli Rabe and ...</td>\n",
       "    </tr>\n",
       "    <tr>\n",
       "      <th>4</th>\n",
       "      <td>4.0</td>\n",
       "      <td>https://assets.epicurious.com/photos/54b71d9a2...</td>\n",
       "      <td>['1 1/2 pounds boneless, skinless chicken brea...</td>\n",
       "      <td>96%</td>\n",
       "      <td>Place chicken, garlic, bay leaves, allspice, a...</td>\n",
       "      <td>3.5</td>\n",
       "      <td>23.0</td>\n",
       "      <td>['Asian', 'Soup/Stew', 'Chicken', 'Low Carb', ...</td>\n",
       "      <td>Brothy Poached Chicken with Mushrooms and Fres...</td>\n",
       "    </tr>\n",
       "  </tbody>\n",
       "</table>\n",
       "</div>"
      ],
      "text/plain": [
       "   bestrating                                           imagesrc  \\\n",
       "0         4.0  https://assets.epicurious.com/photos/56df1d8cb...   \n",
       "1         4.0  https://assets.epicurious.com/photos/5a78b5919...   \n",
       "2         4.0  https://assets.epicurious.com/photos/5a68f33b3...   \n",
       "3         4.0  https://assets.epicurious.com/photos/5a9971b01...   \n",
       "4         4.0  https://assets.epicurious.com/photos/54b71d9a2...   \n",
       "\n",
       "                                         ingredients makeitagainscore  \\\n",
       "0  ['2 cups whole-wheat flour', '2 cups all-purpo...              90%   \n",
       "1  ['1 Tbsp. crushed red pepper flakes', '1 Tbsp....              91%   \n",
       "2  ['1/4 cup extra-virgin olive oil', '12 oz. dry...              67%   \n",
       "3  ['1 tablespoon olive oil', '2 garlic cloves, t...              81%   \n",
       "4  ['1 1/2 pounds boneless, skinless chicken brea...              96%   \n",
       "\n",
       "                                         preparation  rating  reviews  \\\n",
       "0  Put oven rack in middle position and preheat o...     3.5     50.0   \n",
       "1  Coarsely grind red pepper flakes, peppercorns,...     3.0     11.0   \n",
       "2  Pour oil into cooker insert and select “Sauté....     2.0     15.0   \n",
       "3  Preheat oven to 350°F. Heat oil in a large ski...     3.5     26.0   \n",
       "4  Place chicken, garlic, bay leaves, allspice, a...     3.5     23.0   \n",
       "\n",
       "                                                tags  \\\n",
       "0  ['Irish', 'Bread', 'Bake', 'Vegetarian', 'Quic...   \n",
       "1  ['Pepper', 'Fennel', 'Pork', 'Garlic', 'White ...   \n",
       "2  ['Instant Pot', 'Kale', 'Potato', 'Onion', 'Ga...   \n",
       "3  ['Side', 'Bake', 'Christmas', 'Easter', 'Thank...   \n",
       "4  ['Asian', 'Soup/Stew', 'Chicken', 'Low Carb', ...   \n",
       "\n",
       "                                               title  \n",
       "0                                 Irish Brown Bread   \n",
       "1                   Slow-Cooked Pork with Chickpeas   \n",
       "2                           Instant Pot Caldo Verde   \n",
       "3  Parmesan Bread Pudding with Broccoli Rabe and ...  \n",
       "4  Brothy Poached Chicken with Mushrooms and Fres...  "
      ]
     },
     "execution_count": 4,
     "metadata": {},
     "output_type": "execute_result"
    }
   ],
   "source": [
    "df.head()"
   ]
  },
  {
   "cell_type": "code",
   "execution_count": 5,
   "metadata": {},
   "outputs": [],
   "source": [
    "def classify_rating(rating):\n",
    "    if rating >= 4:\n",
    "        return 'good'\n",
    "    else:\n",
    "        return 'bad'"
   ]
  },
  {
   "cell_type": "code",
   "execution_count": 6,
   "metadata": {},
   "outputs": [],
   "source": [
    "df['class'] = df['rating'].apply(classify_rating)"
   ]
  },
  {
   "cell_type": "code",
   "execution_count": 7,
   "metadata": {},
   "outputs": [
    {
     "data": {
      "text/html": [
       "<div>\n",
       "<style>\n",
       "    .dataframe thead tr:only-child th {\n",
       "        text-align: right;\n",
       "    }\n",
       "\n",
       "    .dataframe thead th {\n",
       "        text-align: left;\n",
       "    }\n",
       "\n",
       "    .dataframe tbody tr th {\n",
       "        vertical-align: top;\n",
       "    }\n",
       "</style>\n",
       "<table border=\"1\" class=\"dataframe\">\n",
       "  <thead>\n",
       "    <tr style=\"text-align: right;\">\n",
       "      <th></th>\n",
       "      <th>bestrating</th>\n",
       "      <th>imagesrc</th>\n",
       "      <th>ingredients</th>\n",
       "      <th>makeitagainscore</th>\n",
       "      <th>preparation</th>\n",
       "      <th>rating</th>\n",
       "      <th>reviews</th>\n",
       "      <th>tags</th>\n",
       "      <th>title</th>\n",
       "      <th>class</th>\n",
       "    </tr>\n",
       "  </thead>\n",
       "  <tbody>\n",
       "    <tr>\n",
       "      <th>0</th>\n",
       "      <td>4.0</td>\n",
       "      <td>https://assets.epicurious.com/photos/56df1d8cb...</td>\n",
       "      <td>['2 cups whole-wheat flour', '2 cups all-purpo...</td>\n",
       "      <td>90%</td>\n",
       "      <td>Put oven rack in middle position and preheat o...</td>\n",
       "      <td>3.5</td>\n",
       "      <td>50.0</td>\n",
       "      <td>['Irish', 'Bread', 'Bake', 'Vegetarian', 'Quic...</td>\n",
       "      <td>Irish Brown Bread</td>\n",
       "      <td>bad</td>\n",
       "    </tr>\n",
       "    <tr>\n",
       "      <th>1</th>\n",
       "      <td>4.0</td>\n",
       "      <td>https://assets.epicurious.com/photos/5a78b5919...</td>\n",
       "      <td>['1 Tbsp. crushed red pepper flakes', '1 Tbsp....</td>\n",
       "      <td>91%</td>\n",
       "      <td>Coarsely grind red pepper flakes, peppercorns,...</td>\n",
       "      <td>3.0</td>\n",
       "      <td>11.0</td>\n",
       "      <td>['Pepper', 'Fennel', 'Pork', 'Garlic', 'White ...</td>\n",
       "      <td>Slow-Cooked Pork with Chickpeas</td>\n",
       "      <td>bad</td>\n",
       "    </tr>\n",
       "    <tr>\n",
       "      <th>2</th>\n",
       "      <td>4.0</td>\n",
       "      <td>https://assets.epicurious.com/photos/5a68f33b3...</td>\n",
       "      <td>['1/4 cup extra-virgin olive oil', '12 oz. dry...</td>\n",
       "      <td>67%</td>\n",
       "      <td>Pour oil into cooker insert and select “Sauté....</td>\n",
       "      <td>2.0</td>\n",
       "      <td>15.0</td>\n",
       "      <td>['Instant Pot', 'Kale', 'Potato', 'Onion', 'Ga...</td>\n",
       "      <td>Instant Pot Caldo Verde</td>\n",
       "      <td>bad</td>\n",
       "    </tr>\n",
       "    <tr>\n",
       "      <th>3</th>\n",
       "      <td>4.0</td>\n",
       "      <td>https://assets.epicurious.com/photos/5a9971b01...</td>\n",
       "      <td>['1 tablespoon olive oil', '2 garlic cloves, t...</td>\n",
       "      <td>81%</td>\n",
       "      <td>Preheat oven to 350°F. Heat oil in a large ski...</td>\n",
       "      <td>3.5</td>\n",
       "      <td>26.0</td>\n",
       "      <td>['Side', 'Bake', 'Christmas', 'Easter', 'Thank...</td>\n",
       "      <td>Parmesan Bread Pudding with Broccoli Rabe and ...</td>\n",
       "      <td>bad</td>\n",
       "    </tr>\n",
       "    <tr>\n",
       "      <th>4</th>\n",
       "      <td>4.0</td>\n",
       "      <td>https://assets.epicurious.com/photos/54b71d9a2...</td>\n",
       "      <td>['1 1/2 pounds boneless, skinless chicken brea...</td>\n",
       "      <td>96%</td>\n",
       "      <td>Place chicken, garlic, bay leaves, allspice, a...</td>\n",
       "      <td>3.5</td>\n",
       "      <td>23.0</td>\n",
       "      <td>['Asian', 'Soup/Stew', 'Chicken', 'Low Carb', ...</td>\n",
       "      <td>Brothy Poached Chicken with Mushrooms and Fres...</td>\n",
       "      <td>bad</td>\n",
       "    </tr>\n",
       "    <tr>\n",
       "      <th>5</th>\n",
       "      <td>4.0</td>\n",
       "      <td>https://assets.epicurious.com/photos/5a32af154...</td>\n",
       "      <td>['6 tablespoons extra-virgin olive oil, divide...</td>\n",
       "      <td>100%</td>\n",
       "      <td>Heat 4 Tbsp. oil in a large deep-sided skillet...</td>\n",
       "      <td>3.5</td>\n",
       "      <td>27.0</td>\n",
       "      <td>['Quick and Healthy', 'Healthy', 'Pasta', 'Veg...</td>\n",
       "      <td>Lemony Pasta with Cauliflower, Chickpeas, and ...</td>\n",
       "      <td>bad</td>\n",
       "    </tr>\n",
       "    <tr>\n",
       "      <th>6</th>\n",
       "      <td>4.0</td>\n",
       "      <td>https://assets.epicurious.com/photos/5a270eca0...</td>\n",
       "      <td>['1 (10-pound) smoked ham with rind, preferabl...</td>\n",
       "      <td>93%</td>\n",
       "      <td>Preheat oven to 325°F. Place ham in large roas...</td>\n",
       "      <td>4.0</td>\n",
       "      <td>47.0</td>\n",
       "      <td>['Fruit Juice', 'Mustard', 'Bake', 'Christmas'...</td>\n",
       "      <td>Old-Fashioned Ham with Brown Sugar and Mustard...</td>\n",
       "      <td>good</td>\n",
       "    </tr>\n",
       "    <tr>\n",
       "      <th>7</th>\n",
       "      <td>4.0</td>\n",
       "      <td>https://assets.epicurious.com/photos/5a3002b75...</td>\n",
       "      <td>['1 cup polenta (not quick-cooking)', '1 teasp...</td>\n",
       "      <td>90%</td>\n",
       "      <td>Whisk polenta and 4 cups water in pressure coo...</td>\n",
       "      <td>2.5</td>\n",
       "      <td>10.0</td>\n",
       "      <td>['Bon Appétit', 'Quick &amp; Easy', 'Dinner', 'Cor...</td>\n",
       "      <td>Polenta Cacio e Pepe</td>\n",
       "      <td>bad</td>\n",
       "    </tr>\n",
       "    <tr>\n",
       "      <th>8</th>\n",
       "      <td>4.0</td>\n",
       "      <td>https://assets.epicurious.com/photos/5a3002b53...</td>\n",
       "      <td>['2 tablespoons virgin coconut oil or extra-vi...</td>\n",
       "      <td>100%</td>\n",
       "      <td>Heat oil in a medium saucepan over medium. Coo...</td>\n",
       "      <td>4.0</td>\n",
       "      <td>40.0</td>\n",
       "      <td>['Bon Appétit', 'Soup/Stew', 'Winter', 'Lentil...</td>\n",
       "      <td>Curried Lentil, Tomato, and Coconut Soup</td>\n",
       "      <td>good</td>\n",
       "    </tr>\n",
       "    <tr>\n",
       "      <th>9</th>\n",
       "      <td>4.0</td>\n",
       "      <td>https://assets.epicurious.com/photos/5a2ac2b14...</td>\n",
       "      <td>['7 slices white sandwich bread', '1 pound bul...</td>\n",
       "      <td>100%</td>\n",
       "      <td>Preheat oven to 425°F. Toast bread on a rimmed...</td>\n",
       "      <td>4.0</td>\n",
       "      <td>15.0</td>\n",
       "      <td>['Breakfast', 'Sausage', 'Egg', 'Yogurt', 'Gre...</td>\n",
       "      <td>Cowboy Breakfast Casserole with Sausage and Sp...</td>\n",
       "      <td>good</td>\n",
       "    </tr>\n",
       "  </tbody>\n",
       "</table>\n",
       "</div>"
      ],
      "text/plain": [
       "   bestrating                                           imagesrc  \\\n",
       "0         4.0  https://assets.epicurious.com/photos/56df1d8cb...   \n",
       "1         4.0  https://assets.epicurious.com/photos/5a78b5919...   \n",
       "2         4.0  https://assets.epicurious.com/photos/5a68f33b3...   \n",
       "3         4.0  https://assets.epicurious.com/photos/5a9971b01...   \n",
       "4         4.0  https://assets.epicurious.com/photos/54b71d9a2...   \n",
       "5         4.0  https://assets.epicurious.com/photos/5a32af154...   \n",
       "6         4.0  https://assets.epicurious.com/photos/5a270eca0...   \n",
       "7         4.0  https://assets.epicurious.com/photos/5a3002b75...   \n",
       "8         4.0  https://assets.epicurious.com/photos/5a3002b53...   \n",
       "9         4.0  https://assets.epicurious.com/photos/5a2ac2b14...   \n",
       "\n",
       "                                         ingredients makeitagainscore  \\\n",
       "0  ['2 cups whole-wheat flour', '2 cups all-purpo...              90%   \n",
       "1  ['1 Tbsp. crushed red pepper flakes', '1 Tbsp....              91%   \n",
       "2  ['1/4 cup extra-virgin olive oil', '12 oz. dry...              67%   \n",
       "3  ['1 tablespoon olive oil', '2 garlic cloves, t...              81%   \n",
       "4  ['1 1/2 pounds boneless, skinless chicken brea...              96%   \n",
       "5  ['6 tablespoons extra-virgin olive oil, divide...             100%   \n",
       "6  ['1 (10-pound) smoked ham with rind, preferabl...              93%   \n",
       "7  ['1 cup polenta (not quick-cooking)', '1 teasp...              90%   \n",
       "8  ['2 tablespoons virgin coconut oil or extra-vi...             100%   \n",
       "9  ['7 slices white sandwich bread', '1 pound bul...             100%   \n",
       "\n",
       "                                         preparation  rating  reviews  \\\n",
       "0  Put oven rack in middle position and preheat o...     3.5     50.0   \n",
       "1  Coarsely grind red pepper flakes, peppercorns,...     3.0     11.0   \n",
       "2  Pour oil into cooker insert and select “Sauté....     2.0     15.0   \n",
       "3  Preheat oven to 350°F. Heat oil in a large ski...     3.5     26.0   \n",
       "4  Place chicken, garlic, bay leaves, allspice, a...     3.5     23.0   \n",
       "5  Heat 4 Tbsp. oil in a large deep-sided skillet...     3.5     27.0   \n",
       "6  Preheat oven to 325°F. Place ham in large roas...     4.0     47.0   \n",
       "7  Whisk polenta and 4 cups water in pressure coo...     2.5     10.0   \n",
       "8  Heat oil in a medium saucepan over medium. Coo...     4.0     40.0   \n",
       "9  Preheat oven to 425°F. Toast bread on a rimmed...     4.0     15.0   \n",
       "\n",
       "                                                tags  \\\n",
       "0  ['Irish', 'Bread', 'Bake', 'Vegetarian', 'Quic...   \n",
       "1  ['Pepper', 'Fennel', 'Pork', 'Garlic', 'White ...   \n",
       "2  ['Instant Pot', 'Kale', 'Potato', 'Onion', 'Ga...   \n",
       "3  ['Side', 'Bake', 'Christmas', 'Easter', 'Thank...   \n",
       "4  ['Asian', 'Soup/Stew', 'Chicken', 'Low Carb', ...   \n",
       "5  ['Quick and Healthy', 'Healthy', 'Pasta', 'Veg...   \n",
       "6  ['Fruit Juice', 'Mustard', 'Bake', 'Christmas'...   \n",
       "7  ['Bon Appétit', 'Quick & Easy', 'Dinner', 'Cor...   \n",
       "8  ['Bon Appétit', 'Soup/Stew', 'Winter', 'Lentil...   \n",
       "9  ['Breakfast', 'Sausage', 'Egg', 'Yogurt', 'Gre...   \n",
       "\n",
       "                                               title class  \n",
       "0                                 Irish Brown Bread    bad  \n",
       "1                   Slow-Cooked Pork with Chickpeas    bad  \n",
       "2                           Instant Pot Caldo Verde    bad  \n",
       "3  Parmesan Bread Pudding with Broccoli Rabe and ...   bad  \n",
       "4  Brothy Poached Chicken with Mushrooms and Fres...   bad  \n",
       "5  Lemony Pasta with Cauliflower, Chickpeas, and ...   bad  \n",
       "6  Old-Fashioned Ham with Brown Sugar and Mustard...  good  \n",
       "7                              Polenta Cacio e Pepe    bad  \n",
       "8          Curried Lentil, Tomato, and Coconut Soup   good  \n",
       "9  Cowboy Breakfast Casserole with Sausage and Sp...  good  "
      ]
     },
     "execution_count": 7,
     "metadata": {},
     "output_type": "execute_result"
    }
   ],
   "source": [
    "df.head(10)"
   ]
  },
  {
   "cell_type": "code",
   "execution_count": 8,
   "metadata": {},
   "outputs": [],
   "source": [
    "# create has_image feature\n",
    "df['has_image'] = np.where(df['imagesrc'].isnull(), 'No', 'Yes')"
   ]
  },
  {
   "cell_type": "code",
   "execution_count": 9,
   "metadata": {},
   "outputs": [],
   "source": [
    "df = df.dropna(axis=0, how='any', subset=['preparation','title'])"
   ]
  },
  {
   "cell_type": "code",
   "execution_count": 27,
   "metadata": {},
   "outputs": [
    {
     "data": {
      "text/plain": [
       "bad     5474\n",
       "good    1198\n",
       "Name: class, dtype: int64"
      ]
     },
     "execution_count": 27,
     "metadata": {},
     "output_type": "execute_result"
    }
   ],
   "source": [
    "df['class'].value_counts()"
   ]
  },
  {
   "cell_type": "markdown",
   "metadata": {},
   "source": [
    "### Train test split"
   ]
  },
  {
   "cell_type": "code",
   "execution_count": 10,
   "metadata": {},
   "outputs": [
    {
     "data": {
      "text/plain": [
       "array([0, 0, 0, ..., 1, 0, 0])"
      ]
     },
     "execution_count": 10,
     "metadata": {},
     "output_type": "execute_result"
    }
   ],
   "source": [
    "#encode labels to integer classes\n",
    "from sklearn.preprocessing import LabelEncoder\n",
    "lb = LabelEncoder().fit(df['class'])\n",
    "lb.classes_\n",
    "lb.transform(df['class'])"
   ]
  },
  {
   "cell_type": "code",
   "execution_count": 31,
   "metadata": {},
   "outputs": [
    {
     "data": {
      "text/plain": [
       "0.82044364508393286"
      ]
     },
     "execution_count": 31,
     "metadata": {},
     "output_type": "execute_result"
    }
   ],
   "source": [
    "#null model(baseline)\n",
    "1-lb.transform(df['class']).mean()"
   ]
  },
  {
   "cell_type": "code",
   "execution_count": 11,
   "metadata": {},
   "outputs": [],
   "source": [
    "from sklearn.model_selection import train_test_split\n",
    "\n",
    "X_train_part, X_valid, y_train_part, y_valid =\\\n",
    "    train_test_split(df, \n",
    "                     lb.transform(df['class']), \n",
    "                test_size=0.3,random_state=17, stratify=df['class'])"
   ]
  },
  {
   "cell_type": "code",
   "execution_count": 12,
   "metadata": {},
   "outputs": [
    {
     "name": "stdout",
     "output_type": "stream",
     "text": [
      "(4670, 11)\n",
      "(2002, 11)\n",
      "(4670,)\n",
      "(2002,)\n"
     ]
    }
   ],
   "source": [
    "print(X_train_part.shape)\n",
    "print(X_valid.shape)\n",
    "print(y_train_part.shape)\n",
    "print(y_valid.shape)"
   ]
  },
  {
   "cell_type": "markdown",
   "metadata": {},
   "source": [
    "### Preparing a pipeline"
   ]
  },
  {
   "cell_type": "code",
   "execution_count": 14,
   "metadata": {},
   "outputs": [],
   "source": [
    "from sklearn.base import BaseEstimator, TransformerMixin\n",
    "\n",
    "class ItemSelector(BaseEstimator, TransformerMixin):\n",
    "    \"\"\"For data grouped by feature, select subset of data at a provided key.\n",
    "\n",
    "    The data is expected to be stored in a 2D data structure, where the first\n",
    "    index is over features and the second is over samples.  i.e.\n",
    "\n",
    "    >> len(data[key]) == n_samples\n",
    "\n",
    "    Please note that this is the opposite convention to scikit-learn feature\n",
    "    matrixes (where the first index corresponds to sample).\n",
    "\n",
    "    ItemSelector only requires that the collection implement getitem\n",
    "    (data[key]).  Examples include: a dict of lists, 2D numpy array, Pandas\n",
    "    DataFrame, numpy record array, etc.\n",
    "\n",
    "    >> data = {'a': [1, 5, 2, 5, 2, 8],\n",
    "               'b': [9, 4, 1, 4, 1, 3]}\n",
    "    >> ds = ItemSelector(key='a')\n",
    "    >> data['a'] == ds.transform(data)\n",
    "\n",
    "    ItemSelector is not designed to handle data grouped by sample.  (e.g. a\n",
    "    list of dicts).  If your data is structured this way, consider a\n",
    "    transformer along the lines of `sklearn.feature_extraction.DictVectorizer`.\n",
    "\n",
    "    Parameters\n",
    "    ----------\n",
    "    key : hashable, required\n",
    "        The key corresponding to the desired value in a mappable.\n",
    "    \"\"\"\n",
    "    def __init__(self, key):\n",
    "        self.key = key\n",
    "\n",
    "    def fit(self, x, y=None):\n",
    "        return self\n",
    "\n",
    "    def transform(self, data_dict):\n",
    "        return data_dict[self.key]"
   ]
  },
  {
   "cell_type": "code",
   "execution_count": 20,
   "metadata": {},
   "outputs": [],
   "source": [
    "from sklearn.pipeline import Pipeline, FeatureUnion\n",
    "from sklearn.ensemble import RandomForestClassifier\n",
    "\n",
    "from sklearn.feature_extraction.text import TfidfTransformer,CountVectorizer\n",
    "\n",
    "pipeline = Pipeline([\n",
    "  \n",
    "  ('union', FeatureUnion([\n",
    "    ('tf_idf_preparation', Pipeline([\n",
    "      ('selector', ItemSelector(key='preparation')),\n",
    "      ('counts', CountVectorizer()),\n",
    "      ('tf_idf', TfidfTransformer())\n",
    "    ]))\n",
    "  ])),\n",
    "  ('classifier', RandomForestClassifier())\n",
    "])"
   ]
  },
  {
   "cell_type": "code",
   "execution_count": 21,
   "metadata": {},
   "outputs": [
    {
     "data": {
      "text/plain": [
       "Pipeline(memory=None,\n",
       "     steps=[('union', FeatureUnion(n_jobs=1,\n",
       "       transformer_list=[('tf_idf_preparation', Pipeline(memory=None,\n",
       "     steps=[('selector', ItemSelector(key='preparation')), ('counts', CountVectorizer(analyzer='word', binary=False, decode_error='strict',\n",
       "        dtype=<class 'numpy.int64'>, encoding='utf...n_jobs=1,\n",
       "            oob_score=False, random_state=None, verbose=0,\n",
       "            warm_start=False))])"
      ]
     },
     "execution_count": 21,
     "metadata": {},
     "output_type": "execute_result"
    }
   ],
   "source": [
    "pipeline.fit(X_train_part, y_train_part)"
   ]
  },
  {
   "cell_type": "code",
   "execution_count": 22,
   "metadata": {},
   "outputs": [
    {
     "data": {
      "text/plain": [
       "[('union', FeatureUnion(n_jobs=1,\n",
       "         transformer_list=[('tf_idf_preparation', Pipeline(memory=None,\n",
       "       steps=[('selector', ItemSelector(key='preparation')), ('counts', CountVectorizer(analyzer='word', binary=False, decode_error='strict',\n",
       "          dtype=<class 'numpy.int64'>, encoding='utf-8', input='content',\n",
       "          lowercase=True, max_df=1.0, max_features=None, min_df=1,\n",
       "          ngram_range=(1, 1), ...=None)), ('tf_idf', TfidfTransformer(norm='l2', smooth_idf=True, sublinear_tf=False, use_idf=True))]))],\n",
       "         transformer_weights=None)),\n",
       " ('classifier',\n",
       "  RandomForestClassifier(bootstrap=True, class_weight=None, criterion='gini',\n",
       "              max_depth=None, max_features='auto', max_leaf_nodes=None,\n",
       "              min_impurity_decrease=0.0, min_impurity_split=None,\n",
       "              min_samples_leaf=1, min_samples_split=2,\n",
       "              min_weight_fraction_leaf=0.0, n_estimators=10, n_jobs=1,\n",
       "              oob_score=False, random_state=None, verbose=0,\n",
       "              warm_start=False))]"
      ]
     },
     "execution_count": 22,
     "metadata": {},
     "output_type": "execute_result"
    }
   ],
   "source": [
    "pipeline.steps"
   ]
  },
  {
   "cell_type": "code",
   "execution_count": 24,
   "metadata": {},
   "outputs": [
    {
     "data": {
      "text/plain": [
       "0.82117882117882113"
      ]
     },
     "execution_count": 24,
     "metadata": {},
     "output_type": "execute_result"
    }
   ],
   "source": [
    "from sklearn import metrics\n",
    "pred = pipeline.predict(X_valid)\n",
    "metrics.accuracy_score(y_valid, pred)"
   ]
  }
 ],
 "metadata": {
  "kernelspec": {
   "display_name": "Python 3",
   "language": "python",
   "name": "python3"
  },
  "language_info": {
   "codemirror_mode": {
    "name": "ipython",
    "version": 3
   },
   "file_extension": ".py",
   "mimetype": "text/x-python",
   "name": "python",
   "nbconvert_exporter": "python",
   "pygments_lexer": "ipython3",
   "version": "3.6.2"
  }
 },
 "nbformat": 4,
 "nbformat_minor": 2
}
