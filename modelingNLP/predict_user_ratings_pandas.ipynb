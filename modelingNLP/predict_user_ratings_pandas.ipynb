{
 "cells": [
  {
   "cell_type": "code",
   "execution_count": 120,
   "metadata": {},
   "outputs": [],
   "source": [
    "# import relevant libraries\n",
    "import pandas as pd\n",
    "import numpy as np\n",
    "import ast\n",
    "import matplotlib.pyplot as plt\n",
    "import seaborn as sns\n",
    "from scipy.stats import chi2_contingency,f_oneway"
   ]
  },
  {
   "cell_type": "markdown",
   "metadata": {},
   "source": [
    "#### merge urls to recipe dataframe"
   ]
  },
  {
   "cell_type": "code",
   "execution_count": 72,
   "metadata": {},
   "outputs": [],
   "source": [
    "# recipes dataframes\n",
    "# there is a mismatch in df3_urls and df3_recipes 2430 vs 1022\n",
    "df1 = pd.read_csv('../ScrapeData/csv_recipes/recipe_df1.csv')\n",
    "df2 = pd.read_csv('../ScrapeData/csv_recipes/recipe_df2.csv')\n",
    "df3 = pd.read_csv('../ScrapeData/csv_recipes/recipe_df3.csv')\n",
    "df4 = pd.read_csv('../ScrapeData/csv_recipes/recipe_df4.csv')\n",
    "df5 = pd.read_csv('../ScrapeData/csv_recipes/recipe_df5.csv')\n",
    "df6 = pd.read_csv('../ScrapeData/csv_recipes/recipe_df6.csv')\n",
    "df7 = pd.read_csv('../ScrapeData/csv_recipes/recipe_df7.csv')\n",
    "df8 = pd.read_csv('../ScrapeData/csv_recipes/recipe_df8.csv')"
   ]
  },
  {
   "cell_type": "code",
   "execution_count": 73,
   "metadata": {},
   "outputs": [],
   "source": [
    "# concat the dataframes\n",
    "df_recipes = pd.concat([df1,df2,df3,df4,df5,df6,df7,df8])\n",
    "df_recipes = df_recipes.drop(['Unnamed: 0','id'], axis=1) #drop columns not required"
   ]
  },
  {
   "cell_type": "code",
   "execution_count": 74,
   "metadata": {},
   "outputs": [],
   "source": [
    "df_recipes=df_recipes.reset_index(drop='index')"
   ]
  },
  {
   "cell_type": "code",
   "execution_count": 75,
   "metadata": {},
   "outputs": [],
   "source": [
    "# url dataframes\n",
    "df1_url = pd.read_csv('../ScrapeData/csv_urls/urls_df1.csv')\n",
    "df2_url = pd.read_csv('../ScrapeData/csv_urls/urls_df2.csv')\n",
    "df3_url = pd.read_csv('../ScrapeData/csv_urls/urls_df3.csv')\n",
    "df3_url = df3_url.iloc[:1022,:]\n",
    "df4_url = pd.read_csv('../ScrapeData/csv_urls/urls_df4.csv')\n",
    "df5_url = pd.read_csv('../ScrapeData/csv_urls/urls_df5.csv')\n",
    "df6_url = pd.read_csv('../ScrapeData/csv_urls/urls_df6.csv')"
   ]
  },
  {
   "cell_type": "code",
   "execution_count": 76,
   "metadata": {},
   "outputs": [],
   "source": [
    "# concat the dataframes url and recipes\n",
    "df_url = pd.concat([df1_url,df2_url, df3_url, df4_url,df5_url,df6_url])\n",
    "df_url = df_url.drop(['Unnamed: 0'], axis=1) #drop columns not required"
   ]
  },
  {
   "cell_type": "code",
   "execution_count": 77,
   "metadata": {},
   "outputs": [],
   "source": [
    "df_url = df_url.reset_index(drop='index')"
   ]
  },
  {
   "cell_type": "code",
   "execution_count": 78,
   "metadata": {},
   "outputs": [],
   "source": [
    "# merge df_url and df_recipes\n",
    "df = pd.concat([df_url,df_recipes],axis=1)"
   ]
  },
  {
   "cell_type": "markdown",
   "metadata": {},
   "source": [
    "### preprocessing the dataframe"
   ]
  },
  {
   "cell_type": "code",
   "execution_count": 79,
   "metadata": {},
   "outputs": [],
   "source": [
    "df['makeitagainscore'] = pd.to_numeric(df['makeitagainscore'].str.replace('%', ''))"
   ]
  },
  {
   "cell_type": "code",
   "execution_count": 80,
   "metadata": {},
   "outputs": [],
   "source": [
    "# drop rows if there are null value records\n",
    "df.dropna(axis=0, how='any', inplace=True,subset=['bestrating','ingredients',\\\n",
    "                            'makeitagainscore','preparation','rating','reviews','tags','title'])"
   ]
  },
  {
   "cell_type": "code",
   "execution_count": 81,
   "metadata": {},
   "outputs": [],
   "source": [
    "# refine the ingredients column\n",
    "df[\"ingredients_refined\"] = \"\"\n",
    "for index, row in df.iterrows():\n",
    "    ingredients_items = ast.literal_eval(row[\"ingredients\"])\n",
    "    df.set_value(index,'ingredients_refined',ingredients_items)"
   ]
  },
  {
   "cell_type": "code",
   "execution_count": 82,
   "metadata": {},
   "outputs": [],
   "source": [
    "# refine the tags column\n",
    "df[\"tags_refined\"] = \"\"\n",
    "for index, row in df.iterrows():\n",
    "    tag_items = ast.literal_eval(row[\"tags\"])\n",
    "    df.set_value(index,'tags_refined',tag_items)"
   ]
  },
  {
   "cell_type": "markdown",
   "metadata": {},
   "source": [
    "#### Create a class for ratings"
   ]
  },
  {
   "cell_type": "code",
   "execution_count": 83,
   "metadata": {},
   "outputs": [
    {
     "data": {
      "text/plain": [
       "3.5    6452\n",
       "3.0    2955\n",
       "4.0    1432\n",
       "2.5     560\n",
       "2.0      71\n",
       "1.5      18\n",
       "1.0       5\n",
       "0.0       1\n",
       "Name: rating, dtype: int64"
      ]
     },
     "execution_count": 83,
     "metadata": {},
     "output_type": "execute_result"
    }
   ],
   "source": [
    "df['rating'].value_counts()"
   ]
  },
  {
   "cell_type": "code",
   "execution_count": 84,
   "metadata": {},
   "outputs": [],
   "source": [
    "def classify_rating(rating):\n",
    "    if rating == 4:\n",
    "        return 'exceptional'\n",
    "    \n",
    "    elif rating == 3.5:\n",
    "        return 'good'\n",
    "    \n",
    "    elif rating == 3:\n",
    "        return 'average'\n",
    "    \n",
    "    else:\n",
    "        return 'negative'"
   ]
  },
  {
   "cell_type": "code",
   "execution_count": 85,
   "metadata": {},
   "outputs": [],
   "source": [
    "df['rating_class'] = df['rating'].apply(classify_rating)"
   ]
  },
  {
   "cell_type": "code",
   "execution_count": 86,
   "metadata": {},
   "outputs": [
    {
     "data": {
      "text/plain": [
       "good           6452\n",
       "average        2955\n",
       "exceptional    1432\n",
       "negative        655\n",
       "Name: rating_class, dtype: int64"
      ]
     },
     "execution_count": 86,
     "metadata": {},
     "output_type": "execute_result"
    }
   ],
   "source": [
    "#class distribution\n",
    "df['rating_class'].value_counts()"
   ]
  },
  {
   "cell_type": "code",
   "execution_count": 87,
   "metadata": {},
   "outputs": [
    {
     "data": {
      "text/plain": [
       "11494"
      ]
     },
     "execution_count": 87,
     "metadata": {},
     "output_type": "execute_result"
    }
   ],
   "source": [
    "len(df)"
   ]
  },
  {
   "cell_type": "code",
   "execution_count": 88,
   "metadata": {},
   "outputs": [
    {
     "data": {
      "text/html": [
       "<div>\n",
       "<style>\n",
       "    .dataframe thead tr:only-child th {\n",
       "        text-align: right;\n",
       "    }\n",
       "\n",
       "    .dataframe thead th {\n",
       "        text-align: left;\n",
       "    }\n",
       "\n",
       "    .dataframe tbody tr th {\n",
       "        vertical-align: top;\n",
       "    }\n",
       "</style>\n",
       "<table border=\"1\" class=\"dataframe\">\n",
       "  <thead>\n",
       "    <tr style=\"text-align: right;\">\n",
       "      <th></th>\n",
       "      <th>batch</th>\n",
       "      <th>urls</th>\n",
       "      <th>bestrating</th>\n",
       "      <th>imagesrc</th>\n",
       "      <th>ingredients</th>\n",
       "      <th>makeitagainscore</th>\n",
       "      <th>preparation</th>\n",
       "      <th>rating</th>\n",
       "      <th>reviews</th>\n",
       "      <th>tags</th>\n",
       "      <th>title</th>\n",
       "      <th>ingredients_refined</th>\n",
       "      <th>tags_refined</th>\n",
       "      <th>rating_class</th>\n",
       "    </tr>\n",
       "  </thead>\n",
       "  <tbody>\n",
       "    <tr>\n",
       "      <th>0</th>\n",
       "      <td>0-249</td>\n",
       "      <td>https://www.epicurious.com/recipes/food/views/...</td>\n",
       "      <td>4.0</td>\n",
       "      <td>https://assets.epicurious.com/photos/56df1d8cb...</td>\n",
       "      <td>['2 cups whole-wheat flour', '2 cups all-purpo...</td>\n",
       "      <td>90.0</td>\n",
       "      <td>Put oven rack in middle position and preheat o...</td>\n",
       "      <td>3.5</td>\n",
       "      <td>50.0</td>\n",
       "      <td>['Irish', 'Bread', 'Bake', 'Vegetarian', 'Quic...</td>\n",
       "      <td>Irish Brown Bread</td>\n",
       "      <td>[2 cups whole-wheat flour, 2 cups all-purpose ...</td>\n",
       "      <td>[Irish, Bread, Bake, Vegetarian, Quick &amp; Easy,...</td>\n",
       "      <td>good</td>\n",
       "    </tr>\n",
       "    <tr>\n",
       "      <th>1</th>\n",
       "      <td>0-249</td>\n",
       "      <td>https://www.epicurious.com/recipes/food/views/...</td>\n",
       "      <td>4.0</td>\n",
       "      <td>https://assets.epicurious.com/photos/5a78b5919...</td>\n",
       "      <td>['1 Tbsp. crushed red pepper flakes', '1 Tbsp....</td>\n",
       "      <td>91.0</td>\n",
       "      <td>Coarsely grind red pepper flakes, peppercorns,...</td>\n",
       "      <td>3.0</td>\n",
       "      <td>11.0</td>\n",
       "      <td>['Pepper', 'Fennel', 'Pork', 'Garlic', 'White ...</td>\n",
       "      <td>Slow-Cooked Pork with Chickpeas</td>\n",
       "      <td>[1 Tbsp. crushed red pepper flakes, 1 Tbsp. wh...</td>\n",
       "      <td>[Pepper, Fennel, Pork, Garlic, White Wine, Oni...</td>\n",
       "      <td>average</td>\n",
       "    </tr>\n",
       "  </tbody>\n",
       "</table>\n",
       "</div>"
      ],
      "text/plain": [
       "   batch                                               urls  bestrating  \\\n",
       "0  0-249  https://www.epicurious.com/recipes/food/views/...         4.0   \n",
       "1  0-249  https://www.epicurious.com/recipes/food/views/...         4.0   \n",
       "\n",
       "                                            imagesrc  \\\n",
       "0  https://assets.epicurious.com/photos/56df1d8cb...   \n",
       "1  https://assets.epicurious.com/photos/5a78b5919...   \n",
       "\n",
       "                                         ingredients  makeitagainscore  \\\n",
       "0  ['2 cups whole-wheat flour', '2 cups all-purpo...              90.0   \n",
       "1  ['1 Tbsp. crushed red pepper flakes', '1 Tbsp....              91.0   \n",
       "\n",
       "                                         preparation  rating  reviews  \\\n",
       "0  Put oven rack in middle position and preheat o...     3.5     50.0   \n",
       "1  Coarsely grind red pepper flakes, peppercorns,...     3.0     11.0   \n",
       "\n",
       "                                                tags  \\\n",
       "0  ['Irish', 'Bread', 'Bake', 'Vegetarian', 'Quic...   \n",
       "1  ['Pepper', 'Fennel', 'Pork', 'Garlic', 'White ...   \n",
       "\n",
       "                              title  \\\n",
       "0                Irish Brown Bread    \n",
       "1  Slow-Cooked Pork with Chickpeas    \n",
       "\n",
       "                                 ingredients_refined  \\\n",
       "0  [2 cups whole-wheat flour, 2 cups all-purpose ...   \n",
       "1  [1 Tbsp. crushed red pepper flakes, 1 Tbsp. wh...   \n",
       "\n",
       "                                        tags_refined rating_class  \n",
       "0  [Irish, Bread, Bake, Vegetarian, Quick & Easy,...         good  \n",
       "1  [Pepper, Fennel, Pork, Garlic, White Wine, Oni...      average  "
      ]
     },
     "execution_count": 88,
     "metadata": {},
     "output_type": "execute_result"
    }
   ],
   "source": [
    "df.head(2)"
   ]
  },
  {
   "cell_type": "markdown",
   "metadata": {},
   "source": [
    "### EDA"
   ]
  },
  {
   "cell_type": "markdown",
   "metadata": {},
   "source": [
    "#### Relationship between image availability and rating"
   ]
  },
  {
   "cell_type": "code",
   "execution_count": 89,
   "metadata": {},
   "outputs": [],
   "source": [
    "df['imagesrc_class'] = np.where(df['imagesrc'].isnull(), 'no', 'yes')"
   ]
  },
  {
   "cell_type": "code",
   "execution_count": 102,
   "metadata": {
    "scrolled": true
   },
   "outputs": [],
   "source": [
    "# get propotion by rating class\n",
    "chi_df = pd.crosstab(df['imagesrc_class'],df['rating_class'])"
   ]
  },
  {
   "cell_type": "code",
   "execution_count": 103,
   "metadata": {},
   "outputs": [
    {
     "data": {
      "text/html": [
       "<div>\n",
       "<style>\n",
       "    .dataframe thead tr:only-child th {\n",
       "        text-align: right;\n",
       "    }\n",
       "\n",
       "    .dataframe thead th {\n",
       "        text-align: left;\n",
       "    }\n",
       "\n",
       "    .dataframe tbody tr th {\n",
       "        vertical-align: top;\n",
       "    }\n",
       "</style>\n",
       "<table border=\"1\" class=\"dataframe\">\n",
       "  <thead>\n",
       "    <tr style=\"text-align: right;\">\n",
       "      <th>rating_class</th>\n",
       "      <th>average</th>\n",
       "      <th>exceptional</th>\n",
       "      <th>good</th>\n",
       "      <th>negative</th>\n",
       "    </tr>\n",
       "    <tr>\n",
       "      <th>imagesrc_class</th>\n",
       "      <th></th>\n",
       "      <th></th>\n",
       "      <th></th>\n",
       "      <th></th>\n",
       "    </tr>\n",
       "  </thead>\n",
       "  <tbody>\n",
       "    <tr>\n",
       "      <th>no</th>\n",
       "      <td>1796</td>\n",
       "      <td>443</td>\n",
       "      <td>3222</td>\n",
       "      <td>389</td>\n",
       "    </tr>\n",
       "    <tr>\n",
       "      <th>yes</th>\n",
       "      <td>1159</td>\n",
       "      <td>989</td>\n",
       "      <td>3230</td>\n",
       "      <td>266</td>\n",
       "    </tr>\n",
       "  </tbody>\n",
       "</table>\n",
       "</div>"
      ],
      "text/plain": [
       "rating_class    average  exceptional  good  negative\n",
       "imagesrc_class                                      \n",
       "no                 1796          443  3222       389\n",
       "yes                1159          989  3230       266"
      ]
     },
     "execution_count": 103,
     "metadata": {},
     "output_type": "execute_result"
    }
   ],
   "source": [
    "chi_df"
   ]
  },
  {
   "cell_type": "code",
   "execution_count": 111,
   "metadata": {},
   "outputs": [],
   "source": [
    "# null hypothesis (\"action is independent of group\") \n",
    "a = chi_df.iloc[0].values\n",
    "b = chi_df.iloc[1].values"
   ]
  },
  {
   "cell_type": "code",
   "execution_count": 112,
   "metadata": {},
   "outputs": [],
   "source": [
    "chi2, pvalue, _, _ = chi2_contingency([a, b])"
   ]
  },
  {
   "cell_type": "code",
   "execution_count": 113,
   "metadata": {},
   "outputs": [
    {
     "data": {
      "text/plain": [
       "365.03050705861506"
      ]
     },
     "execution_count": 113,
     "metadata": {},
     "output_type": "execute_result"
    }
   ],
   "source": [
    "chi2"
   ]
  },
  {
   "cell_type": "code",
   "execution_count": 114,
   "metadata": {},
   "outputs": [
    {
     "data": {
      "text/plain": [
       "8.2970187032911645e-79"
      ]
     },
     "execution_count": 114,
     "metadata": {},
     "output_type": "execute_result"
    }
   ],
   "source": [
    "pvalue"
   ]
  },
  {
   "cell_type": "markdown",
   "metadata": {},
   "source": [
    "#### Relationship between nu of ingredients and rating"
   ]
  },
  {
   "cell_type": "code",
   "execution_count": 117,
   "metadata": {},
   "outputs": [],
   "source": [
    "df[\"ingredients_count\"] = np.nan"
   ]
  },
  {
   "cell_type": "code",
   "execution_count": 118,
   "metadata": {},
   "outputs": [],
   "source": [
    "for index, row in df.iterrows():\n",
    "    elements = len(row[\"ingredients_refined\"])\n",
    "    df.set_value(index, \"ingredients_count\", elements)"
   ]
  },
  {
   "cell_type": "code",
   "execution_count": 119,
   "metadata": {},
   "outputs": [
    {
     "data": {
      "text/html": [
       "<div>\n",
       "<style>\n",
       "    .dataframe thead tr:only-child th {\n",
       "        text-align: right;\n",
       "    }\n",
       "\n",
       "    .dataframe thead th {\n",
       "        text-align: left;\n",
       "    }\n",
       "\n",
       "    .dataframe tbody tr th {\n",
       "        vertical-align: top;\n",
       "    }\n",
       "</style>\n",
       "<table border=\"1\" class=\"dataframe\">\n",
       "  <thead>\n",
       "    <tr style=\"text-align: right;\">\n",
       "      <th></th>\n",
       "      <th>batch</th>\n",
       "      <th>urls</th>\n",
       "      <th>bestrating</th>\n",
       "      <th>imagesrc</th>\n",
       "      <th>ingredients</th>\n",
       "      <th>makeitagainscore</th>\n",
       "      <th>preparation</th>\n",
       "      <th>rating</th>\n",
       "      <th>reviews</th>\n",
       "      <th>tags</th>\n",
       "      <th>title</th>\n",
       "      <th>ingredients_refined</th>\n",
       "      <th>tags_refined</th>\n",
       "      <th>rating_class</th>\n",
       "      <th>imagesrc_class</th>\n",
       "      <th>ingredients_count</th>\n",
       "    </tr>\n",
       "  </thead>\n",
       "  <tbody>\n",
       "    <tr>\n",
       "      <th>0</th>\n",
       "      <td>0-249</td>\n",
       "      <td>https://www.epicurious.com/recipes/food/views/...</td>\n",
       "      <td>4.0</td>\n",
       "      <td>https://assets.epicurious.com/photos/56df1d8cb...</td>\n",
       "      <td>['2 cups whole-wheat flour', '2 cups all-purpo...</td>\n",
       "      <td>90.0</td>\n",
       "      <td>Put oven rack in middle position and preheat o...</td>\n",
       "      <td>3.5</td>\n",
       "      <td>50.0</td>\n",
       "      <td>['Irish', 'Bread', 'Bake', 'Vegetarian', 'Quic...</td>\n",
       "      <td>Irish Brown Bread</td>\n",
       "      <td>[2 cups whole-wheat flour, 2 cups all-purpose ...</td>\n",
       "      <td>[Irish, Bread, Bake, Vegetarian, Quick &amp; Easy,...</td>\n",
       "      <td>good</td>\n",
       "      <td>yes</td>\n",
       "      <td>9.0</td>\n",
       "    </tr>\n",
       "    <tr>\n",
       "      <th>1</th>\n",
       "      <td>0-249</td>\n",
       "      <td>https://www.epicurious.com/recipes/food/views/...</td>\n",
       "      <td>4.0</td>\n",
       "      <td>https://assets.epicurious.com/photos/5a78b5919...</td>\n",
       "      <td>['1 Tbsp. crushed red pepper flakes', '1 Tbsp....</td>\n",
       "      <td>91.0</td>\n",
       "      <td>Coarsely grind red pepper flakes, peppercorns,...</td>\n",
       "      <td>3.0</td>\n",
       "      <td>11.0</td>\n",
       "      <td>['Pepper', 'Fennel', 'Pork', 'Garlic', 'White ...</td>\n",
       "      <td>Slow-Cooked Pork with Chickpeas</td>\n",
       "      <td>[1 Tbsp. crushed red pepper flakes, 1 Tbsp. wh...</td>\n",
       "      <td>[Pepper, Fennel, Pork, Garlic, White Wine, Oni...</td>\n",
       "      <td>average</td>\n",
       "      <td>yes</td>\n",
       "      <td>14.0</td>\n",
       "    </tr>\n",
       "  </tbody>\n",
       "</table>\n",
       "</div>"
      ],
      "text/plain": [
       "   batch                                               urls  bestrating  \\\n",
       "0  0-249  https://www.epicurious.com/recipes/food/views/...         4.0   \n",
       "1  0-249  https://www.epicurious.com/recipes/food/views/...         4.0   \n",
       "\n",
       "                                            imagesrc  \\\n",
       "0  https://assets.epicurious.com/photos/56df1d8cb...   \n",
       "1  https://assets.epicurious.com/photos/5a78b5919...   \n",
       "\n",
       "                                         ingredients  makeitagainscore  \\\n",
       "0  ['2 cups whole-wheat flour', '2 cups all-purpo...              90.0   \n",
       "1  ['1 Tbsp. crushed red pepper flakes', '1 Tbsp....              91.0   \n",
       "\n",
       "                                         preparation  rating  reviews  \\\n",
       "0  Put oven rack in middle position and preheat o...     3.5     50.0   \n",
       "1  Coarsely grind red pepper flakes, peppercorns,...     3.0     11.0   \n",
       "\n",
       "                                                tags  \\\n",
       "0  ['Irish', 'Bread', 'Bake', 'Vegetarian', 'Quic...   \n",
       "1  ['Pepper', 'Fennel', 'Pork', 'Garlic', 'White ...   \n",
       "\n",
       "                              title  \\\n",
       "0                Irish Brown Bread    \n",
       "1  Slow-Cooked Pork with Chickpeas    \n",
       "\n",
       "                                 ingredients_refined  \\\n",
       "0  [2 cups whole-wheat flour, 2 cups all-purpose ...   \n",
       "1  [1 Tbsp. crushed red pepper flakes, 1 Tbsp. wh...   \n",
       "\n",
       "                                        tags_refined rating_class  \\\n",
       "0  [Irish, Bread, Bake, Vegetarian, Quick & Easy,...         good   \n",
       "1  [Pepper, Fennel, Pork, Garlic, White Wine, Oni...      average   \n",
       "\n",
       "  imagesrc_class  ingredients_count  \n",
       "0            yes                9.0  \n",
       "1            yes               14.0  "
      ]
     },
     "execution_count": 119,
     "metadata": {},
     "output_type": "execute_result"
    }
   ],
   "source": [
    "df.head(2)"
   ]
  },
  {
   "cell_type": "code",
   "execution_count": 126,
   "metadata": {
    "scrolled": true
   },
   "outputs": [],
   "source": [
    "# The one-way ANOVA tests the null hypothesis that two or more groups have the same population mean\n",
    "good = df[df['rating_class']=='good']['ingredients_count'].values\n",
    "average = df[df['rating_class']=='average']['ingredients_count'].values\n",
    "exceptional = df[df['rating_class']=='exceptional']['ingredients_count'].values\n",
    "negative  = df[df['rating_class']=='negative']['ingredients_count'].values"
   ]
  },
  {
   "cell_type": "code",
   "execution_count": 128,
   "metadata": {},
   "outputs": [
    {
     "data": {
      "text/plain": [
       "F_onewayResult(statistic=31.304527864418787, pvalue=3.8100567945250719e-20)"
      ]
     },
     "execution_count": 128,
     "metadata": {},
     "output_type": "execute_result"
    }
   ],
   "source": [
    "f_oneway(good, average, exceptional, negative)"
   ]
  },
  {
   "cell_type": "markdown",
   "metadata": {},
   "source": [
    "#### Relationship between nu of tags and rating"
   ]
  },
  {
   "cell_type": "code",
   "execution_count": 129,
   "metadata": {},
   "outputs": [],
   "source": [
    "df[\"tags_count\"] = np.nan"
   ]
  },
  {
   "cell_type": "code",
   "execution_count": 130,
   "metadata": {},
   "outputs": [],
   "source": [
    "for index, row in df.iterrows():\n",
    "    elements = len(row[\"tags_refined\"])\n",
    "    df.set_value(index, \"tags_count\", elements)"
   ]
  },
  {
   "cell_type": "code",
   "execution_count": 131,
   "metadata": {},
   "outputs": [
    {
     "data": {
      "text/html": [
       "<div>\n",
       "<style>\n",
       "    .dataframe thead tr:only-child th {\n",
       "        text-align: right;\n",
       "    }\n",
       "\n",
       "    .dataframe thead th {\n",
       "        text-align: left;\n",
       "    }\n",
       "\n",
       "    .dataframe tbody tr th {\n",
       "        vertical-align: top;\n",
       "    }\n",
       "</style>\n",
       "<table border=\"1\" class=\"dataframe\">\n",
       "  <thead>\n",
       "    <tr style=\"text-align: right;\">\n",
       "      <th></th>\n",
       "      <th>batch</th>\n",
       "      <th>urls</th>\n",
       "      <th>bestrating</th>\n",
       "      <th>imagesrc</th>\n",
       "      <th>ingredients</th>\n",
       "      <th>makeitagainscore</th>\n",
       "      <th>preparation</th>\n",
       "      <th>rating</th>\n",
       "      <th>reviews</th>\n",
       "      <th>tags</th>\n",
       "      <th>title</th>\n",
       "      <th>ingredients_refined</th>\n",
       "      <th>tags_refined</th>\n",
       "      <th>rating_class</th>\n",
       "      <th>imagesrc_class</th>\n",
       "      <th>ingredients_count</th>\n",
       "      <th>tags_count</th>\n",
       "    </tr>\n",
       "  </thead>\n",
       "  <tbody>\n",
       "    <tr>\n",
       "      <th>0</th>\n",
       "      <td>0-249</td>\n",
       "      <td>https://www.epicurious.com/recipes/food/views/...</td>\n",
       "      <td>4.0</td>\n",
       "      <td>https://assets.epicurious.com/photos/56df1d8cb...</td>\n",
       "      <td>['2 cups whole-wheat flour', '2 cups all-purpo...</td>\n",
       "      <td>90.0</td>\n",
       "      <td>Put oven rack in middle position and preheat o...</td>\n",
       "      <td>3.5</td>\n",
       "      <td>50.0</td>\n",
       "      <td>['Irish', 'Bread', 'Bake', 'Vegetarian', 'Quic...</td>\n",
       "      <td>Irish Brown Bread</td>\n",
       "      <td>[2 cups whole-wheat flour, 2 cups all-purpose ...</td>\n",
       "      <td>[Irish, Bread, Bake, Vegetarian, Quick &amp; Easy,...</td>\n",
       "      <td>good</td>\n",
       "      <td>yes</td>\n",
       "      <td>9.0</td>\n",
       "      <td>8.0</td>\n",
       "    </tr>\n",
       "    <tr>\n",
       "      <th>1</th>\n",
       "      <td>0-249</td>\n",
       "      <td>https://www.epicurious.com/recipes/food/views/...</td>\n",
       "      <td>4.0</td>\n",
       "      <td>https://assets.epicurious.com/photos/5a78b5919...</td>\n",
       "      <td>['1 Tbsp. crushed red pepper flakes', '1 Tbsp....</td>\n",
       "      <td>91.0</td>\n",
       "      <td>Coarsely grind red pepper flakes, peppercorns,...</td>\n",
       "      <td>3.0</td>\n",
       "      <td>11.0</td>\n",
       "      <td>['Pepper', 'Fennel', 'Pork', 'Garlic', 'White ...</td>\n",
       "      <td>Slow-Cooked Pork with Chickpeas</td>\n",
       "      <td>[1 Tbsp. crushed red pepper flakes, 1 Tbsp. wh...</td>\n",
       "      <td>[Pepper, Fennel, Pork, Garlic, White Wine, Oni...</td>\n",
       "      <td>average</td>\n",
       "      <td>yes</td>\n",
       "      <td>14.0</td>\n",
       "      <td>12.0</td>\n",
       "    </tr>\n",
       "  </tbody>\n",
       "</table>\n",
       "</div>"
      ],
      "text/plain": [
       "   batch                                               urls  bestrating  \\\n",
       "0  0-249  https://www.epicurious.com/recipes/food/views/...         4.0   \n",
       "1  0-249  https://www.epicurious.com/recipes/food/views/...         4.0   \n",
       "\n",
       "                                            imagesrc  \\\n",
       "0  https://assets.epicurious.com/photos/56df1d8cb...   \n",
       "1  https://assets.epicurious.com/photos/5a78b5919...   \n",
       "\n",
       "                                         ingredients  makeitagainscore  \\\n",
       "0  ['2 cups whole-wheat flour', '2 cups all-purpo...              90.0   \n",
       "1  ['1 Tbsp. crushed red pepper flakes', '1 Tbsp....              91.0   \n",
       "\n",
       "                                         preparation  rating  reviews  \\\n",
       "0  Put oven rack in middle position and preheat o...     3.5     50.0   \n",
       "1  Coarsely grind red pepper flakes, peppercorns,...     3.0     11.0   \n",
       "\n",
       "                                                tags  \\\n",
       "0  ['Irish', 'Bread', 'Bake', 'Vegetarian', 'Quic...   \n",
       "1  ['Pepper', 'Fennel', 'Pork', 'Garlic', 'White ...   \n",
       "\n",
       "                              title  \\\n",
       "0                Irish Brown Bread    \n",
       "1  Slow-Cooked Pork with Chickpeas    \n",
       "\n",
       "                                 ingredients_refined  \\\n",
       "0  [2 cups whole-wheat flour, 2 cups all-purpose ...   \n",
       "1  [1 Tbsp. crushed red pepper flakes, 1 Tbsp. wh...   \n",
       "\n",
       "                                        tags_refined rating_class  \\\n",
       "0  [Irish, Bread, Bake, Vegetarian, Quick & Easy,...         good   \n",
       "1  [Pepper, Fennel, Pork, Garlic, White Wine, Oni...      average   \n",
       "\n",
       "  imagesrc_class  ingredients_count  tags_count  \n",
       "0            yes                9.0         8.0  \n",
       "1            yes               14.0        12.0  "
      ]
     },
     "execution_count": 131,
     "metadata": {},
     "output_type": "execute_result"
    }
   ],
   "source": [
    "df.head(2)"
   ]
  },
  {
   "cell_type": "code",
   "execution_count": 132,
   "metadata": {},
   "outputs": [],
   "source": [
    "# The one-way ANOVA tests the null hypothesis that two or more groups have the same population mean\n",
    "good = df[df['rating_class']=='good']['tags_count'].values\n",
    "average = df[df['rating_class']=='average']['tags_count'].values\n",
    "exceptional = df[df['rating_class']=='exceptional']['tags_count'].values\n",
    "negative  = df[df['rating_class']=='negative']['tags_count'].values"
   ]
  },
  {
   "cell_type": "code",
   "execution_count": 133,
   "metadata": {},
   "outputs": [
    {
     "data": {
      "text/plain": [
       "F_onewayResult(statistic=11.709595604400846, pvalue=1.1736181793116911e-07)"
      ]
     },
     "execution_count": 133,
     "metadata": {},
     "output_type": "execute_result"
    }
   ],
   "source": [
    "f_oneway(good, average, exceptional, negative)"
   ]
  },
  {
   "cell_type": "markdown",
   "metadata": {},
   "source": [
    "#### Relationship between makeitagainscore  and rating"
   ]
  },
  {
   "cell_type": "code",
   "execution_count": 1593,
   "metadata": {},
   "outputs": [],
   "source": [
    "df['makeitagainscore'] = pd.to_numeric(df['makeitagainscore'].str.replace('%', ''))"
   ]
  },
  {
   "cell_type": "code",
   "execution_count": 1594,
   "metadata": {},
   "outputs": [
    {
     "data": {
      "text/html": [
       "<div>\n",
       "<style>\n",
       "    .dataframe thead tr:only-child th {\n",
       "        text-align: right;\n",
       "    }\n",
       "\n",
       "    .dataframe thead th {\n",
       "        text-align: left;\n",
       "    }\n",
       "\n",
       "    .dataframe tbody tr th {\n",
       "        vertical-align: top;\n",
       "    }\n",
       "</style>\n",
       "<table border=\"1\" class=\"dataframe\">\n",
       "  <thead>\n",
       "    <tr style=\"text-align: right;\">\n",
       "      <th></th>\n",
       "      <th>bestrating</th>\n",
       "      <th>imagesrc</th>\n",
       "      <th>ingredients</th>\n",
       "      <th>makeitagainscore</th>\n",
       "      <th>preparation</th>\n",
       "      <th>rating</th>\n",
       "      <th>reviews</th>\n",
       "      <th>tags</th>\n",
       "      <th>title</th>\n",
       "      <th>tags_clean</th>\n",
       "      <th>rating_class</th>\n",
       "      <th>imagesrc_class</th>\n",
       "      <th>ingredients_elements</th>\n",
       "      <th>tags_elements</th>\n",
       "    </tr>\n",
       "  </thead>\n",
       "  <tbody>\n",
       "    <tr>\n",
       "      <th>0</th>\n",
       "      <td>4.0</td>\n",
       "      <td>https://assets.epicurious.com/photos/56df1d8cb...</td>\n",
       "      <td>['2 cups whole-wheat flour', '2 cups all-purpo...</td>\n",
       "      <td>90</td>\n",
       "      <td>Put oven rack in middle position and preheat o...</td>\n",
       "      <td>3.5</td>\n",
       "      <td>50.0</td>\n",
       "      <td>['Irish', 'Bread', 'Bake', 'Vegetarian', 'Quic...</td>\n",
       "      <td>Irish Brown Bread</td>\n",
       "      <td>Irish,Bread,Bake,Vegetarian,Quick &amp; Easy,St. P...</td>\n",
       "      <td>good</td>\n",
       "      <td>1</td>\n",
       "      <td>9.0</td>\n",
       "      <td>7.0</td>\n",
       "    </tr>\n",
       "    <tr>\n",
       "      <th>1</th>\n",
       "      <td>4.0</td>\n",
       "      <td>https://assets.epicurious.com/photos/5a78b5919...</td>\n",
       "      <td>['1 Tbsp. crushed red pepper flakes', '1 Tbsp....</td>\n",
       "      <td>91</td>\n",
       "      <td>Coarsely grind red pepper flakes, peppercorns,...</td>\n",
       "      <td>3.0</td>\n",
       "      <td>11.0</td>\n",
       "      <td>['Pepper', 'Fennel', 'Pork', 'Garlic', 'White ...</td>\n",
       "      <td>Slow-Cooked Pork with Chickpeas</td>\n",
       "      <td>Pepper,Fennel,Pork,Garlic,White Wine,Onion,Chi...</td>\n",
       "      <td>average</td>\n",
       "      <td>1</td>\n",
       "      <td>18.0</td>\n",
       "      <td>11.0</td>\n",
       "    </tr>\n",
       "  </tbody>\n",
       "</table>\n",
       "</div>"
      ],
      "text/plain": [
       "   bestrating                                           imagesrc  \\\n",
       "0         4.0  https://assets.epicurious.com/photos/56df1d8cb...   \n",
       "1         4.0  https://assets.epicurious.com/photos/5a78b5919...   \n",
       "\n",
       "                                         ingredients  makeitagainscore  \\\n",
       "0  ['2 cups whole-wheat flour', '2 cups all-purpo...                90   \n",
       "1  ['1 Tbsp. crushed red pepper flakes', '1 Tbsp....                91   \n",
       "\n",
       "                                         preparation  rating  reviews  \\\n",
       "0  Put oven rack in middle position and preheat o...     3.5     50.0   \n",
       "1  Coarsely grind red pepper flakes, peppercorns,...     3.0     11.0   \n",
       "\n",
       "                                                tags  \\\n",
       "0  ['Irish', 'Bread', 'Bake', 'Vegetarian', 'Quic...   \n",
       "1  ['Pepper', 'Fennel', 'Pork', 'Garlic', 'White ...   \n",
       "\n",
       "                              title  \\\n",
       "0                Irish Brown Bread    \n",
       "1  Slow-Cooked Pork with Chickpeas    \n",
       "\n",
       "                                          tags_clean rating_class  \\\n",
       "0  Irish,Bread,Bake,Vegetarian,Quick & Easy,St. P...         good   \n",
       "1  Pepper,Fennel,Pork,Garlic,White Wine,Onion,Chi...      average   \n",
       "\n",
       "   imagesrc_class  ingredients_elements  tags_elements  \n",
       "0               1                   9.0            7.0  \n",
       "1               1                  18.0           11.0  "
      ]
     },
     "execution_count": 1594,
     "metadata": {},
     "output_type": "execute_result"
    }
   ],
   "source": [
    "df.head(2)"
   ]
  },
  {
   "cell_type": "code",
   "execution_count": 1595,
   "metadata": {},
   "outputs": [
    {
     "data": {
      "text/html": [
       "<div>\n",
       "<style>\n",
       "    .dataframe thead tr:only-child th {\n",
       "        text-align: right;\n",
       "    }\n",
       "\n",
       "    .dataframe thead th {\n",
       "        text-align: left;\n",
       "    }\n",
       "\n",
       "    .dataframe tbody tr th {\n",
       "        vertical-align: top;\n",
       "    }\n",
       "</style>\n",
       "<table border=\"1\" class=\"dataframe\">\n",
       "  <thead>\n",
       "    <tr style=\"text-align: right;\">\n",
       "      <th></th>\n",
       "      <th>makeitagainscore</th>\n",
       "    </tr>\n",
       "    <tr>\n",
       "      <th>rating_class</th>\n",
       "      <th></th>\n",
       "    </tr>\n",
       "  </thead>\n",
       "  <tbody>\n",
       "    <tr>\n",
       "      <th>average</th>\n",
       "      <td>81.161083</td>\n",
       "    </tr>\n",
       "    <tr>\n",
       "      <th>exceptional</th>\n",
       "      <td>94.356145</td>\n",
       "    </tr>\n",
       "    <tr>\n",
       "      <th>good</th>\n",
       "      <td>89.667080</td>\n",
       "    </tr>\n",
       "    <tr>\n",
       "      <th>negative</th>\n",
       "      <td>64.444275</td>\n",
       "    </tr>\n",
       "  </tbody>\n",
       "</table>\n",
       "</div>"
      ],
      "text/plain": [
       "              makeitagainscore\n",
       "rating_class                  \n",
       "average              81.161083\n",
       "exceptional          94.356145\n",
       "good                 89.667080\n",
       "negative             64.444275"
      ]
     },
     "execution_count": 1595,
     "metadata": {},
     "output_type": "execute_result"
    }
   ],
   "source": [
    "df.groupby(['rating_class']).agg({'makeitagainscore':np.mean})"
   ]
  },
  {
   "cell_type": "markdown",
   "metadata": {},
   "source": [
    "#### Relationship between preparation length and rating"
   ]
  },
  {
   "cell_type": "code",
   "execution_count": 134,
   "metadata": {},
   "outputs": [],
   "source": [
    "df['preparation_length'] = df['preparation'].str.len()"
   ]
  },
  {
   "cell_type": "code",
   "execution_count": 135,
   "metadata": {},
   "outputs": [
    {
     "data": {
      "text/html": [
       "<div>\n",
       "<style>\n",
       "    .dataframe thead tr:only-child th {\n",
       "        text-align: right;\n",
       "    }\n",
       "\n",
       "    .dataframe thead th {\n",
       "        text-align: left;\n",
       "    }\n",
       "\n",
       "    .dataframe tbody tr th {\n",
       "        vertical-align: top;\n",
       "    }\n",
       "</style>\n",
       "<table border=\"1\" class=\"dataframe\">\n",
       "  <thead>\n",
       "    <tr style=\"text-align: right;\">\n",
       "      <th></th>\n",
       "      <th>batch</th>\n",
       "      <th>urls</th>\n",
       "      <th>bestrating</th>\n",
       "      <th>imagesrc</th>\n",
       "      <th>ingredients</th>\n",
       "      <th>makeitagainscore</th>\n",
       "      <th>preparation</th>\n",
       "      <th>rating</th>\n",
       "      <th>reviews</th>\n",
       "      <th>tags</th>\n",
       "      <th>title</th>\n",
       "      <th>ingredients_refined</th>\n",
       "      <th>tags_refined</th>\n",
       "      <th>rating_class</th>\n",
       "      <th>imagesrc_class</th>\n",
       "      <th>ingredients_count</th>\n",
       "      <th>tags_count</th>\n",
       "      <th>preparation_length</th>\n",
       "    </tr>\n",
       "  </thead>\n",
       "  <tbody>\n",
       "    <tr>\n",
       "      <th>0</th>\n",
       "      <td>0-249</td>\n",
       "      <td>https://www.epicurious.com/recipes/food/views/...</td>\n",
       "      <td>4.0</td>\n",
       "      <td>https://assets.epicurious.com/photos/56df1d8cb...</td>\n",
       "      <td>['2 cups whole-wheat flour', '2 cups all-purpo...</td>\n",
       "      <td>90.0</td>\n",
       "      <td>Put oven rack in middle position and preheat o...</td>\n",
       "      <td>3.5</td>\n",
       "      <td>50.0</td>\n",
       "      <td>['Irish', 'Bread', 'Bake', 'Vegetarian', 'Quic...</td>\n",
       "      <td>Irish Brown Bread</td>\n",
       "      <td>[2 cups whole-wheat flour, 2 cups all-purpose ...</td>\n",
       "      <td>[Irish, Bread, Bake, Vegetarian, Quick &amp; Easy,...</td>\n",
       "      <td>good</td>\n",
       "      <td>yes</td>\n",
       "      <td>9.0</td>\n",
       "      <td>8.0</td>\n",
       "      <td>829</td>\n",
       "    </tr>\n",
       "    <tr>\n",
       "      <th>1</th>\n",
       "      <td>0-249</td>\n",
       "      <td>https://www.epicurious.com/recipes/food/views/...</td>\n",
       "      <td>4.0</td>\n",
       "      <td>https://assets.epicurious.com/photos/5a78b5919...</td>\n",
       "      <td>['1 Tbsp. crushed red pepper flakes', '1 Tbsp....</td>\n",
       "      <td>91.0</td>\n",
       "      <td>Coarsely grind red pepper flakes, peppercorns,...</td>\n",
       "      <td>3.0</td>\n",
       "      <td>11.0</td>\n",
       "      <td>['Pepper', 'Fennel', 'Pork', 'Garlic', 'White ...</td>\n",
       "      <td>Slow-Cooked Pork with Chickpeas</td>\n",
       "      <td>[1 Tbsp. crushed red pepper flakes, 1 Tbsp. wh...</td>\n",
       "      <td>[Pepper, Fennel, Pork, Garlic, White Wine, Oni...</td>\n",
       "      <td>average</td>\n",
       "      <td>yes</td>\n",
       "      <td>14.0</td>\n",
       "      <td>12.0</td>\n",
       "      <td>1506</td>\n",
       "    </tr>\n",
       "  </tbody>\n",
       "</table>\n",
       "</div>"
      ],
      "text/plain": [
       "   batch                                               urls  bestrating  \\\n",
       "0  0-249  https://www.epicurious.com/recipes/food/views/...         4.0   \n",
       "1  0-249  https://www.epicurious.com/recipes/food/views/...         4.0   \n",
       "\n",
       "                                            imagesrc  \\\n",
       "0  https://assets.epicurious.com/photos/56df1d8cb...   \n",
       "1  https://assets.epicurious.com/photos/5a78b5919...   \n",
       "\n",
       "                                         ingredients  makeitagainscore  \\\n",
       "0  ['2 cups whole-wheat flour', '2 cups all-purpo...              90.0   \n",
       "1  ['1 Tbsp. crushed red pepper flakes', '1 Tbsp....              91.0   \n",
       "\n",
       "                                         preparation  rating  reviews  \\\n",
       "0  Put oven rack in middle position and preheat o...     3.5     50.0   \n",
       "1  Coarsely grind red pepper flakes, peppercorns,...     3.0     11.0   \n",
       "\n",
       "                                                tags  \\\n",
       "0  ['Irish', 'Bread', 'Bake', 'Vegetarian', 'Quic...   \n",
       "1  ['Pepper', 'Fennel', 'Pork', 'Garlic', 'White ...   \n",
       "\n",
       "                              title  \\\n",
       "0                Irish Brown Bread    \n",
       "1  Slow-Cooked Pork with Chickpeas    \n",
       "\n",
       "                                 ingredients_refined  \\\n",
       "0  [2 cups whole-wheat flour, 2 cups all-purpose ...   \n",
       "1  [1 Tbsp. crushed red pepper flakes, 1 Tbsp. wh...   \n",
       "\n",
       "                                        tags_refined rating_class  \\\n",
       "0  [Irish, Bread, Bake, Vegetarian, Quick & Easy,...         good   \n",
       "1  [Pepper, Fennel, Pork, Garlic, White Wine, Oni...      average   \n",
       "\n",
       "  imagesrc_class  ingredients_count  tags_count  preparation_length  \n",
       "0            yes                9.0         8.0                 829  \n",
       "1            yes               14.0        12.0                1506  "
      ]
     },
     "execution_count": 135,
     "metadata": {},
     "output_type": "execute_result"
    }
   ],
   "source": [
    "df.head(2)"
   ]
  },
  {
   "cell_type": "code",
   "execution_count": 136,
   "metadata": {},
   "outputs": [],
   "source": [
    "# The one-way ANOVA tests the null hypothesis that two or more groups have the same population mean\n",
    "good = df[df['rating_class']=='good']['preparation_length'].values\n",
    "average = df[df['rating_class']=='average']['preparation_length'].values\n",
    "exceptional = df[df['rating_class']=='exceptional']['preparation_length'].values\n",
    "negative  = df[df['rating_class']=='negative']['preparation_length'].values"
   ]
  },
  {
   "cell_type": "code",
   "execution_count": 137,
   "metadata": {},
   "outputs": [
    {
     "data": {
      "text/plain": [
       "F_onewayResult(statistic=37.039236235565006, pvalue=8.1968865487923914e-24)"
      ]
     },
     "execution_count": 137,
     "metadata": {},
     "output_type": "execute_result"
    }
   ],
   "source": [
    "f_oneway(good, average, exceptional, negative)"
   ]
  },
  {
   "cell_type": "markdown",
   "metadata": {},
   "source": [
    "#### Relationship between title length and rating"
   ]
  },
  {
   "cell_type": "code",
   "execution_count": 138,
   "metadata": {},
   "outputs": [],
   "source": [
    "df['title_length'] = df['title'].str.len()"
   ]
  },
  {
   "cell_type": "code",
   "execution_count": 139,
   "metadata": {},
   "outputs": [
    {
     "data": {
      "text/html": [
       "<div>\n",
       "<style>\n",
       "    .dataframe thead tr:only-child th {\n",
       "        text-align: right;\n",
       "    }\n",
       "\n",
       "    .dataframe thead th {\n",
       "        text-align: left;\n",
       "    }\n",
       "\n",
       "    .dataframe tbody tr th {\n",
       "        vertical-align: top;\n",
       "    }\n",
       "</style>\n",
       "<table border=\"1\" class=\"dataframe\">\n",
       "  <thead>\n",
       "    <tr style=\"text-align: right;\">\n",
       "      <th></th>\n",
       "      <th>batch</th>\n",
       "      <th>urls</th>\n",
       "      <th>bestrating</th>\n",
       "      <th>imagesrc</th>\n",
       "      <th>ingredients</th>\n",
       "      <th>makeitagainscore</th>\n",
       "      <th>preparation</th>\n",
       "      <th>rating</th>\n",
       "      <th>reviews</th>\n",
       "      <th>tags</th>\n",
       "      <th>title</th>\n",
       "      <th>ingredients_refined</th>\n",
       "      <th>tags_refined</th>\n",
       "      <th>rating_class</th>\n",
       "      <th>imagesrc_class</th>\n",
       "      <th>ingredients_count</th>\n",
       "      <th>tags_count</th>\n",
       "      <th>preparation_length</th>\n",
       "      <th>title_length</th>\n",
       "    </tr>\n",
       "  </thead>\n",
       "  <tbody>\n",
       "    <tr>\n",
       "      <th>0</th>\n",
       "      <td>0-249</td>\n",
       "      <td>https://www.epicurious.com/recipes/food/views/...</td>\n",
       "      <td>4.0</td>\n",
       "      <td>https://assets.epicurious.com/photos/56df1d8cb...</td>\n",
       "      <td>['2 cups whole-wheat flour', '2 cups all-purpo...</td>\n",
       "      <td>90.0</td>\n",
       "      <td>Put oven rack in middle position and preheat o...</td>\n",
       "      <td>3.5</td>\n",
       "      <td>50.0</td>\n",
       "      <td>['Irish', 'Bread', 'Bake', 'Vegetarian', 'Quic...</td>\n",
       "      <td>Irish Brown Bread</td>\n",
       "      <td>[2 cups whole-wheat flour, 2 cups all-purpose ...</td>\n",
       "      <td>[Irish, Bread, Bake, Vegetarian, Quick &amp; Easy,...</td>\n",
       "      <td>good</td>\n",
       "      <td>yes</td>\n",
       "      <td>9.0</td>\n",
       "      <td>8.0</td>\n",
       "      <td>829</td>\n",
       "      <td>18</td>\n",
       "    </tr>\n",
       "    <tr>\n",
       "      <th>1</th>\n",
       "      <td>0-249</td>\n",
       "      <td>https://www.epicurious.com/recipes/food/views/...</td>\n",
       "      <td>4.0</td>\n",
       "      <td>https://assets.epicurious.com/photos/5a78b5919...</td>\n",
       "      <td>['1 Tbsp. crushed red pepper flakes', '1 Tbsp....</td>\n",
       "      <td>91.0</td>\n",
       "      <td>Coarsely grind red pepper flakes, peppercorns,...</td>\n",
       "      <td>3.0</td>\n",
       "      <td>11.0</td>\n",
       "      <td>['Pepper', 'Fennel', 'Pork', 'Garlic', 'White ...</td>\n",
       "      <td>Slow-Cooked Pork with Chickpeas</td>\n",
       "      <td>[1 Tbsp. crushed red pepper flakes, 1 Tbsp. wh...</td>\n",
       "      <td>[Pepper, Fennel, Pork, Garlic, White Wine, Oni...</td>\n",
       "      <td>average</td>\n",
       "      <td>yes</td>\n",
       "      <td>14.0</td>\n",
       "      <td>12.0</td>\n",
       "      <td>1506</td>\n",
       "      <td>32</td>\n",
       "    </tr>\n",
       "  </tbody>\n",
       "</table>\n",
       "</div>"
      ],
      "text/plain": [
       "   batch                                               urls  bestrating  \\\n",
       "0  0-249  https://www.epicurious.com/recipes/food/views/...         4.0   \n",
       "1  0-249  https://www.epicurious.com/recipes/food/views/...         4.0   \n",
       "\n",
       "                                            imagesrc  \\\n",
       "0  https://assets.epicurious.com/photos/56df1d8cb...   \n",
       "1  https://assets.epicurious.com/photos/5a78b5919...   \n",
       "\n",
       "                                         ingredients  makeitagainscore  \\\n",
       "0  ['2 cups whole-wheat flour', '2 cups all-purpo...              90.0   \n",
       "1  ['1 Tbsp. crushed red pepper flakes', '1 Tbsp....              91.0   \n",
       "\n",
       "                                         preparation  rating  reviews  \\\n",
       "0  Put oven rack in middle position and preheat o...     3.5     50.0   \n",
       "1  Coarsely grind red pepper flakes, peppercorns,...     3.0     11.0   \n",
       "\n",
       "                                                tags  \\\n",
       "0  ['Irish', 'Bread', 'Bake', 'Vegetarian', 'Quic...   \n",
       "1  ['Pepper', 'Fennel', 'Pork', 'Garlic', 'White ...   \n",
       "\n",
       "                              title  \\\n",
       "0                Irish Brown Bread    \n",
       "1  Slow-Cooked Pork with Chickpeas    \n",
       "\n",
       "                                 ingredients_refined  \\\n",
       "0  [2 cups whole-wheat flour, 2 cups all-purpose ...   \n",
       "1  [1 Tbsp. crushed red pepper flakes, 1 Tbsp. wh...   \n",
       "\n",
       "                                        tags_refined rating_class  \\\n",
       "0  [Irish, Bread, Bake, Vegetarian, Quick & Easy,...         good   \n",
       "1  [Pepper, Fennel, Pork, Garlic, White Wine, Oni...      average   \n",
       "\n",
       "  imagesrc_class  ingredients_count  tags_count  preparation_length  \\\n",
       "0            yes                9.0         8.0                 829   \n",
       "1            yes               14.0        12.0                1506   \n",
       "\n",
       "   title_length  \n",
       "0            18  \n",
       "1            32  "
      ]
     },
     "execution_count": 139,
     "metadata": {},
     "output_type": "execute_result"
    }
   ],
   "source": [
    "df.head(2)"
   ]
  },
  {
   "cell_type": "code",
   "execution_count": 140,
   "metadata": {},
   "outputs": [],
   "source": [
    "# The one-way ANOVA tests the null hypothesis that two or more groups have the same population mean\n",
    "good = df[df['rating_class']=='good']['title_length'].values\n",
    "average = df[df['rating_class']=='average']['title_length'].values\n",
    "exceptional = df[df['rating_class']=='exceptional']['title_length'].values\n",
    "negative  = df[df['rating_class']=='negative']['title_length'].values"
   ]
  },
  {
   "cell_type": "code",
   "execution_count": 141,
   "metadata": {},
   "outputs": [
    {
     "data": {
      "text/plain": [
       "F_onewayResult(statistic=14.961675103744669, pvalue=1.0206358827905647e-09)"
      ]
     },
     "execution_count": 141,
     "metadata": {},
     "output_type": "execute_result"
    }
   ],
   "source": [
    "f_oneway(good, average, exceptional, negative)"
   ]
  },
  {
   "cell_type": "markdown",
   "metadata": {},
   "source": [
    "### Evaluate Some Algorithms"
   ]
  },
  {
   "cell_type": "code",
   "execution_count": 144,
   "metadata": {},
   "outputs": [
    {
     "data": {
      "text/html": [
       "<div>\n",
       "<style>\n",
       "    .dataframe thead tr:only-child th {\n",
       "        text-align: right;\n",
       "    }\n",
       "\n",
       "    .dataframe thead th {\n",
       "        text-align: left;\n",
       "    }\n",
       "\n",
       "    .dataframe tbody tr th {\n",
       "        vertical-align: top;\n",
       "    }\n",
       "</style>\n",
       "<table border=\"1\" class=\"dataframe\">\n",
       "  <thead>\n",
       "    <tr style=\"text-align: right;\">\n",
       "      <th></th>\n",
       "      <th>batch</th>\n",
       "      <th>urls</th>\n",
       "      <th>bestrating</th>\n",
       "      <th>imagesrc</th>\n",
       "      <th>ingredients</th>\n",
       "      <th>makeitagainscore</th>\n",
       "      <th>preparation</th>\n",
       "      <th>rating</th>\n",
       "      <th>reviews</th>\n",
       "      <th>tags</th>\n",
       "      <th>title</th>\n",
       "      <th>ingredients_refined</th>\n",
       "      <th>tags_refined</th>\n",
       "      <th>rating_class</th>\n",
       "      <th>imagesrc_class</th>\n",
       "      <th>ingredients_count</th>\n",
       "      <th>tags_count</th>\n",
       "      <th>preparation_length</th>\n",
       "      <th>title_length</th>\n",
       "    </tr>\n",
       "  </thead>\n",
       "  <tbody>\n",
       "    <tr>\n",
       "      <th>0</th>\n",
       "      <td>0-249</td>\n",
       "      <td>https://www.epicurious.com/recipes/food/views/...</td>\n",
       "      <td>4.0</td>\n",
       "      <td>https://assets.epicurious.com/photos/56df1d8cb...</td>\n",
       "      <td>['2 cups whole-wheat flour', '2 cups all-purpo...</td>\n",
       "      <td>90.0</td>\n",
       "      <td>Put oven rack in middle position and preheat o...</td>\n",
       "      <td>3.5</td>\n",
       "      <td>50.0</td>\n",
       "      <td>['Irish', 'Bread', 'Bake', 'Vegetarian', 'Quic...</td>\n",
       "      <td>Irish Brown Bread</td>\n",
       "      <td>[2 cups whole-wheat flour, 2 cups all-purpose ...</td>\n",
       "      <td>[Irish, Bread, Bake, Vegetarian, Quick &amp; Easy,...</td>\n",
       "      <td>good</td>\n",
       "      <td>yes</td>\n",
       "      <td>9.0</td>\n",
       "      <td>8.0</td>\n",
       "      <td>829</td>\n",
       "      <td>18</td>\n",
       "    </tr>\n",
       "    <tr>\n",
       "      <th>1</th>\n",
       "      <td>0-249</td>\n",
       "      <td>https://www.epicurious.com/recipes/food/views/...</td>\n",
       "      <td>4.0</td>\n",
       "      <td>https://assets.epicurious.com/photos/5a78b5919...</td>\n",
       "      <td>['1 Tbsp. crushed red pepper flakes', '1 Tbsp....</td>\n",
       "      <td>91.0</td>\n",
       "      <td>Coarsely grind red pepper flakes, peppercorns,...</td>\n",
       "      <td>3.0</td>\n",
       "      <td>11.0</td>\n",
       "      <td>['Pepper', 'Fennel', 'Pork', 'Garlic', 'White ...</td>\n",
       "      <td>Slow-Cooked Pork with Chickpeas</td>\n",
       "      <td>[1 Tbsp. crushed red pepper flakes, 1 Tbsp. wh...</td>\n",
       "      <td>[Pepper, Fennel, Pork, Garlic, White Wine, Oni...</td>\n",
       "      <td>average</td>\n",
       "      <td>yes</td>\n",
       "      <td>14.0</td>\n",
       "      <td>12.0</td>\n",
       "      <td>1506</td>\n",
       "      <td>32</td>\n",
       "    </tr>\n",
       "  </tbody>\n",
       "</table>\n",
       "</div>"
      ],
      "text/plain": [
       "   batch                                               urls  bestrating  \\\n",
       "0  0-249  https://www.epicurious.com/recipes/food/views/...         4.0   \n",
       "1  0-249  https://www.epicurious.com/recipes/food/views/...         4.0   \n",
       "\n",
       "                                            imagesrc  \\\n",
       "0  https://assets.epicurious.com/photos/56df1d8cb...   \n",
       "1  https://assets.epicurious.com/photos/5a78b5919...   \n",
       "\n",
       "                                         ingredients  makeitagainscore  \\\n",
       "0  ['2 cups whole-wheat flour', '2 cups all-purpo...              90.0   \n",
       "1  ['1 Tbsp. crushed red pepper flakes', '1 Tbsp....              91.0   \n",
       "\n",
       "                                         preparation  rating  reviews  \\\n",
       "0  Put oven rack in middle position and preheat o...     3.5     50.0   \n",
       "1  Coarsely grind red pepper flakes, peppercorns,...     3.0     11.0   \n",
       "\n",
       "                                                tags  \\\n",
       "0  ['Irish', 'Bread', 'Bake', 'Vegetarian', 'Quic...   \n",
       "1  ['Pepper', 'Fennel', 'Pork', 'Garlic', 'White ...   \n",
       "\n",
       "                              title  \\\n",
       "0                Irish Brown Bread    \n",
       "1  Slow-Cooked Pork with Chickpeas    \n",
       "\n",
       "                                 ingredients_refined  \\\n",
       "0  [2 cups whole-wheat flour, 2 cups all-purpose ...   \n",
       "1  [1 Tbsp. crushed red pepper flakes, 1 Tbsp. wh...   \n",
       "\n",
       "                                        tags_refined rating_class  \\\n",
       "0  [Irish, Bread, Bake, Vegetarian, Quick & Easy,...         good   \n",
       "1  [Pepper, Fennel, Pork, Garlic, White Wine, Oni...      average   \n",
       "\n",
       "  imagesrc_class  ingredients_count  tags_count  preparation_length  \\\n",
       "0            yes                9.0         8.0                 829   \n",
       "1            yes               14.0        12.0                1506   \n",
       "\n",
       "   title_length  \n",
       "0            18  \n",
       "1            32  "
      ]
     },
     "execution_count": 144,
     "metadata": {},
     "output_type": "execute_result"
    }
   ],
   "source": [
    "df.head(2)"
   ]
  },
  {
   "cell_type": "markdown",
   "metadata": {},
   "source": [
    "#### create a validation dataset"
   ]
  },
  {
   "cell_type": "code",
   "execution_count": 163,
   "metadata": {},
   "outputs": [],
   "source": [
    "from sklearn.model_selection import train_test_split\n",
    "from sklearn.feature_extraction.text import TfidfVectorizer"
   ]
  },
  {
   "cell_type": "code",
   "execution_count": 164,
   "metadata": {},
   "outputs": [
    {
     "name": "stdout",
     "output_type": "stream",
     "text": [
      "<class 'pandas.core.frame.DataFrame'>\n",
      "Int64Index: 11494 entries, 0 to 11523\n",
      "Data columns (total 19 columns):\n",
      "batch                  11494 non-null object\n",
      "urls                   11494 non-null object\n",
      "bestrating             11494 non-null float64\n",
      "imagesrc               5644 non-null object\n",
      "ingredients            11494 non-null object\n",
      "makeitagainscore       11494 non-null float64\n",
      "preparation            11494 non-null object\n",
      "rating                 11494 non-null float64\n",
      "reviews                11494 non-null float64\n",
      "tags                   11494 non-null object\n",
      "title                  11494 non-null object\n",
      "ingredients_refined    11494 non-null object\n",
      "tags_refined           11494 non-null object\n",
      "rating_class           11494 non-null object\n",
      "imagesrc_class         11494 non-null object\n",
      "ingredients_count      11494 non-null float64\n",
      "tags_count             11494 non-null float64\n",
      "preparation_length     11494 non-null int64\n",
      "title_length           11494 non-null int64\n",
      "dtypes: float64(6), int64(2), object(11)\n",
      "memory usage: 2.1+ MB\n"
     ]
    }
   ],
   "source": [
    "df.info()"
   ]
  },
  {
   "cell_type": "code",
   "execution_count": 165,
   "metadata": {},
   "outputs": [
    {
     "data": {
      "text/plain": [
       "good           6452\n",
       "average        2955\n",
       "exceptional    1432\n",
       "negative        655\n",
       "Name: rating_class, dtype: int64"
      ]
     },
     "execution_count": 165,
     "metadata": {},
     "output_type": "execute_result"
    }
   ],
   "source": [
    "df['rating_class'].value_counts()"
   ]
  },
  {
   "cell_type": "code",
   "execution_count": 166,
   "metadata": {},
   "outputs": [],
   "source": [
    "validation_size = 0.20\n",
    "seed = 7"
   ]
  },
  {
   "cell_type": "code",
   "execution_count": 167,
   "metadata": {},
   "outputs": [],
   "source": [
    "X = df.values\n",
    "y = df.values[:,13] # rating_class"
   ]
  },
  {
   "cell_type": "code",
   "execution_count": 168,
   "metadata": {},
   "outputs": [],
   "source": [
    "X_train, X_validation, y_train, y_validation = train_test_split(\n",
    "    X, y, test_size=validation_size, random_state=seed)"
   ]
  },
  {
   "cell_type": "code",
   "execution_count": 169,
   "metadata": {},
   "outputs": [],
   "source": [
    "# NLP SPARSE\n",
    "X_train_nlp = X_train[:,6]\n",
    "X_validation_nlp = X_validation[:,6]\n",
    "vect = TfidfVectorizer(stop_words='english')\n",
    "tf_transformer = vect.fit(X_train_nlp)\n",
    "# encode document\n",
    "X_train_nlp = tf_transformer.transform(X_train_nlp)\n",
    "X_validation_nlp = tf_transformer.transform(X_validation_nlp)"
   ]
  },
  {
   "cell_type": "code",
   "execution_count": 170,
   "metadata": {},
   "outputs": [
    {
     "name": "stdout",
     "output_type": "stream",
     "text": [
      "X_train_nlp:(9195, 7784)\n",
      "X_validation_nlp:(2299, 7784)\n"
     ]
    }
   ],
   "source": [
    "print(f\"X_train_nlp:{X_train_nlp.shape}\")\n",
    "print(f\"X_validation_nlp:{X_validation_nlp.shape}\")"
   ]
  },
  {
   "cell_type": "code",
   "execution_count": 171,
   "metadata": {},
   "outputs": [],
   "source": [
    "# DENSE\n",
    "X_train_dense = X_train[:,11:16] # imagesrc_class, ingredients_elements, tags_elements, preparation_length, title_length\n",
    "X_validation_dense = X_validation[:,11:16]"
   ]
  },
  {
   "cell_type": "code",
   "execution_count": 172,
   "metadata": {},
   "outputs": [
    {
     "name": "stdout",
     "output_type": "stream",
     "text": [
      "X_train_dense:(9195, 5)\n",
      "X_validation_dense:(2299, 5)\n"
     ]
    }
   ],
   "source": [
    "print(f\"X_train_dense:{X_train_dense.shape}\")\n",
    "print(f\"X_validation_dense:{X_validation_dense.shape}\")"
   ]
  },
  {
   "cell_type": "code",
   "execution_count": 173,
   "metadata": {},
   "outputs": [
    {
     "data": {
      "text/plain": [
       "(array(['average', 'exceptional', 'good', 'negative'], dtype=object),\n",
       " array([2955, 1432, 6452,  655]))"
      ]
     },
     "execution_count": 173,
     "metadata": {},
     "output_type": "execute_result"
    }
   ],
   "source": [
    "np.unique(y, return_counts=True)"
   ]
  },
  {
   "cell_type": "markdown",
   "metadata": {},
   "source": [
    "### PCA"
   ]
  },
  {
   "cell_type": "code",
   "execution_count": 174,
   "metadata": {},
   "outputs": [
    {
     "data": {
      "text/plain": [
       "TruncatedSVD(algorithm='randomized', n_components=500, n_iter=8,\n",
       "       random_state=42, tol=0.0)"
      ]
     },
     "execution_count": 174,
     "metadata": {},
     "output_type": "execute_result"
    }
   ],
   "source": [
    "from sklearn.decomposition import TruncatedSVD\n",
    "svd = TruncatedSVD(n_components=500, n_iter=8, random_state=42)\n",
    "svd.fit(X_train_nlp)"
   ]
  },
  {
   "cell_type": "code",
   "execution_count": 175,
   "metadata": {},
   "outputs": [
    {
     "name": "stdout",
     "output_type": "stream",
     "text": [
      "0.712912127927\n"
     ]
    }
   ],
   "source": [
    "print(svd.explained_variance_ratio_.sum())  "
   ]
  },
  {
   "cell_type": "code",
   "execution_count": 176,
   "metadata": {},
   "outputs": [],
   "source": [
    "X_train_nlp_pca = svd.transform(X_train_nlp)"
   ]
  },
  {
   "cell_type": "code",
   "execution_count": 177,
   "metadata": {},
   "outputs": [
    {
     "data": {
      "text/plain": [
       "(9195, 500)"
      ]
     },
     "execution_count": 177,
     "metadata": {},
     "output_type": "execute_result"
    }
   ],
   "source": [
    "X_train_nlp_pca.shape"
   ]
  },
  {
   "cell_type": "code",
   "execution_count": 178,
   "metadata": {},
   "outputs": [],
   "source": [
    "X_validation_nlp_pca = svd.transform(X_validation_nlp)"
   ]
  },
  {
   "cell_type": "code",
   "execution_count": 179,
   "metadata": {},
   "outputs": [
    {
     "data": {
      "text/plain": [
       "(2299, 500)"
      ]
     },
     "execution_count": 179,
     "metadata": {},
     "output_type": "execute_result"
    }
   ],
   "source": [
    "X_validation_nlp_pca.shape"
   ]
  },
  {
   "cell_type": "code",
   "execution_count": 180,
   "metadata": {},
   "outputs": [],
   "source": [
    "X_train = np.hstack((X_train_nlp_pca,X_train_dense)) "
   ]
  },
  {
   "cell_type": "code",
   "execution_count": 181,
   "metadata": {},
   "outputs": [],
   "source": [
    "X_validation = np.hstack((X_validation_nlp_pca,X_validation_dense)) "
   ]
  },
  {
   "cell_type": "code",
   "execution_count": 182,
   "metadata": {},
   "outputs": [
    {
     "data": {
      "text/plain": [
       "(9195, 505)"
      ]
     },
     "execution_count": 182,
     "metadata": {},
     "output_type": "execute_result"
    }
   ],
   "source": [
    "X_train.shape"
   ]
  },
  {
   "cell_type": "code",
   "execution_count": 183,
   "metadata": {},
   "outputs": [
    {
     "data": {
      "text/plain": [
       "(2299, 505)"
      ]
     },
     "execution_count": 183,
     "metadata": {},
     "output_type": "execute_result"
    }
   ],
   "source": [
    "X_validation.shape"
   ]
  },
  {
   "cell_type": "markdown",
   "metadata": {},
   "source": [
    "#### build models and cross validation"
   ]
  },
  {
   "cell_type": "code",
   "execution_count": 184,
   "metadata": {},
   "outputs": [],
   "source": [
    "# models\n",
    "from sklearn.linear_model import LogisticRegression\n",
    "from sklearn.tree import DecisionTreeClassifier\n",
    "from sklearn.neighbors import KNeighborsClassifier\n",
    "from sklearn.discriminant_analysis import LinearDiscriminantAnalysis\n",
    "from sklearn.naive_bayes import MultinomialNB\n",
    "from sklearn.svm import SVC\n",
    "from sklearn.ensemble import RandomForestClassifier"
   ]
  },
  {
   "cell_type": "code",
   "execution_count": 185,
   "metadata": {},
   "outputs": [],
   "source": [
    "# Test options and evaluation metric\n",
    "seed = 7\n",
    "scoring = 'accuracy'"
   ]
  },
  {
   "cell_type": "code",
   "execution_count": 186,
   "metadata": {},
   "outputs": [],
   "source": [
    "# kfold cross validation\n",
    "from sklearn import model_selection"
   ]
  },
  {
   "cell_type": "code",
   "execution_count": 187,
   "metadata": {},
   "outputs": [],
   "source": [
    "models = []\n",
    "models.append(('LR',LogisticRegression()))\n",
    "models.append(('CART',DecisionTreeClassifier()))\n",
    "models.append(('KNN',KNeighborsClassifier()))\n",
    "models.append(('LDA',LinearDiscriminantAnalysis()))\n",
    "# models.append(('NB',MultinomialNB()))\n",
    "models.append(('SVM',SVC()))\n",
    "models.append(('RF',RandomForestClassifier()))"
   ]
  },
  {
   "cell_type": "code",
   "execution_count": 188,
   "metadata": {},
   "outputs": [
    {
     "ename": "ValueError",
     "evalue": "could not convert string to float: 'no'",
     "output_type": "error",
     "traceback": [
      "\u001b[0;31m---------------------------------------------------------------------------\u001b[0m",
      "\u001b[0;31mValueError\u001b[0m                                Traceback (most recent call last)",
      "\u001b[0;32m<ipython-input-188-5dd1984d39da>\u001b[0m in \u001b[0;36m<module>\u001b[0;34m()\u001b[0m\n\u001b[1;32m      5\u001b[0m \u001b[0;32mfor\u001b[0m \u001b[0mname\u001b[0m\u001b[0;34m,\u001b[0m \u001b[0mmodel\u001b[0m \u001b[0;32min\u001b[0m \u001b[0mmodels\u001b[0m\u001b[0;34m:\u001b[0m\u001b[0;34m\u001b[0m\u001b[0m\n\u001b[1;32m      6\u001b[0m     \u001b[0mkfold\u001b[0m \u001b[0;34m=\u001b[0m \u001b[0mmodel_selection\u001b[0m\u001b[0;34m.\u001b[0m\u001b[0mKFold\u001b[0m\u001b[0;34m(\u001b[0m\u001b[0mn_splits\u001b[0m\u001b[0;34m=\u001b[0m\u001b[0;36m10\u001b[0m\u001b[0;34m,\u001b[0m\u001b[0mrandom_state\u001b[0m\u001b[0;34m=\u001b[0m\u001b[0mseed\u001b[0m\u001b[0;34m)\u001b[0m\u001b[0;34m\u001b[0m\u001b[0m\n\u001b[0;32m----> 7\u001b[0;31m     \u001b[0mcv_results\u001b[0m \u001b[0;34m=\u001b[0m \u001b[0mmodel_selection\u001b[0m\u001b[0;34m.\u001b[0m\u001b[0mcross_val_score\u001b[0m\u001b[0;34m(\u001b[0m\u001b[0mmodel\u001b[0m\u001b[0;34m,\u001b[0m \u001b[0mX_train\u001b[0m\u001b[0;34m,\u001b[0m \u001b[0my_train\u001b[0m\u001b[0;34m,\u001b[0m \u001b[0mcv\u001b[0m\u001b[0;34m=\u001b[0m\u001b[0mkfold\u001b[0m\u001b[0;34m,\u001b[0m \u001b[0mscoring\u001b[0m\u001b[0;34m=\u001b[0m\u001b[0mscoring\u001b[0m\u001b[0;34m)\u001b[0m\u001b[0;34m\u001b[0m\u001b[0m\n\u001b[0m\u001b[1;32m      8\u001b[0m     \u001b[0mresults\u001b[0m\u001b[0;34m.\u001b[0m\u001b[0mappend\u001b[0m\u001b[0;34m(\u001b[0m\u001b[0mcv_results\u001b[0m\u001b[0;34m)\u001b[0m\u001b[0;34m\u001b[0m\u001b[0m\n\u001b[1;32m      9\u001b[0m     \u001b[0mnames\u001b[0m\u001b[0;34m.\u001b[0m\u001b[0mappend\u001b[0m\u001b[0;34m(\u001b[0m\u001b[0mname\u001b[0m\u001b[0;34m)\u001b[0m\u001b[0;34m\u001b[0m\u001b[0m\n",
      "\u001b[0;32m/anaconda/envs/py36/lib/python3.6/site-packages/sklearn/model_selection/_validation.py\u001b[0m in \u001b[0;36mcross_val_score\u001b[0;34m(estimator, X, y, groups, scoring, cv, n_jobs, verbose, fit_params, pre_dispatch)\u001b[0m\n\u001b[1;32m    319\u001b[0m                                 \u001b[0mn_jobs\u001b[0m\u001b[0;34m=\u001b[0m\u001b[0mn_jobs\u001b[0m\u001b[0;34m,\u001b[0m \u001b[0mverbose\u001b[0m\u001b[0;34m=\u001b[0m\u001b[0mverbose\u001b[0m\u001b[0;34m,\u001b[0m\u001b[0;34m\u001b[0m\u001b[0m\n\u001b[1;32m    320\u001b[0m                                 \u001b[0mfit_params\u001b[0m\u001b[0;34m=\u001b[0m\u001b[0mfit_params\u001b[0m\u001b[0;34m,\u001b[0m\u001b[0;34m\u001b[0m\u001b[0m\n\u001b[0;32m--> 321\u001b[0;31m                                 pre_dispatch=pre_dispatch)\n\u001b[0m\u001b[1;32m    322\u001b[0m     \u001b[0;32mreturn\u001b[0m \u001b[0mcv_results\u001b[0m\u001b[0;34m[\u001b[0m\u001b[0;34m'test_score'\u001b[0m\u001b[0;34m]\u001b[0m\u001b[0;34m\u001b[0m\u001b[0m\n\u001b[1;32m    323\u001b[0m \u001b[0;34m\u001b[0m\u001b[0m\n",
      "\u001b[0;32m/anaconda/envs/py36/lib/python3.6/site-packages/sklearn/model_selection/_validation.py\u001b[0m in \u001b[0;36mcross_validate\u001b[0;34m(estimator, X, y, groups, scoring, cv, n_jobs, verbose, fit_params, pre_dispatch, return_train_score)\u001b[0m\n\u001b[1;32m    193\u001b[0m             \u001b[0mfit_params\u001b[0m\u001b[0;34m,\u001b[0m \u001b[0mreturn_train_score\u001b[0m\u001b[0;34m=\u001b[0m\u001b[0mreturn_train_score\u001b[0m\u001b[0;34m,\u001b[0m\u001b[0;34m\u001b[0m\u001b[0m\n\u001b[1;32m    194\u001b[0m             return_times=True)\n\u001b[0;32m--> 195\u001b[0;31m         for train, test in cv.split(X, y, groups))\n\u001b[0m\u001b[1;32m    196\u001b[0m \u001b[0;34m\u001b[0m\u001b[0m\n\u001b[1;32m    197\u001b[0m     \u001b[0;32mif\u001b[0m \u001b[0mreturn_train_score\u001b[0m\u001b[0;34m:\u001b[0m\u001b[0;34m\u001b[0m\u001b[0m\n",
      "\u001b[0;32m/anaconda/envs/py36/lib/python3.6/site-packages/sklearn/externals/joblib/parallel.py\u001b[0m in \u001b[0;36m__call__\u001b[0;34m(self, iterable)\u001b[0m\n\u001b[1;32m    777\u001b[0m             \u001b[0;31m# was dispatched. In particular this covers the edge\u001b[0m\u001b[0;34m\u001b[0m\u001b[0;34m\u001b[0m\u001b[0m\n\u001b[1;32m    778\u001b[0m             \u001b[0;31m# case of Parallel used with an exhausted iterator.\u001b[0m\u001b[0;34m\u001b[0m\u001b[0;34m\u001b[0m\u001b[0m\n\u001b[0;32m--> 779\u001b[0;31m             \u001b[0;32mwhile\u001b[0m \u001b[0mself\u001b[0m\u001b[0;34m.\u001b[0m\u001b[0mdispatch_one_batch\u001b[0m\u001b[0;34m(\u001b[0m\u001b[0miterator\u001b[0m\u001b[0;34m)\u001b[0m\u001b[0;34m:\u001b[0m\u001b[0;34m\u001b[0m\u001b[0m\n\u001b[0m\u001b[1;32m    780\u001b[0m                 \u001b[0mself\u001b[0m\u001b[0;34m.\u001b[0m\u001b[0m_iterating\u001b[0m \u001b[0;34m=\u001b[0m \u001b[0;32mTrue\u001b[0m\u001b[0;34m\u001b[0m\u001b[0m\n\u001b[1;32m    781\u001b[0m             \u001b[0;32melse\u001b[0m\u001b[0;34m:\u001b[0m\u001b[0;34m\u001b[0m\u001b[0m\n",
      "\u001b[0;32m/anaconda/envs/py36/lib/python3.6/site-packages/sklearn/externals/joblib/parallel.py\u001b[0m in \u001b[0;36mdispatch_one_batch\u001b[0;34m(self, iterator)\u001b[0m\n\u001b[1;32m    623\u001b[0m                 \u001b[0;32mreturn\u001b[0m \u001b[0;32mFalse\u001b[0m\u001b[0;34m\u001b[0m\u001b[0m\n\u001b[1;32m    624\u001b[0m             \u001b[0;32melse\u001b[0m\u001b[0;34m:\u001b[0m\u001b[0;34m\u001b[0m\u001b[0m\n\u001b[0;32m--> 625\u001b[0;31m                 \u001b[0mself\u001b[0m\u001b[0;34m.\u001b[0m\u001b[0m_dispatch\u001b[0m\u001b[0;34m(\u001b[0m\u001b[0mtasks\u001b[0m\u001b[0;34m)\u001b[0m\u001b[0;34m\u001b[0m\u001b[0m\n\u001b[0m\u001b[1;32m    626\u001b[0m                 \u001b[0;32mreturn\u001b[0m \u001b[0;32mTrue\u001b[0m\u001b[0;34m\u001b[0m\u001b[0m\n\u001b[1;32m    627\u001b[0m \u001b[0;34m\u001b[0m\u001b[0m\n",
      "\u001b[0;32m/anaconda/envs/py36/lib/python3.6/site-packages/sklearn/externals/joblib/parallel.py\u001b[0m in \u001b[0;36m_dispatch\u001b[0;34m(self, batch)\u001b[0m\n\u001b[1;32m    586\u001b[0m         \u001b[0mdispatch_timestamp\u001b[0m \u001b[0;34m=\u001b[0m \u001b[0mtime\u001b[0m\u001b[0;34m.\u001b[0m\u001b[0mtime\u001b[0m\u001b[0;34m(\u001b[0m\u001b[0;34m)\u001b[0m\u001b[0;34m\u001b[0m\u001b[0m\n\u001b[1;32m    587\u001b[0m         \u001b[0mcb\u001b[0m \u001b[0;34m=\u001b[0m \u001b[0mBatchCompletionCallBack\u001b[0m\u001b[0;34m(\u001b[0m\u001b[0mdispatch_timestamp\u001b[0m\u001b[0;34m,\u001b[0m \u001b[0mlen\u001b[0m\u001b[0;34m(\u001b[0m\u001b[0mbatch\u001b[0m\u001b[0;34m)\u001b[0m\u001b[0;34m,\u001b[0m \u001b[0mself\u001b[0m\u001b[0;34m)\u001b[0m\u001b[0;34m\u001b[0m\u001b[0m\n\u001b[0;32m--> 588\u001b[0;31m         \u001b[0mjob\u001b[0m \u001b[0;34m=\u001b[0m \u001b[0mself\u001b[0m\u001b[0;34m.\u001b[0m\u001b[0m_backend\u001b[0m\u001b[0;34m.\u001b[0m\u001b[0mapply_async\u001b[0m\u001b[0;34m(\u001b[0m\u001b[0mbatch\u001b[0m\u001b[0;34m,\u001b[0m \u001b[0mcallback\u001b[0m\u001b[0;34m=\u001b[0m\u001b[0mcb\u001b[0m\u001b[0;34m)\u001b[0m\u001b[0;34m\u001b[0m\u001b[0m\n\u001b[0m\u001b[1;32m    589\u001b[0m         \u001b[0mself\u001b[0m\u001b[0;34m.\u001b[0m\u001b[0m_jobs\u001b[0m\u001b[0;34m.\u001b[0m\u001b[0mappend\u001b[0m\u001b[0;34m(\u001b[0m\u001b[0mjob\u001b[0m\u001b[0;34m)\u001b[0m\u001b[0;34m\u001b[0m\u001b[0m\n\u001b[1;32m    590\u001b[0m \u001b[0;34m\u001b[0m\u001b[0m\n",
      "\u001b[0;32m/anaconda/envs/py36/lib/python3.6/site-packages/sklearn/externals/joblib/_parallel_backends.py\u001b[0m in \u001b[0;36mapply_async\u001b[0;34m(self, func, callback)\u001b[0m\n\u001b[1;32m    109\u001b[0m     \u001b[0;32mdef\u001b[0m \u001b[0mapply_async\u001b[0m\u001b[0;34m(\u001b[0m\u001b[0mself\u001b[0m\u001b[0;34m,\u001b[0m \u001b[0mfunc\u001b[0m\u001b[0;34m,\u001b[0m \u001b[0mcallback\u001b[0m\u001b[0;34m=\u001b[0m\u001b[0;32mNone\u001b[0m\u001b[0;34m)\u001b[0m\u001b[0;34m:\u001b[0m\u001b[0;34m\u001b[0m\u001b[0m\n\u001b[1;32m    110\u001b[0m         \u001b[0;34m\"\"\"Schedule a func to be run\"\"\"\u001b[0m\u001b[0;34m\u001b[0m\u001b[0m\n\u001b[0;32m--> 111\u001b[0;31m         \u001b[0mresult\u001b[0m \u001b[0;34m=\u001b[0m \u001b[0mImmediateResult\u001b[0m\u001b[0;34m(\u001b[0m\u001b[0mfunc\u001b[0m\u001b[0;34m)\u001b[0m\u001b[0;34m\u001b[0m\u001b[0m\n\u001b[0m\u001b[1;32m    112\u001b[0m         \u001b[0;32mif\u001b[0m \u001b[0mcallback\u001b[0m\u001b[0;34m:\u001b[0m\u001b[0;34m\u001b[0m\u001b[0m\n\u001b[1;32m    113\u001b[0m             \u001b[0mcallback\u001b[0m\u001b[0;34m(\u001b[0m\u001b[0mresult\u001b[0m\u001b[0;34m)\u001b[0m\u001b[0;34m\u001b[0m\u001b[0m\n",
      "\u001b[0;32m/anaconda/envs/py36/lib/python3.6/site-packages/sklearn/externals/joblib/_parallel_backends.py\u001b[0m in \u001b[0;36m__init__\u001b[0;34m(self, batch)\u001b[0m\n\u001b[1;32m    330\u001b[0m         \u001b[0;31m# Don't delay the application, to avoid keeping the input\u001b[0m\u001b[0;34m\u001b[0m\u001b[0;34m\u001b[0m\u001b[0m\n\u001b[1;32m    331\u001b[0m         \u001b[0;31m# arguments in memory\u001b[0m\u001b[0;34m\u001b[0m\u001b[0;34m\u001b[0m\u001b[0m\n\u001b[0;32m--> 332\u001b[0;31m         \u001b[0mself\u001b[0m\u001b[0;34m.\u001b[0m\u001b[0mresults\u001b[0m \u001b[0;34m=\u001b[0m \u001b[0mbatch\u001b[0m\u001b[0;34m(\u001b[0m\u001b[0;34m)\u001b[0m\u001b[0;34m\u001b[0m\u001b[0m\n\u001b[0m\u001b[1;32m    333\u001b[0m \u001b[0;34m\u001b[0m\u001b[0m\n\u001b[1;32m    334\u001b[0m     \u001b[0;32mdef\u001b[0m \u001b[0mget\u001b[0m\u001b[0;34m(\u001b[0m\u001b[0mself\u001b[0m\u001b[0;34m)\u001b[0m\u001b[0;34m:\u001b[0m\u001b[0;34m\u001b[0m\u001b[0m\n",
      "\u001b[0;32m/anaconda/envs/py36/lib/python3.6/site-packages/sklearn/externals/joblib/parallel.py\u001b[0m in \u001b[0;36m__call__\u001b[0;34m(self)\u001b[0m\n\u001b[1;32m    129\u001b[0m \u001b[0;34m\u001b[0m\u001b[0m\n\u001b[1;32m    130\u001b[0m     \u001b[0;32mdef\u001b[0m \u001b[0m__call__\u001b[0m\u001b[0;34m(\u001b[0m\u001b[0mself\u001b[0m\u001b[0;34m)\u001b[0m\u001b[0;34m:\u001b[0m\u001b[0;34m\u001b[0m\u001b[0m\n\u001b[0;32m--> 131\u001b[0;31m         \u001b[0;32mreturn\u001b[0m \u001b[0;34m[\u001b[0m\u001b[0mfunc\u001b[0m\u001b[0;34m(\u001b[0m\u001b[0;34m*\u001b[0m\u001b[0margs\u001b[0m\u001b[0;34m,\u001b[0m \u001b[0;34m**\u001b[0m\u001b[0mkwargs\u001b[0m\u001b[0;34m)\u001b[0m \u001b[0;32mfor\u001b[0m \u001b[0mfunc\u001b[0m\u001b[0;34m,\u001b[0m \u001b[0margs\u001b[0m\u001b[0;34m,\u001b[0m \u001b[0mkwargs\u001b[0m \u001b[0;32min\u001b[0m \u001b[0mself\u001b[0m\u001b[0;34m.\u001b[0m\u001b[0mitems\u001b[0m\u001b[0;34m]\u001b[0m\u001b[0;34m\u001b[0m\u001b[0m\n\u001b[0m\u001b[1;32m    132\u001b[0m \u001b[0;34m\u001b[0m\u001b[0m\n\u001b[1;32m    133\u001b[0m     \u001b[0;32mdef\u001b[0m \u001b[0m__len__\u001b[0m\u001b[0;34m(\u001b[0m\u001b[0mself\u001b[0m\u001b[0;34m)\u001b[0m\u001b[0;34m:\u001b[0m\u001b[0;34m\u001b[0m\u001b[0m\n",
      "\u001b[0;32m/anaconda/envs/py36/lib/python3.6/site-packages/sklearn/externals/joblib/parallel.py\u001b[0m in \u001b[0;36m<listcomp>\u001b[0;34m(.0)\u001b[0m\n\u001b[1;32m    129\u001b[0m \u001b[0;34m\u001b[0m\u001b[0m\n\u001b[1;32m    130\u001b[0m     \u001b[0;32mdef\u001b[0m \u001b[0m__call__\u001b[0m\u001b[0;34m(\u001b[0m\u001b[0mself\u001b[0m\u001b[0;34m)\u001b[0m\u001b[0;34m:\u001b[0m\u001b[0;34m\u001b[0m\u001b[0m\n\u001b[0;32m--> 131\u001b[0;31m         \u001b[0;32mreturn\u001b[0m \u001b[0;34m[\u001b[0m\u001b[0mfunc\u001b[0m\u001b[0;34m(\u001b[0m\u001b[0;34m*\u001b[0m\u001b[0margs\u001b[0m\u001b[0;34m,\u001b[0m \u001b[0;34m**\u001b[0m\u001b[0mkwargs\u001b[0m\u001b[0;34m)\u001b[0m \u001b[0;32mfor\u001b[0m \u001b[0mfunc\u001b[0m\u001b[0;34m,\u001b[0m \u001b[0margs\u001b[0m\u001b[0;34m,\u001b[0m \u001b[0mkwargs\u001b[0m \u001b[0;32min\u001b[0m \u001b[0mself\u001b[0m\u001b[0;34m.\u001b[0m\u001b[0mitems\u001b[0m\u001b[0;34m]\u001b[0m\u001b[0;34m\u001b[0m\u001b[0m\n\u001b[0m\u001b[1;32m    132\u001b[0m \u001b[0;34m\u001b[0m\u001b[0m\n\u001b[1;32m    133\u001b[0m     \u001b[0;32mdef\u001b[0m \u001b[0m__len__\u001b[0m\u001b[0;34m(\u001b[0m\u001b[0mself\u001b[0m\u001b[0;34m)\u001b[0m\u001b[0;34m:\u001b[0m\u001b[0;34m\u001b[0m\u001b[0m\n",
      "\u001b[0;32m/anaconda/envs/py36/lib/python3.6/site-packages/sklearn/model_selection/_validation.py\u001b[0m in \u001b[0;36m_fit_and_score\u001b[0;34m(estimator, X, y, scorer, train, test, verbose, parameters, fit_params, return_train_score, return_parameters, return_n_test_samples, return_times, error_score)\u001b[0m\n\u001b[1;32m    435\u001b[0m             \u001b[0mestimator\u001b[0m\u001b[0;34m.\u001b[0m\u001b[0mfit\u001b[0m\u001b[0;34m(\u001b[0m\u001b[0mX_train\u001b[0m\u001b[0;34m,\u001b[0m \u001b[0;34m**\u001b[0m\u001b[0mfit_params\u001b[0m\u001b[0;34m)\u001b[0m\u001b[0;34m\u001b[0m\u001b[0m\n\u001b[1;32m    436\u001b[0m         \u001b[0;32melse\u001b[0m\u001b[0;34m:\u001b[0m\u001b[0;34m\u001b[0m\u001b[0m\n\u001b[0;32m--> 437\u001b[0;31m             \u001b[0mestimator\u001b[0m\u001b[0;34m.\u001b[0m\u001b[0mfit\u001b[0m\u001b[0;34m(\u001b[0m\u001b[0mX_train\u001b[0m\u001b[0;34m,\u001b[0m \u001b[0my_train\u001b[0m\u001b[0;34m,\u001b[0m \u001b[0;34m**\u001b[0m\u001b[0mfit_params\u001b[0m\u001b[0;34m)\u001b[0m\u001b[0;34m\u001b[0m\u001b[0m\n\u001b[0m\u001b[1;32m    438\u001b[0m \u001b[0;34m\u001b[0m\u001b[0m\n\u001b[1;32m    439\u001b[0m     \u001b[0;32mexcept\u001b[0m \u001b[0mException\u001b[0m \u001b[0;32mas\u001b[0m \u001b[0me\u001b[0m\u001b[0;34m:\u001b[0m\u001b[0;34m\u001b[0m\u001b[0m\n",
      "\u001b[0;32m/anaconda/envs/py36/lib/python3.6/site-packages/sklearn/linear_model/logistic.py\u001b[0m in \u001b[0;36mfit\u001b[0;34m(self, X, y, sample_weight)\u001b[0m\n\u001b[1;32m   1214\u001b[0m \u001b[0;34m\u001b[0m\u001b[0m\n\u001b[1;32m   1215\u001b[0m         X, y = check_X_y(X, y, accept_sparse='csr', dtype=_dtype,\n\u001b[0;32m-> 1216\u001b[0;31m                          order=\"C\")\n\u001b[0m\u001b[1;32m   1217\u001b[0m         \u001b[0mcheck_classification_targets\u001b[0m\u001b[0;34m(\u001b[0m\u001b[0my\u001b[0m\u001b[0;34m)\u001b[0m\u001b[0;34m\u001b[0m\u001b[0m\n\u001b[1;32m   1218\u001b[0m         \u001b[0mself\u001b[0m\u001b[0;34m.\u001b[0m\u001b[0mclasses_\u001b[0m \u001b[0;34m=\u001b[0m \u001b[0mnp\u001b[0m\u001b[0;34m.\u001b[0m\u001b[0munique\u001b[0m\u001b[0;34m(\u001b[0m\u001b[0my\u001b[0m\u001b[0;34m)\u001b[0m\u001b[0;34m\u001b[0m\u001b[0m\n",
      "\u001b[0;32m/anaconda/envs/py36/lib/python3.6/site-packages/sklearn/utils/validation.py\u001b[0m in \u001b[0;36mcheck_X_y\u001b[0;34m(X, y, accept_sparse, dtype, order, copy, force_all_finite, ensure_2d, allow_nd, multi_output, ensure_min_samples, ensure_min_features, y_numeric, warn_on_dtype, estimator)\u001b[0m\n\u001b[1;32m    540\u001b[0m     X = check_array(X, accept_sparse, dtype, order, copy, force_all_finite,\n\u001b[1;32m    541\u001b[0m                     \u001b[0mensure_2d\u001b[0m\u001b[0;34m,\u001b[0m \u001b[0mallow_nd\u001b[0m\u001b[0;34m,\u001b[0m \u001b[0mensure_min_samples\u001b[0m\u001b[0;34m,\u001b[0m\u001b[0;34m\u001b[0m\u001b[0m\n\u001b[0;32m--> 542\u001b[0;31m                     ensure_min_features, warn_on_dtype, estimator)\n\u001b[0m\u001b[1;32m    543\u001b[0m     \u001b[0;32mif\u001b[0m \u001b[0mmulti_output\u001b[0m\u001b[0;34m:\u001b[0m\u001b[0;34m\u001b[0m\u001b[0m\n\u001b[1;32m    544\u001b[0m         y = check_array(y, 'csr', force_all_finite=True, ensure_2d=False,\n",
      "\u001b[0;32m/anaconda/envs/py36/lib/python3.6/site-packages/sklearn/utils/validation.py\u001b[0m in \u001b[0;36mcheck_array\u001b[0;34m(array, accept_sparse, dtype, order, copy, force_all_finite, ensure_2d, allow_nd, ensure_min_samples, ensure_min_features, warn_on_dtype, estimator)\u001b[0m\n\u001b[1;32m    400\u001b[0m                                       force_all_finite)\n\u001b[1;32m    401\u001b[0m     \u001b[0;32melse\u001b[0m\u001b[0;34m:\u001b[0m\u001b[0;34m\u001b[0m\u001b[0m\n\u001b[0;32m--> 402\u001b[0;31m         \u001b[0marray\u001b[0m \u001b[0;34m=\u001b[0m \u001b[0mnp\u001b[0m\u001b[0;34m.\u001b[0m\u001b[0marray\u001b[0m\u001b[0;34m(\u001b[0m\u001b[0marray\u001b[0m\u001b[0;34m,\u001b[0m \u001b[0mdtype\u001b[0m\u001b[0;34m=\u001b[0m\u001b[0mdtype\u001b[0m\u001b[0;34m,\u001b[0m \u001b[0morder\u001b[0m\u001b[0;34m=\u001b[0m\u001b[0morder\u001b[0m\u001b[0;34m,\u001b[0m \u001b[0mcopy\u001b[0m\u001b[0;34m=\u001b[0m\u001b[0mcopy\u001b[0m\u001b[0;34m)\u001b[0m\u001b[0;34m\u001b[0m\u001b[0m\n\u001b[0m\u001b[1;32m    403\u001b[0m \u001b[0;34m\u001b[0m\u001b[0m\n\u001b[1;32m    404\u001b[0m         \u001b[0;32mif\u001b[0m \u001b[0mensure_2d\u001b[0m\u001b[0;34m:\u001b[0m\u001b[0;34m\u001b[0m\u001b[0m\n",
      "\u001b[0;31mValueError\u001b[0m: could not convert string to float: 'no'"
     ]
    }
   ],
   "source": [
    "#evaluate each model in turn \n",
    "results = []\n",
    "names = []\n",
    "\n",
    "for name, model in models:\n",
    "    kfold = model_selection.KFold(n_splits=10,random_state=seed)\n",
    "    cv_results = model_selection.cross_val_score(model, X_train, y_train, cv=kfold, scoring=scoring)\n",
    "    results.append(cv_results)\n",
    "    names.append(name)\n",
    "    msg = \"%s: %f (%f)\" % (name, cv_results.mean(), cv_results.std())\n",
    "    print(msg)"
   ]
  },
  {
   "cell_type": "code",
   "execution_count": 1640,
   "metadata": {},
   "outputs": [
    {
     "data": {
      "image/png": "[encoded data removed]",
      "text/plain": [
       "<matplotlib.figure.Figure at 0x1a3934e4a8>"
      ]
     },
     "metadata": {},
     "output_type": "display_data"
    }
   ],
   "source": [
    "# Compare Algorithms\n",
    "fig = plt.figure(figsize=(10,6))\n",
    "fig.suptitle('Algorithm Comparison')\n",
    "ax = fig.add_subplot(1,1,1)\n",
    "plt.boxplot(results)\n",
    "ax.set_xticklabels(names)\n",
    "plt.show()"
   ]
  },
  {
   "cell_type": "markdown",
   "metadata": {},
   "source": [
    "#### make predictions"
   ]
  },
  {
   "cell_type": "code",
   "execution_count": 1641,
   "metadata": {},
   "outputs": [
    {
     "name": "stdout",
     "output_type": "stream",
     "text": [
      "0.501087429317\n",
      "[[ 110   12  458    4]\n",
      " [  59   15  217    1]\n",
      " [ 227   41 1027    3]\n",
      " [  24    5   96    0]]\n",
      "             precision    recall  f1-score   support\n",
      "\n",
      "    average       0.26      0.19      0.22       584\n",
      "exceptional       0.21      0.05      0.08       292\n",
      "       good       0.57      0.79      0.66      1298\n",
      "   negative       0.00      0.00      0.00       125\n",
      "\n",
      "avg / total       0.42      0.50      0.44      2299\n",
      "\n"
     ]
    }
   ],
   "source": [
    "from sklearn.metrics import accuracy_score,confusion_matrix,classification_report\n",
    "\n",
    "# Make predictions on validation dataset\n",
    "rf = RandomForestClassifier()\n",
    "rf.fit(X_train, y_train)\n",
    "predictions = rf.predict(X_validation)\n",
    "print(accuracy_score(y_validation, predictions))\n",
    "print(confusion_matrix(y_validation, predictions))\n",
    "print(classification_report(y_validation, predictions))"
   ]
  },
  {
   "cell_type": "markdown",
   "metadata": {},
   "source": [
    "If I understand correctly, you essentially have two forms of features for your models. (1) Text data that you have represented as a sparse bag of words and (2) more traditional dense features. If that is the case then there are 3 common approaches:\n",
    "\n",
    "Perform dimensionality reduction (such as LSA via TruncatedSVD) on your sparse data to make it dense and combine the features into a single dense matrix to train your model(s).  \n",
    "\n",
    "Add your few dense features to your sparse matrix using something like scipy's hstack into a single sparse matrix to train your model(s).  \n",
    "\n",
    "Create a model using only your sparse text data and then combine its predictions (probabilities if it's classification) as a dense feature with your other dense features to create a model (ie: ensembling via stacking). If you go this route remember to only use CV predictions as features to train your model otherwise you'll likely overfit quite badly (you can make a quite class to do this all within a single Pipeline if desired)."
   ]
  }
 ],
 "metadata": {
  "kernelspec": {
   "display_name": "Python 3",
   "language": "python",
   "name": "python3"
  },
  "language_info": {
   "codemirror_mode": {
    "name": "ipython",
    "version": 3
   },
   "file_extension": ".py",
   "mimetype": "text/x-python",
   "name": "python",
   "nbconvert_exporter": "python",
   "pygments_lexer": "ipython3",
   "version": "3.6.2"
  }
 },
 "nbformat": 4,
 "nbformat_minor": 2
}
