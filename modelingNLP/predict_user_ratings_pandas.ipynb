{
 "cells": [
  {
   "cell_type": "code",
   "execution_count": 39,
   "metadata": {},
   "outputs": [],
   "source": [
    "# import relevant libraries\n",
    "import pandas as pd\n",
    "import numpy as np\n",
    "import ast\n",
    "import matplotlib.pyplot as plt\n",
    "import seaborn as sns\n",
    "from scipy.stats import chi2_contingency,f_oneway"
   ]
  },
  {
   "cell_type": "markdown",
   "metadata": {},
   "source": [
    "#### merge urls to recipe dataframe"
   ]
  },
  {
   "cell_type": "code",
   "execution_count": 40,
   "metadata": {},
   "outputs": [],
   "source": [
    "# recipes dataframes\n",
    "# there is a mismatch in df3_urls and df3_recipes 2430 vs 1022\n",
    "df1 = pd.read_csv('../ScrapeData/csv_recipes/recipe_df1.csv')\n",
    "df2 = pd.read_csv('../ScrapeData/csv_recipes/recipe_df2.csv')\n",
    "df3 = pd.read_csv('../ScrapeData/csv_recipes/recipe_df3.csv')\n",
    "df4 = pd.read_csv('../ScrapeData/csv_recipes/recipe_df4.csv')\n",
    "df5 = pd.read_csv('../ScrapeData/csv_recipes/recipe_df5.csv')\n",
    "df6 = pd.read_csv('../ScrapeData/csv_recipes/recipe_df6.csv')\n",
    "df7 = pd.read_csv('../ScrapeData/csv_recipes/recipe_df7.csv')\n",
    "df8 = pd.read_csv('../ScrapeData/csv_recipes/recipe_df8.csv')"
   ]
  },
  {
   "cell_type": "code",
   "execution_count": 41,
   "metadata": {},
   "outputs": [],
   "source": [
    "# concat the dataframes\n",
    "df_recipes = pd.concat([df1,df2,df3,df4,df5,df6,df7,df8])\n",
    "df_recipes = df_recipes.drop(['Unnamed: 0','id'], axis=1) #drop columns not required"
   ]
  },
  {
   "cell_type": "code",
   "execution_count": 42,
   "metadata": {},
   "outputs": [],
   "source": [
    "df_recipes=df_recipes.reset_index(drop='index')"
   ]
  },
  {
   "cell_type": "code",
   "execution_count": 43,
   "metadata": {},
   "outputs": [],
   "source": [
    "# url dataframes\n",
    "df1_url = pd.read_csv('../ScrapeData/csv_urls/urls_df1.csv')\n",
    "df2_url = pd.read_csv('../ScrapeData/csv_urls/urls_df2.csv')\n",
    "df3_url = pd.read_csv('../ScrapeData/csv_urls/urls_df3.csv')\n",
    "df3_url = df3_url.iloc[:1022,:]\n",
    "df4_url = pd.read_csv('../ScrapeData/csv_urls/urls_df4.csv')\n",
    "df5_url = pd.read_csv('../ScrapeData/csv_urls/urls_df5.csv')\n",
    "df6_url = pd.read_csv('../ScrapeData/csv_urls/urls_df6.csv')"
   ]
  },
  {
   "cell_type": "code",
   "execution_count": 44,
   "metadata": {},
   "outputs": [],
   "source": [
    "# concat the dataframes url and recipes\n",
    "df_url = pd.concat([df1_url,df2_url, df3_url, df4_url,df5_url,df6_url])\n",
    "df_url = df_url.drop(['Unnamed: 0'], axis=1) #drop columns not required"
   ]
  },
  {
   "cell_type": "code",
   "execution_count": 45,
   "metadata": {},
   "outputs": [],
   "source": [
    "df_url = df_url.reset_index(drop='index')"
   ]
  },
  {
   "cell_type": "code",
   "execution_count": 46,
   "metadata": {},
   "outputs": [],
   "source": [
    "# merge df_url and df_recipes\n",
    "df = pd.concat([df_url,df_recipes],axis=1)"
   ]
  },
  {
   "cell_type": "markdown",
   "metadata": {},
   "source": [
    "### preprocessing the dataframe"
   ]
  },
  {
   "cell_type": "code",
   "execution_count": 47,
   "metadata": {},
   "outputs": [],
   "source": [
    "df['makeitagainscore'] = pd.to_numeric(df['makeitagainscore'].str.replace('%', ''))"
   ]
  },
  {
   "cell_type": "code",
   "execution_count": 48,
   "metadata": {},
   "outputs": [],
   "source": [
    "# drop rows if there are null value records\n",
    "df.dropna(axis=0, how='any', inplace=True,subset=['bestrating','ingredients',\\\n",
    "                            'makeitagainscore','preparation','rating','reviews','tags','title'])"
   ]
  },
  {
   "cell_type": "code",
   "execution_count": 49,
   "metadata": {},
   "outputs": [],
   "source": [
    "# refine the ingredients column\n",
    "df[\"ingredients_refined\"] = \"\"\n",
    "for index, row in df.iterrows():\n",
    "    ingredients_items = ast.literal_eval(row[\"ingredients\"])\n",
    "    df.set_value(index,'ingredients_refined',ingredients_items)"
   ]
  },
  {
   "cell_type": "code",
   "execution_count": 50,
   "metadata": {},
   "outputs": [],
   "source": [
    "# refine the tags column\n",
    "df[\"tags_refined\"] = \"\"\n",
    "for index, row in df.iterrows():\n",
    "    tag_items = ast.literal_eval(row[\"tags\"])\n",
    "    df.set_value(index,'tags_refined',tag_items)"
   ]
  },
  {
   "cell_type": "markdown",
   "metadata": {},
   "source": [
    "#### Create a class for ratings"
   ]
  },
  {
   "cell_type": "code",
   "execution_count": 51,
   "metadata": {},
   "outputs": [
    {
     "data": {
      "text/plain": [
       "3.5    6452\n",
       "3.0    2955\n",
       "4.0    1432\n",
       "2.5     560\n",
       "2.0      71\n",
       "1.5      18\n",
       "1.0       5\n",
       "0.0       1\n",
       "Name: rating, dtype: int64"
      ]
     },
     "execution_count": 51,
     "metadata": {},
     "output_type": "execute_result"
    }
   ],
   "source": [
    "df['rating'].value_counts()"
   ]
  },
  {
   "cell_type": "code",
   "execution_count": 52,
   "metadata": {},
   "outputs": [],
   "source": [
    "def classify_rating(rating):\n",
    "    if rating == 4:\n",
    "        return 'exceptional'\n",
    "    \n",
    "    elif rating == 3.5:\n",
    "        return 'good'\n",
    "    \n",
    "    elif rating == 3:\n",
    "        return 'average'\n",
    "    \n",
    "    else:\n",
    "        return 'negative'"
   ]
  },
  {
   "cell_type": "code",
   "execution_count": 53,
   "metadata": {},
   "outputs": [],
   "source": [
    "df['rating_class'] = df['rating'].apply(classify_rating)"
   ]
  },
  {
   "cell_type": "code",
   "execution_count": 54,
   "metadata": {},
   "outputs": [
    {
     "data": {
      "text/plain": [
       "good           6452\n",
       "average        2955\n",
       "exceptional    1432\n",
       "negative        655\n",
       "Name: rating_class, dtype: int64"
      ]
     },
     "execution_count": 54,
     "metadata": {},
     "output_type": "execute_result"
    }
   ],
   "source": [
    "#class distribution\n",
    "df['rating_class'].value_counts()"
   ]
  },
  {
   "cell_type": "code",
   "execution_count": 55,
   "metadata": {},
   "outputs": [
    {
     "data": {
      "text/plain": [
       "11494"
      ]
     },
     "execution_count": 55,
     "metadata": {},
     "output_type": "execute_result"
    }
   ],
   "source": [
    "len(df)"
   ]
  },
  {
   "cell_type": "code",
   "execution_count": 56,
   "metadata": {},
   "outputs": [
    {
     "data": {
      "text/html": [
       "<div>\n",
       "<style>\n",
       "    .dataframe thead tr:only-child th {\n",
       "        text-align: right;\n",
       "    }\n",
       "\n",
       "    .dataframe thead th {\n",
       "        text-align: left;\n",
       "    }\n",
       "\n",
       "    .dataframe tbody tr th {\n",
       "        vertical-align: top;\n",
       "    }\n",
       "</style>\n",
       "<table border=\"1\" class=\"dataframe\">\n",
       "  <thead>\n",
       "    <tr style=\"text-align: right;\">\n",
       "      <th></th>\n",
       "      <th>batch</th>\n",
       "      <th>urls</th>\n",
       "      <th>bestrating</th>\n",
       "      <th>imagesrc</th>\n",
       "      <th>ingredients</th>\n",
       "      <th>makeitagainscore</th>\n",
       "      <th>preparation</th>\n",
       "      <th>rating</th>\n",
       "      <th>reviews</th>\n",
       "      <th>tags</th>\n",
       "      <th>title</th>\n",
       "      <th>ingredients_refined</th>\n",
       "      <th>tags_refined</th>\n",
       "      <th>rating_class</th>\n",
       "    </tr>\n",
       "  </thead>\n",
       "  <tbody>\n",
       "    <tr>\n",
       "      <th>0</th>\n",
       "      <td>0-249</td>\n",
       "      <td>https://www.epicurious.com/recipes/food/views/...</td>\n",
       "      <td>4.0</td>\n",
       "      <td>https://assets.epicurious.com/photos/56df1d8cb...</td>\n",
       "      <td>['2 cups whole-wheat flour', '2 cups all-purpo...</td>\n",
       "      <td>90.0</td>\n",
       "      <td>Put oven rack in middle position and preheat o...</td>\n",
       "      <td>3.5</td>\n",
       "      <td>50.0</td>\n",
       "      <td>['Irish', 'Bread', 'Bake', 'Vegetarian', 'Quic...</td>\n",
       "      <td>Irish Brown Bread</td>\n",
       "      <td>[2 cups whole-wheat flour, 2 cups all-purpose ...</td>\n",
       "      <td>[Irish, Bread, Bake, Vegetarian, Quick &amp; Easy,...</td>\n",
       "      <td>good</td>\n",
       "    </tr>\n",
       "    <tr>\n",
       "      <th>1</th>\n",
       "      <td>0-249</td>\n",
       "      <td>https://www.epicurious.com/recipes/food/views/...</td>\n",
       "      <td>4.0</td>\n",
       "      <td>https://assets.epicurious.com/photos/5a78b5919...</td>\n",
       "      <td>['1 Tbsp. crushed red pepper flakes', '1 Tbsp....</td>\n",
       "      <td>91.0</td>\n",
       "      <td>Coarsely grind red pepper flakes, peppercorns,...</td>\n",
       "      <td>3.0</td>\n",
       "      <td>11.0</td>\n",
       "      <td>['Pepper', 'Fennel', 'Pork', 'Garlic', 'White ...</td>\n",
       "      <td>Slow-Cooked Pork with Chickpeas</td>\n",
       "      <td>[1 Tbsp. crushed red pepper flakes, 1 Tbsp. wh...</td>\n",
       "      <td>[Pepper, Fennel, Pork, Garlic, White Wine, Oni...</td>\n",
       "      <td>average</td>\n",
       "    </tr>\n",
       "  </tbody>\n",
       "</table>\n",
       "</div>"
      ],
      "text/plain": [
       "   batch                                               urls  bestrating  \\\n",
       "0  0-249  https://www.epicurious.com/recipes/food/views/...         4.0   \n",
       "1  0-249  https://www.epicurious.com/recipes/food/views/...         4.0   \n",
       "\n",
       "                                            imagesrc  \\\n",
       "0  https://assets.epicurious.com/photos/56df1d8cb...   \n",
       "1  https://assets.epicurious.com/photos/5a78b5919...   \n",
       "\n",
       "                                         ingredients  makeitagainscore  \\\n",
       "0  ['2 cups whole-wheat flour', '2 cups all-purpo...              90.0   \n",
       "1  ['1 Tbsp. crushed red pepper flakes', '1 Tbsp....              91.0   \n",
       "\n",
       "                                         preparation  rating  reviews  \\\n",
       "0  Put oven rack in middle position and preheat o...     3.5     50.0   \n",
       "1  Coarsely grind red pepper flakes, peppercorns,...     3.0     11.0   \n",
       "\n",
       "                                                tags  \\\n",
       "0  ['Irish', 'Bread', 'Bake', 'Vegetarian', 'Quic...   \n",
       "1  ['Pepper', 'Fennel', 'Pork', 'Garlic', 'White ...   \n",
       "\n",
       "                              title  \\\n",
       "0                Irish Brown Bread    \n",
       "1  Slow-Cooked Pork with Chickpeas    \n",
       "\n",
       "                                 ingredients_refined  \\\n",
       "0  [2 cups whole-wheat flour, 2 cups all-purpose ...   \n",
       "1  [1 Tbsp. crushed red pepper flakes, 1 Tbsp. wh...   \n",
       "\n",
       "                                        tags_refined rating_class  \n",
       "0  [Irish, Bread, Bake, Vegetarian, Quick & Easy,...         good  \n",
       "1  [Pepper, Fennel, Pork, Garlic, White Wine, Oni...      average  "
      ]
     },
     "execution_count": 56,
     "metadata": {},
     "output_type": "execute_result"
    }
   ],
   "source": [
    "df.head(2)"
   ]
  },
  {
   "cell_type": "markdown",
   "metadata": {},
   "source": [
    "### EDA"
   ]
  },
  {
   "cell_type": "markdown",
   "metadata": {},
   "source": [
    "#### Relationship between image availability and rating"
   ]
  },
  {
   "cell_type": "code",
   "execution_count": 57,
   "metadata": {},
   "outputs": [],
   "source": [
    "df['imagesrc_class'] = np.where(df['imagesrc'].isnull(), 'no', 'yes')"
   ]
  },
  {
   "cell_type": "code",
   "execution_count": 58,
   "metadata": {
    "scrolled": true
   },
   "outputs": [],
   "source": [
    "# get propotion by rating class\n",
    "chi_df = pd.crosstab(df['imagesrc_class'],df['rating_class'])"
   ]
  },
  {
   "cell_type": "code",
   "execution_count": 59,
   "metadata": {},
   "outputs": [
    {
     "data": {
      "text/html": [
       "<div>\n",
       "<style>\n",
       "    .dataframe thead tr:only-child th {\n",
       "        text-align: right;\n",
       "    }\n",
       "\n",
       "    .dataframe thead th {\n",
       "        text-align: left;\n",
       "    }\n",
       "\n",
       "    .dataframe tbody tr th {\n",
       "        vertical-align: top;\n",
       "    }\n",
       "</style>\n",
       "<table border=\"1\" class=\"dataframe\">\n",
       "  <thead>\n",
       "    <tr style=\"text-align: right;\">\n",
       "      <th>rating_class</th>\n",
       "      <th>average</th>\n",
       "      <th>exceptional</th>\n",
       "      <th>good</th>\n",
       "      <th>negative</th>\n",
       "    </tr>\n",
       "    <tr>\n",
       "      <th>imagesrc_class</th>\n",
       "      <th></th>\n",
       "      <th></th>\n",
       "      <th></th>\n",
       "      <th></th>\n",
       "    </tr>\n",
       "  </thead>\n",
       "  <tbody>\n",
       "    <tr>\n",
       "      <th>no</th>\n",
       "      <td>1796</td>\n",
       "      <td>443</td>\n",
       "      <td>3222</td>\n",
       "      <td>389</td>\n",
       "    </tr>\n",
       "    <tr>\n",
       "      <th>yes</th>\n",
       "      <td>1159</td>\n",
       "      <td>989</td>\n",
       "      <td>3230</td>\n",
       "      <td>266</td>\n",
       "    </tr>\n",
       "  </tbody>\n",
       "</table>\n",
       "</div>"
      ],
      "text/plain": [
       "rating_class    average  exceptional  good  negative\n",
       "imagesrc_class                                      \n",
       "no                 1796          443  3222       389\n",
       "yes                1159          989  3230       266"
      ]
     },
     "execution_count": 59,
     "metadata": {},
     "output_type": "execute_result"
    }
   ],
   "source": [
    "chi_df"
   ]
  },
  {
   "cell_type": "code",
   "execution_count": 60,
   "metadata": {},
   "outputs": [],
   "source": [
    "# null hypothesis (\"action is independent of group\") \n",
    "a = chi_df.iloc[0].values\n",
    "b = chi_df.iloc[1].values"
   ]
  },
  {
   "cell_type": "code",
   "execution_count": 61,
   "metadata": {},
   "outputs": [],
   "source": [
    "chi2, pvalue, _, _ = chi2_contingency([a, b])"
   ]
  },
  {
   "cell_type": "code",
   "execution_count": 62,
   "metadata": {},
   "outputs": [
    {
     "data": {
      "text/plain": [
       "365.03050705861506"
      ]
     },
     "execution_count": 62,
     "metadata": {},
     "output_type": "execute_result"
    }
   ],
   "source": [
    "chi2"
   ]
  },
  {
   "cell_type": "code",
   "execution_count": 63,
   "metadata": {},
   "outputs": [
    {
     "data": {
      "text/plain": [
       "8.2970187032911645e-79"
      ]
     },
     "execution_count": 63,
     "metadata": {},
     "output_type": "execute_result"
    }
   ],
   "source": [
    "pvalue"
   ]
  },
  {
   "cell_type": "code",
   "execution_count": 64,
   "metadata": {},
   "outputs": [],
   "source": [
    "df['imagesrc_class'] = np.where(df['imagesrc'].isnull(), 0, 1)"
   ]
  },
  {
   "cell_type": "markdown",
   "metadata": {},
   "source": [
    "#### Relationship between nu of ingredients and rating"
   ]
  },
  {
   "cell_type": "code",
   "execution_count": 65,
   "metadata": {},
   "outputs": [],
   "source": [
    "df[\"ingredients_count\"] = np.nan"
   ]
  },
  {
   "cell_type": "code",
   "execution_count": 66,
   "metadata": {},
   "outputs": [],
   "source": [
    "for index, row in df.iterrows():\n",
    "    elements = len(row[\"ingredients_refined\"])\n",
    "    df.set_value(index, \"ingredients_count\", elements)"
   ]
  },
  {
   "cell_type": "code",
   "execution_count": 67,
   "metadata": {},
   "outputs": [
    {
     "data": {
      "text/html": [
       "<div>\n",
       "<style>\n",
       "    .dataframe thead tr:only-child th {\n",
       "        text-align: right;\n",
       "    }\n",
       "\n",
       "    .dataframe thead th {\n",
       "        text-align: left;\n",
       "    }\n",
       "\n",
       "    .dataframe tbody tr th {\n",
       "        vertical-align: top;\n",
       "    }\n",
       "</style>\n",
       "<table border=\"1\" class=\"dataframe\">\n",
       "  <thead>\n",
       "    <tr style=\"text-align: right;\">\n",
       "      <th></th>\n",
       "      <th>batch</th>\n",
       "      <th>urls</th>\n",
       "      <th>bestrating</th>\n",
       "      <th>imagesrc</th>\n",
       "      <th>ingredients</th>\n",
       "      <th>makeitagainscore</th>\n",
       "      <th>preparation</th>\n",
       "      <th>rating</th>\n",
       "      <th>reviews</th>\n",
       "      <th>tags</th>\n",
       "      <th>title</th>\n",
       "      <th>ingredients_refined</th>\n",
       "      <th>tags_refined</th>\n",
       "      <th>rating_class</th>\n",
       "      <th>imagesrc_class</th>\n",
       "      <th>ingredients_count</th>\n",
       "    </tr>\n",
       "  </thead>\n",
       "  <tbody>\n",
       "    <tr>\n",
       "      <th>0</th>\n",
       "      <td>0-249</td>\n",
       "      <td>https://www.epicurious.com/recipes/food/views/...</td>\n",
       "      <td>4.0</td>\n",
       "      <td>https://assets.epicurious.com/photos/56df1d8cb...</td>\n",
       "      <td>['2 cups whole-wheat flour', '2 cups all-purpo...</td>\n",
       "      <td>90.0</td>\n",
       "      <td>Put oven rack in middle position and preheat o...</td>\n",
       "      <td>3.5</td>\n",
       "      <td>50.0</td>\n",
       "      <td>['Irish', 'Bread', 'Bake', 'Vegetarian', 'Quic...</td>\n",
       "      <td>Irish Brown Bread</td>\n",
       "      <td>[2 cups whole-wheat flour, 2 cups all-purpose ...</td>\n",
       "      <td>[Irish, Bread, Bake, Vegetarian, Quick &amp; Easy,...</td>\n",
       "      <td>good</td>\n",
       "      <td>1</td>\n",
       "      <td>9.0</td>\n",
       "    </tr>\n",
       "    <tr>\n",
       "      <th>1</th>\n",
       "      <td>0-249</td>\n",
       "      <td>https://www.epicurious.com/recipes/food/views/...</td>\n",
       "      <td>4.0</td>\n",
       "      <td>https://assets.epicurious.com/photos/5a78b5919...</td>\n",
       "      <td>['1 Tbsp. crushed red pepper flakes', '1 Tbsp....</td>\n",
       "      <td>91.0</td>\n",
       "      <td>Coarsely grind red pepper flakes, peppercorns,...</td>\n",
       "      <td>3.0</td>\n",
       "      <td>11.0</td>\n",
       "      <td>['Pepper', 'Fennel', 'Pork', 'Garlic', 'White ...</td>\n",
       "      <td>Slow-Cooked Pork with Chickpeas</td>\n",
       "      <td>[1 Tbsp. crushed red pepper flakes, 1 Tbsp. wh...</td>\n",
       "      <td>[Pepper, Fennel, Pork, Garlic, White Wine, Oni...</td>\n",
       "      <td>average</td>\n",
       "      <td>1</td>\n",
       "      <td>14.0</td>\n",
       "    </tr>\n",
       "  </tbody>\n",
       "</table>\n",
       "</div>"
      ],
      "text/plain": [
       "   batch                                               urls  bestrating  \\\n",
       "0  0-249  https://www.epicurious.com/recipes/food/views/...         4.0   \n",
       "1  0-249  https://www.epicurious.com/recipes/food/views/...         4.0   \n",
       "\n",
       "                                            imagesrc  \\\n",
       "0  https://assets.epicurious.com/photos/56df1d8cb...   \n",
       "1  https://assets.epicurious.com/photos/5a78b5919...   \n",
       "\n",
       "                                         ingredients  makeitagainscore  \\\n",
       "0  ['2 cups whole-wheat flour', '2 cups all-purpo...              90.0   \n",
       "1  ['1 Tbsp. crushed red pepper flakes', '1 Tbsp....              91.0   \n",
       "\n",
       "                                         preparation  rating  reviews  \\\n",
       "0  Put oven rack in middle position and preheat o...     3.5     50.0   \n",
       "1  Coarsely grind red pepper flakes, peppercorns,...     3.0     11.0   \n",
       "\n",
       "                                                tags  \\\n",
       "0  ['Irish', 'Bread', 'Bake', 'Vegetarian', 'Quic...   \n",
       "1  ['Pepper', 'Fennel', 'Pork', 'Garlic', 'White ...   \n",
       "\n",
       "                              title  \\\n",
       "0                Irish Brown Bread    \n",
       "1  Slow-Cooked Pork with Chickpeas    \n",
       "\n",
       "                                 ingredients_refined  \\\n",
       "0  [2 cups whole-wheat flour, 2 cups all-purpose ...   \n",
       "1  [1 Tbsp. crushed red pepper flakes, 1 Tbsp. wh...   \n",
       "\n",
       "                                        tags_refined rating_class  \\\n",
       "0  [Irish, Bread, Bake, Vegetarian, Quick & Easy,...         good   \n",
       "1  [Pepper, Fennel, Pork, Garlic, White Wine, Oni...      average   \n",
       "\n",
       "   imagesrc_class  ingredients_count  \n",
       "0               1                9.0  \n",
       "1               1               14.0  "
      ]
     },
     "execution_count": 67,
     "metadata": {},
     "output_type": "execute_result"
    }
   ],
   "source": [
    "df.head(2)"
   ]
  },
  {
   "cell_type": "code",
   "execution_count": 68,
   "metadata": {
    "scrolled": true
   },
   "outputs": [],
   "source": [
    "# The one-way ANOVA tests the null hypothesis that two or more groups have the same population mean\n",
    "good = df[df['rating_class']=='good']['ingredients_count'].values\n",
    "average = df[df['rating_class']=='average']['ingredients_count'].values\n",
    "exceptional = df[df['rating_class']=='exceptional']['ingredients_count'].values\n",
    "negative  = df[df['rating_class']=='negative']['ingredients_count'].values"
   ]
  },
  {
   "cell_type": "code",
   "execution_count": 69,
   "metadata": {},
   "outputs": [
    {
     "data": {
      "text/plain": [
       "F_onewayResult(statistic=31.304527864418787, pvalue=3.8100567945250719e-20)"
      ]
     },
     "execution_count": 69,
     "metadata": {},
     "output_type": "execute_result"
    }
   ],
   "source": [
    "f_oneway(good, average, exceptional, negative)"
   ]
  },
  {
   "cell_type": "markdown",
   "metadata": {},
   "source": [
    "#### Relationship between nu of tags and rating"
   ]
  },
  {
   "cell_type": "code",
   "execution_count": 70,
   "metadata": {},
   "outputs": [],
   "source": [
    "df[\"tags_count\"] = np.nan"
   ]
  },
  {
   "cell_type": "code",
   "execution_count": 71,
   "metadata": {},
   "outputs": [],
   "source": [
    "for index, row in df.iterrows():\n",
    "    elements = len(row[\"tags_refined\"])\n",
    "    df.set_value(index, \"tags_count\", elements)"
   ]
  },
  {
   "cell_type": "code",
   "execution_count": 72,
   "metadata": {},
   "outputs": [
    {
     "data": {
      "text/html": [
       "<div>\n",
       "<style>\n",
       "    .dataframe thead tr:only-child th {\n",
       "        text-align: right;\n",
       "    }\n",
       "\n",
       "    .dataframe thead th {\n",
       "        text-align: left;\n",
       "    }\n",
       "\n",
       "    .dataframe tbody tr th {\n",
       "        vertical-align: top;\n",
       "    }\n",
       "</style>\n",
       "<table border=\"1\" class=\"dataframe\">\n",
       "  <thead>\n",
       "    <tr style=\"text-align: right;\">\n",
       "      <th></th>\n",
       "      <th>batch</th>\n",
       "      <th>urls</th>\n",
       "      <th>bestrating</th>\n",
       "      <th>imagesrc</th>\n",
       "      <th>ingredients</th>\n",
       "      <th>makeitagainscore</th>\n",
       "      <th>preparation</th>\n",
       "      <th>rating</th>\n",
       "      <th>reviews</th>\n",
       "      <th>tags</th>\n",
       "      <th>title</th>\n",
       "      <th>ingredients_refined</th>\n",
       "      <th>tags_refined</th>\n",
       "      <th>rating_class</th>\n",
       "      <th>imagesrc_class</th>\n",
       "      <th>ingredients_count</th>\n",
       "      <th>tags_count</th>\n",
       "    </tr>\n",
       "  </thead>\n",
       "  <tbody>\n",
       "    <tr>\n",
       "      <th>0</th>\n",
       "      <td>0-249</td>\n",
       "      <td>https://www.epicurious.com/recipes/food/views/...</td>\n",
       "      <td>4.0</td>\n",
       "      <td>https://assets.epicurious.com/photos/56df1d8cb...</td>\n",
       "      <td>['2 cups whole-wheat flour', '2 cups all-purpo...</td>\n",
       "      <td>90.0</td>\n",
       "      <td>Put oven rack in middle position and preheat o...</td>\n",
       "      <td>3.5</td>\n",
       "      <td>50.0</td>\n",
       "      <td>['Irish', 'Bread', 'Bake', 'Vegetarian', 'Quic...</td>\n",
       "      <td>Irish Brown Bread</td>\n",
       "      <td>[2 cups whole-wheat flour, 2 cups all-purpose ...</td>\n",
       "      <td>[Irish, Bread, Bake, Vegetarian, Quick &amp; Easy,...</td>\n",
       "      <td>good</td>\n",
       "      <td>1</td>\n",
       "      <td>9.0</td>\n",
       "      <td>8.0</td>\n",
       "    </tr>\n",
       "    <tr>\n",
       "      <th>1</th>\n",
       "      <td>0-249</td>\n",
       "      <td>https://www.epicurious.com/recipes/food/views/...</td>\n",
       "      <td>4.0</td>\n",
       "      <td>https://assets.epicurious.com/photos/5a78b5919...</td>\n",
       "      <td>['1 Tbsp. crushed red pepper flakes', '1 Tbsp....</td>\n",
       "      <td>91.0</td>\n",
       "      <td>Coarsely grind red pepper flakes, peppercorns,...</td>\n",
       "      <td>3.0</td>\n",
       "      <td>11.0</td>\n",
       "      <td>['Pepper', 'Fennel', 'Pork', 'Garlic', 'White ...</td>\n",
       "      <td>Slow-Cooked Pork with Chickpeas</td>\n",
       "      <td>[1 Tbsp. crushed red pepper flakes, 1 Tbsp. wh...</td>\n",
       "      <td>[Pepper, Fennel, Pork, Garlic, White Wine, Oni...</td>\n",
       "      <td>average</td>\n",
       "      <td>1</td>\n",
       "      <td>14.0</td>\n",
       "      <td>12.0</td>\n",
       "    </tr>\n",
       "  </tbody>\n",
       "</table>\n",
       "</div>"
      ],
      "text/plain": [
       "   batch                                               urls  bestrating  \\\n",
       "0  0-249  https://www.epicurious.com/recipes/food/views/...         4.0   \n",
       "1  0-249  https://www.epicurious.com/recipes/food/views/...         4.0   \n",
       "\n",
       "                                            imagesrc  \\\n",
       "0  https://assets.epicurious.com/photos/56df1d8cb...   \n",
       "1  https://assets.epicurious.com/photos/5a78b5919...   \n",
       "\n",
       "                                         ingredients  makeitagainscore  \\\n",
       "0  ['2 cups whole-wheat flour', '2 cups all-purpo...              90.0   \n",
       "1  ['1 Tbsp. crushed red pepper flakes', '1 Tbsp....              91.0   \n",
       "\n",
       "                                         preparation  rating  reviews  \\\n",
       "0  Put oven rack in middle position and preheat o...     3.5     50.0   \n",
       "1  Coarsely grind red pepper flakes, peppercorns,...     3.0     11.0   \n",
       "\n",
       "                                                tags  \\\n",
       "0  ['Irish', 'Bread', 'Bake', 'Vegetarian', 'Quic...   \n",
       "1  ['Pepper', 'Fennel', 'Pork', 'Garlic', 'White ...   \n",
       "\n",
       "                              title  \\\n",
       "0                Irish Brown Bread    \n",
       "1  Slow-Cooked Pork with Chickpeas    \n",
       "\n",
       "                                 ingredients_refined  \\\n",
       "0  [2 cups whole-wheat flour, 2 cups all-purpose ...   \n",
       "1  [1 Tbsp. crushed red pepper flakes, 1 Tbsp. wh...   \n",
       "\n",
       "                                        tags_refined rating_class  \\\n",
       "0  [Irish, Bread, Bake, Vegetarian, Quick & Easy,...         good   \n",
       "1  [Pepper, Fennel, Pork, Garlic, White Wine, Oni...      average   \n",
       "\n",
       "   imagesrc_class  ingredients_count  tags_count  \n",
       "0               1                9.0         8.0  \n",
       "1               1               14.0        12.0  "
      ]
     },
     "execution_count": 72,
     "metadata": {},
     "output_type": "execute_result"
    }
   ],
   "source": [
    "df.head(2)"
   ]
  },
  {
   "cell_type": "code",
   "execution_count": 73,
   "metadata": {},
   "outputs": [],
   "source": [
    "# The one-way ANOVA tests the null hypothesis that two or more groups have the same population mean\n",
    "good = df[df['rating_class']=='good']['tags_count'].values\n",
    "average = df[df['rating_class']=='average']['tags_count'].values\n",
    "exceptional = df[df['rating_class']=='exceptional']['tags_count'].values\n",
    "negative  = df[df['rating_class']=='negative']['tags_count'].values"
   ]
  },
  {
   "cell_type": "code",
   "execution_count": 74,
   "metadata": {},
   "outputs": [
    {
     "data": {
      "text/plain": [
       "F_onewayResult(statistic=11.709595604400846, pvalue=1.1736181793116911e-07)"
      ]
     },
     "execution_count": 74,
     "metadata": {},
     "output_type": "execute_result"
    }
   ],
   "source": [
    "f_oneway(good, average, exceptional, negative)"
   ]
  },
  {
   "cell_type": "markdown",
   "metadata": {},
   "source": [
    "#### Relationship between makeitagainscore  and rating"
   ]
  },
  {
   "cell_type": "code",
   "execution_count": 75,
   "metadata": {},
   "outputs": [
    {
     "data": {
      "text/html": [
       "<div>\n",
       "<style>\n",
       "    .dataframe thead tr:only-child th {\n",
       "        text-align: right;\n",
       "    }\n",
       "\n",
       "    .dataframe thead th {\n",
       "        text-align: left;\n",
       "    }\n",
       "\n",
       "    .dataframe tbody tr th {\n",
       "        vertical-align: top;\n",
       "    }\n",
       "</style>\n",
       "<table border=\"1\" class=\"dataframe\">\n",
       "  <thead>\n",
       "    <tr style=\"text-align: right;\">\n",
       "      <th></th>\n",
       "      <th>batch</th>\n",
       "      <th>urls</th>\n",
       "      <th>bestrating</th>\n",
       "      <th>imagesrc</th>\n",
       "      <th>ingredients</th>\n",
       "      <th>makeitagainscore</th>\n",
       "      <th>preparation</th>\n",
       "      <th>rating</th>\n",
       "      <th>reviews</th>\n",
       "      <th>tags</th>\n",
       "      <th>title</th>\n",
       "      <th>ingredients_refined</th>\n",
       "      <th>tags_refined</th>\n",
       "      <th>rating_class</th>\n",
       "      <th>imagesrc_class</th>\n",
       "      <th>ingredients_count</th>\n",
       "      <th>tags_count</th>\n",
       "    </tr>\n",
       "  </thead>\n",
       "  <tbody>\n",
       "    <tr>\n",
       "      <th>0</th>\n",
       "      <td>0-249</td>\n",
       "      <td>https://www.epicurious.com/recipes/food/views/...</td>\n",
       "      <td>4.0</td>\n",
       "      <td>https://assets.epicurious.com/photos/56df1d8cb...</td>\n",
       "      <td>['2 cups whole-wheat flour', '2 cups all-purpo...</td>\n",
       "      <td>90.0</td>\n",
       "      <td>Put oven rack in middle position and preheat o...</td>\n",
       "      <td>3.5</td>\n",
       "      <td>50.0</td>\n",
       "      <td>['Irish', 'Bread', 'Bake', 'Vegetarian', 'Quic...</td>\n",
       "      <td>Irish Brown Bread</td>\n",
       "      <td>[2 cups whole-wheat flour, 2 cups all-purpose ...</td>\n",
       "      <td>[Irish, Bread, Bake, Vegetarian, Quick &amp; Easy,...</td>\n",
       "      <td>good</td>\n",
       "      <td>1</td>\n",
       "      <td>9.0</td>\n",
       "      <td>8.0</td>\n",
       "    </tr>\n",
       "    <tr>\n",
       "      <th>1</th>\n",
       "      <td>0-249</td>\n",
       "      <td>https://www.epicurious.com/recipes/food/views/...</td>\n",
       "      <td>4.0</td>\n",
       "      <td>https://assets.epicurious.com/photos/5a78b5919...</td>\n",
       "      <td>['1 Tbsp. crushed red pepper flakes', '1 Tbsp....</td>\n",
       "      <td>91.0</td>\n",
       "      <td>Coarsely grind red pepper flakes, peppercorns,...</td>\n",
       "      <td>3.0</td>\n",
       "      <td>11.0</td>\n",
       "      <td>['Pepper', 'Fennel', 'Pork', 'Garlic', 'White ...</td>\n",
       "      <td>Slow-Cooked Pork with Chickpeas</td>\n",
       "      <td>[1 Tbsp. crushed red pepper flakes, 1 Tbsp. wh...</td>\n",
       "      <td>[Pepper, Fennel, Pork, Garlic, White Wine, Oni...</td>\n",
       "      <td>average</td>\n",
       "      <td>1</td>\n",
       "      <td>14.0</td>\n",
       "      <td>12.0</td>\n",
       "    </tr>\n",
       "  </tbody>\n",
       "</table>\n",
       "</div>"
      ],
      "text/plain": [
       "   batch                                               urls  bestrating  \\\n",
       "0  0-249  https://www.epicurious.com/recipes/food/views/...         4.0   \n",
       "1  0-249  https://www.epicurious.com/recipes/food/views/...         4.0   \n",
       "\n",
       "                                            imagesrc  \\\n",
       "0  https://assets.epicurious.com/photos/56df1d8cb...   \n",
       "1  https://assets.epicurious.com/photos/5a78b5919...   \n",
       "\n",
       "                                         ingredients  makeitagainscore  \\\n",
       "0  ['2 cups whole-wheat flour', '2 cups all-purpo...              90.0   \n",
       "1  ['1 Tbsp. crushed red pepper flakes', '1 Tbsp....              91.0   \n",
       "\n",
       "                                         preparation  rating  reviews  \\\n",
       "0  Put oven rack in middle position and preheat o...     3.5     50.0   \n",
       "1  Coarsely grind red pepper flakes, peppercorns,...     3.0     11.0   \n",
       "\n",
       "                                                tags  \\\n",
       "0  ['Irish', 'Bread', 'Bake', 'Vegetarian', 'Quic...   \n",
       "1  ['Pepper', 'Fennel', 'Pork', 'Garlic', 'White ...   \n",
       "\n",
       "                              title  \\\n",
       "0                Irish Brown Bread    \n",
       "1  Slow-Cooked Pork with Chickpeas    \n",
       "\n",
       "                                 ingredients_refined  \\\n",
       "0  [2 cups whole-wheat flour, 2 cups all-purpose ...   \n",
       "1  [1 Tbsp. crushed red pepper flakes, 1 Tbsp. wh...   \n",
       "\n",
       "                                        tags_refined rating_class  \\\n",
       "0  [Irish, Bread, Bake, Vegetarian, Quick & Easy,...         good   \n",
       "1  [Pepper, Fennel, Pork, Garlic, White Wine, Oni...      average   \n",
       "\n",
       "   imagesrc_class  ingredients_count  tags_count  \n",
       "0               1                9.0         8.0  \n",
       "1               1               14.0        12.0  "
      ]
     },
     "execution_count": 75,
     "metadata": {},
     "output_type": "execute_result"
    }
   ],
   "source": [
    "df.head(2)"
   ]
  },
  {
   "cell_type": "code",
   "execution_count": 76,
   "metadata": {},
   "outputs": [
    {
     "data": {
      "text/html": [
       "<div>\n",
       "<style>\n",
       "    .dataframe thead tr:only-child th {\n",
       "        text-align: right;\n",
       "    }\n",
       "\n",
       "    .dataframe thead th {\n",
       "        text-align: left;\n",
       "    }\n",
       "\n",
       "    .dataframe tbody tr th {\n",
       "        vertical-align: top;\n",
       "    }\n",
       "</style>\n",
       "<table border=\"1\" class=\"dataframe\">\n",
       "  <thead>\n",
       "    <tr style=\"text-align: right;\">\n",
       "      <th></th>\n",
       "      <th>makeitagainscore</th>\n",
       "    </tr>\n",
       "    <tr>\n",
       "      <th>rating_class</th>\n",
       "      <th></th>\n",
       "    </tr>\n",
       "  </thead>\n",
       "  <tbody>\n",
       "    <tr>\n",
       "      <th>average</th>\n",
       "      <td>81.161083</td>\n",
       "    </tr>\n",
       "    <tr>\n",
       "      <th>exceptional</th>\n",
       "      <td>94.356145</td>\n",
       "    </tr>\n",
       "    <tr>\n",
       "      <th>good</th>\n",
       "      <td>89.667080</td>\n",
       "    </tr>\n",
       "    <tr>\n",
       "      <th>negative</th>\n",
       "      <td>64.444275</td>\n",
       "    </tr>\n",
       "  </tbody>\n",
       "</table>\n",
       "</div>"
      ],
      "text/plain": [
       "              makeitagainscore\n",
       "rating_class                  \n",
       "average              81.161083\n",
       "exceptional          94.356145\n",
       "good                 89.667080\n",
       "negative             64.444275"
      ]
     },
     "execution_count": 76,
     "metadata": {},
     "output_type": "execute_result"
    }
   ],
   "source": [
    "df.groupby(['rating_class']).agg({'makeitagainscore':np.mean})"
   ]
  },
  {
   "cell_type": "markdown",
   "metadata": {},
   "source": [
    "#### Relationship between preparation length and rating"
   ]
  },
  {
   "cell_type": "code",
   "execution_count": 77,
   "metadata": {},
   "outputs": [],
   "source": [
    "df['preparation_length'] = df['preparation'].str.len()"
   ]
  },
  {
   "cell_type": "code",
   "execution_count": 78,
   "metadata": {},
   "outputs": [
    {
     "data": {
      "text/html": [
       "<div>\n",
       "<style>\n",
       "    .dataframe thead tr:only-child th {\n",
       "        text-align: right;\n",
       "    }\n",
       "\n",
       "    .dataframe thead th {\n",
       "        text-align: left;\n",
       "    }\n",
       "\n",
       "    .dataframe tbody tr th {\n",
       "        vertical-align: top;\n",
       "    }\n",
       "</style>\n",
       "<table border=\"1\" class=\"dataframe\">\n",
       "  <thead>\n",
       "    <tr style=\"text-align: right;\">\n",
       "      <th></th>\n",
       "      <th>batch</th>\n",
       "      <th>urls</th>\n",
       "      <th>bestrating</th>\n",
       "      <th>imagesrc</th>\n",
       "      <th>ingredients</th>\n",
       "      <th>makeitagainscore</th>\n",
       "      <th>preparation</th>\n",
       "      <th>rating</th>\n",
       "      <th>reviews</th>\n",
       "      <th>tags</th>\n",
       "      <th>title</th>\n",
       "      <th>ingredients_refined</th>\n",
       "      <th>tags_refined</th>\n",
       "      <th>rating_class</th>\n",
       "      <th>imagesrc_class</th>\n",
       "      <th>ingredients_count</th>\n",
       "      <th>tags_count</th>\n",
       "      <th>preparation_length</th>\n",
       "    </tr>\n",
       "  </thead>\n",
       "  <tbody>\n",
       "    <tr>\n",
       "      <th>0</th>\n",
       "      <td>0-249</td>\n",
       "      <td>https://www.epicurious.com/recipes/food/views/...</td>\n",
       "      <td>4.0</td>\n",
       "      <td>https://assets.epicurious.com/photos/56df1d8cb...</td>\n",
       "      <td>['2 cups whole-wheat flour', '2 cups all-purpo...</td>\n",
       "      <td>90.0</td>\n",
       "      <td>Put oven rack in middle position and preheat o...</td>\n",
       "      <td>3.5</td>\n",
       "      <td>50.0</td>\n",
       "      <td>['Irish', 'Bread', 'Bake', 'Vegetarian', 'Quic...</td>\n",
       "      <td>Irish Brown Bread</td>\n",
       "      <td>[2 cups whole-wheat flour, 2 cups all-purpose ...</td>\n",
       "      <td>[Irish, Bread, Bake, Vegetarian, Quick &amp; Easy,...</td>\n",
       "      <td>good</td>\n",
       "      <td>1</td>\n",
       "      <td>9.0</td>\n",
       "      <td>8.0</td>\n",
       "      <td>829</td>\n",
       "    </tr>\n",
       "    <tr>\n",
       "      <th>1</th>\n",
       "      <td>0-249</td>\n",
       "      <td>https://www.epicurious.com/recipes/food/views/...</td>\n",
       "      <td>4.0</td>\n",
       "      <td>https://assets.epicurious.com/photos/5a78b5919...</td>\n",
       "      <td>['1 Tbsp. crushed red pepper flakes', '1 Tbsp....</td>\n",
       "      <td>91.0</td>\n",
       "      <td>Coarsely grind red pepper flakes, peppercorns,...</td>\n",
       "      <td>3.0</td>\n",
       "      <td>11.0</td>\n",
       "      <td>['Pepper', 'Fennel', 'Pork', 'Garlic', 'White ...</td>\n",
       "      <td>Slow-Cooked Pork with Chickpeas</td>\n",
       "      <td>[1 Tbsp. crushed red pepper flakes, 1 Tbsp. wh...</td>\n",
       "      <td>[Pepper, Fennel, Pork, Garlic, White Wine, Oni...</td>\n",
       "      <td>average</td>\n",
       "      <td>1</td>\n",
       "      <td>14.0</td>\n",
       "      <td>12.0</td>\n",
       "      <td>1506</td>\n",
       "    </tr>\n",
       "  </tbody>\n",
       "</table>\n",
       "</div>"
      ],
      "text/plain": [
       "   batch                                               urls  bestrating  \\\n",
       "0  0-249  https://www.epicurious.com/recipes/food/views/...         4.0   \n",
       "1  0-249  https://www.epicurious.com/recipes/food/views/...         4.0   \n",
       "\n",
       "                                            imagesrc  \\\n",
       "0  https://assets.epicurious.com/photos/56df1d8cb...   \n",
       "1  https://assets.epicurious.com/photos/5a78b5919...   \n",
       "\n",
       "                                         ingredients  makeitagainscore  \\\n",
       "0  ['2 cups whole-wheat flour', '2 cups all-purpo...              90.0   \n",
       "1  ['1 Tbsp. crushed red pepper flakes', '1 Tbsp....              91.0   \n",
       "\n",
       "                                         preparation  rating  reviews  \\\n",
       "0  Put oven rack in middle position and preheat o...     3.5     50.0   \n",
       "1  Coarsely grind red pepper flakes, peppercorns,...     3.0     11.0   \n",
       "\n",
       "                                                tags  \\\n",
       "0  ['Irish', 'Bread', 'Bake', 'Vegetarian', 'Quic...   \n",
       "1  ['Pepper', 'Fennel', 'Pork', 'Garlic', 'White ...   \n",
       "\n",
       "                              title  \\\n",
       "0                Irish Brown Bread    \n",
       "1  Slow-Cooked Pork with Chickpeas    \n",
       "\n",
       "                                 ingredients_refined  \\\n",
       "0  [2 cups whole-wheat flour, 2 cups all-purpose ...   \n",
       "1  [1 Tbsp. crushed red pepper flakes, 1 Tbsp. wh...   \n",
       "\n",
       "                                        tags_refined rating_class  \\\n",
       "0  [Irish, Bread, Bake, Vegetarian, Quick & Easy,...         good   \n",
       "1  [Pepper, Fennel, Pork, Garlic, White Wine, Oni...      average   \n",
       "\n",
       "   imagesrc_class  ingredients_count  tags_count  preparation_length  \n",
       "0               1                9.0         8.0                 829  \n",
       "1               1               14.0        12.0                1506  "
      ]
     },
     "execution_count": 78,
     "metadata": {},
     "output_type": "execute_result"
    }
   ],
   "source": [
    "df.head(2)"
   ]
  },
  {
   "cell_type": "code",
   "execution_count": 79,
   "metadata": {},
   "outputs": [],
   "source": [
    "# The one-way ANOVA tests the null hypothesis that two or more groups have the same population mean\n",
    "good = df[df['rating_class']=='good']['preparation_length'].values\n",
    "average = df[df['rating_class']=='average']['preparation_length'].values\n",
    "exceptional = df[df['rating_class']=='exceptional']['preparation_length'].values\n",
    "negative  = df[df['rating_class']=='negative']['preparation_length'].values"
   ]
  },
  {
   "cell_type": "code",
   "execution_count": 80,
   "metadata": {},
   "outputs": [
    {
     "data": {
      "text/plain": [
       "F_onewayResult(statistic=37.039236235565006, pvalue=8.1968865487923914e-24)"
      ]
     },
     "execution_count": 80,
     "metadata": {},
     "output_type": "execute_result"
    }
   ],
   "source": [
    "f_oneway(good, average, exceptional, negative)"
   ]
  },
  {
   "cell_type": "markdown",
   "metadata": {},
   "source": [
    "#### Relationship between title length and rating"
   ]
  },
  {
   "cell_type": "code",
   "execution_count": 81,
   "metadata": {},
   "outputs": [],
   "source": [
    "df['title_length'] = df['title'].str.len()"
   ]
  },
  {
   "cell_type": "code",
   "execution_count": 82,
   "metadata": {},
   "outputs": [
    {
     "data": {
      "text/html": [
       "<div>\n",
       "<style>\n",
       "    .dataframe thead tr:only-child th {\n",
       "        text-align: right;\n",
       "    }\n",
       "\n",
       "    .dataframe thead th {\n",
       "        text-align: left;\n",
       "    }\n",
       "\n",
       "    .dataframe tbody tr th {\n",
       "        vertical-align: top;\n",
       "    }\n",
       "</style>\n",
       "<table border=\"1\" class=\"dataframe\">\n",
       "  <thead>\n",
       "    <tr style=\"text-align: right;\">\n",
       "      <th></th>\n",
       "      <th>batch</th>\n",
       "      <th>urls</th>\n",
       "      <th>bestrating</th>\n",
       "      <th>imagesrc</th>\n",
       "      <th>ingredients</th>\n",
       "      <th>makeitagainscore</th>\n",
       "      <th>preparation</th>\n",
       "      <th>rating</th>\n",
       "      <th>reviews</th>\n",
       "      <th>tags</th>\n",
       "      <th>title</th>\n",
       "      <th>ingredients_refined</th>\n",
       "      <th>tags_refined</th>\n",
       "      <th>rating_class</th>\n",
       "      <th>imagesrc_class</th>\n",
       "      <th>ingredients_count</th>\n",
       "      <th>tags_count</th>\n",
       "      <th>preparation_length</th>\n",
       "      <th>title_length</th>\n",
       "    </tr>\n",
       "  </thead>\n",
       "  <tbody>\n",
       "    <tr>\n",
       "      <th>0</th>\n",
       "      <td>0-249</td>\n",
       "      <td>https://www.epicurious.com/recipes/food/views/...</td>\n",
       "      <td>4.0</td>\n",
       "      <td>https://assets.epicurious.com/photos/56df1d8cb...</td>\n",
       "      <td>['2 cups whole-wheat flour', '2 cups all-purpo...</td>\n",
       "      <td>90.0</td>\n",
       "      <td>Put oven rack in middle position and preheat o...</td>\n",
       "      <td>3.5</td>\n",
       "      <td>50.0</td>\n",
       "      <td>['Irish', 'Bread', 'Bake', 'Vegetarian', 'Quic...</td>\n",
       "      <td>Irish Brown Bread</td>\n",
       "      <td>[2 cups whole-wheat flour, 2 cups all-purpose ...</td>\n",
       "      <td>[Irish, Bread, Bake, Vegetarian, Quick &amp; Easy,...</td>\n",
       "      <td>good</td>\n",
       "      <td>1</td>\n",
       "      <td>9.0</td>\n",
       "      <td>8.0</td>\n",
       "      <td>829</td>\n",
       "      <td>18</td>\n",
       "    </tr>\n",
       "    <tr>\n",
       "      <th>1</th>\n",
       "      <td>0-249</td>\n",
       "      <td>https://www.epicurious.com/recipes/food/views/...</td>\n",
       "      <td>4.0</td>\n",
       "      <td>https://assets.epicurious.com/photos/5a78b5919...</td>\n",
       "      <td>['1 Tbsp. crushed red pepper flakes', '1 Tbsp....</td>\n",
       "      <td>91.0</td>\n",
       "      <td>Coarsely grind red pepper flakes, peppercorns,...</td>\n",
       "      <td>3.0</td>\n",
       "      <td>11.0</td>\n",
       "      <td>['Pepper', 'Fennel', 'Pork', 'Garlic', 'White ...</td>\n",
       "      <td>Slow-Cooked Pork with Chickpeas</td>\n",
       "      <td>[1 Tbsp. crushed red pepper flakes, 1 Tbsp. wh...</td>\n",
       "      <td>[Pepper, Fennel, Pork, Garlic, White Wine, Oni...</td>\n",
       "      <td>average</td>\n",
       "      <td>1</td>\n",
       "      <td>14.0</td>\n",
       "      <td>12.0</td>\n",
       "      <td>1506</td>\n",
       "      <td>32</td>\n",
       "    </tr>\n",
       "  </tbody>\n",
       "</table>\n",
       "</div>"
      ],
      "text/plain": [
       "   batch                                               urls  bestrating  \\\n",
       "0  0-249  https://www.epicurious.com/recipes/food/views/...         4.0   \n",
       "1  0-249  https://www.epicurious.com/recipes/food/views/...         4.0   \n",
       "\n",
       "                                            imagesrc  \\\n",
       "0  https://assets.epicurious.com/photos/56df1d8cb...   \n",
       "1  https://assets.epicurious.com/photos/5a78b5919...   \n",
       "\n",
       "                                         ingredients  makeitagainscore  \\\n",
       "0  ['2 cups whole-wheat flour', '2 cups all-purpo...              90.0   \n",
       "1  ['1 Tbsp. crushed red pepper flakes', '1 Tbsp....              91.0   \n",
       "\n",
       "                                         preparation  rating  reviews  \\\n",
       "0  Put oven rack in middle position and preheat o...     3.5     50.0   \n",
       "1  Coarsely grind red pepper flakes, peppercorns,...     3.0     11.0   \n",
       "\n",
       "                                                tags  \\\n",
       "0  ['Irish', 'Bread', 'Bake', 'Vegetarian', 'Quic...   \n",
       "1  ['Pepper', 'Fennel', 'Pork', 'Garlic', 'White ...   \n",
       "\n",
       "                              title  \\\n",
       "0                Irish Brown Bread    \n",
       "1  Slow-Cooked Pork with Chickpeas    \n",
       "\n",
       "                                 ingredients_refined  \\\n",
       "0  [2 cups whole-wheat flour, 2 cups all-purpose ...   \n",
       "1  [1 Tbsp. crushed red pepper flakes, 1 Tbsp. wh...   \n",
       "\n",
       "                                        tags_refined rating_class  \\\n",
       "0  [Irish, Bread, Bake, Vegetarian, Quick & Easy,...         good   \n",
       "1  [Pepper, Fennel, Pork, Garlic, White Wine, Oni...      average   \n",
       "\n",
       "   imagesrc_class  ingredients_count  tags_count  preparation_length  \\\n",
       "0               1                9.0         8.0                 829   \n",
       "1               1               14.0        12.0                1506   \n",
       "\n",
       "   title_length  \n",
       "0            18  \n",
       "1            32  "
      ]
     },
     "execution_count": 82,
     "metadata": {},
     "output_type": "execute_result"
    }
   ],
   "source": [
    "df.head(2)"
   ]
  },
  {
   "cell_type": "code",
   "execution_count": 83,
   "metadata": {},
   "outputs": [],
   "source": [
    "# The one-way ANOVA tests the null hypothesis that two or more groups have the same population mean\n",
    "good = df[df['rating_class']=='good']['title_length'].values\n",
    "average = df[df['rating_class']=='average']['title_length'].values\n",
    "exceptional = df[df['rating_class']=='exceptional']['title_length'].values\n",
    "negative  = df[df['rating_class']=='negative']['title_length'].values"
   ]
  },
  {
   "cell_type": "code",
   "execution_count": 84,
   "metadata": {},
   "outputs": [
    {
     "data": {
      "text/plain": [
       "F_onewayResult(statistic=14.961675103744669, pvalue=1.0206358827905647e-09)"
      ]
     },
     "execution_count": 84,
     "metadata": {},
     "output_type": "execute_result"
    }
   ],
   "source": [
    "f_oneway(good, average, exceptional, negative)"
   ]
  },
  {
   "cell_type": "markdown",
   "metadata": {},
   "source": [
    "### Evaluate Some Algorithms"
   ]
  },
  {
   "cell_type": "code",
   "execution_count": 85,
   "metadata": {},
   "outputs": [
    {
     "data": {
      "text/html": [
       "<div>\n",
       "<style>\n",
       "    .dataframe thead tr:only-child th {\n",
       "        text-align: right;\n",
       "    }\n",
       "\n",
       "    .dataframe thead th {\n",
       "        text-align: left;\n",
       "    }\n",
       "\n",
       "    .dataframe tbody tr th {\n",
       "        vertical-align: top;\n",
       "    }\n",
       "</style>\n",
       "<table border=\"1\" class=\"dataframe\">\n",
       "  <thead>\n",
       "    <tr style=\"text-align: right;\">\n",
       "      <th></th>\n",
       "      <th>batch</th>\n",
       "      <th>urls</th>\n",
       "      <th>bestrating</th>\n",
       "      <th>imagesrc</th>\n",
       "      <th>ingredients</th>\n",
       "      <th>makeitagainscore</th>\n",
       "      <th>preparation</th>\n",
       "      <th>rating</th>\n",
       "      <th>reviews</th>\n",
       "      <th>tags</th>\n",
       "      <th>title</th>\n",
       "      <th>ingredients_refined</th>\n",
       "      <th>tags_refined</th>\n",
       "      <th>rating_class</th>\n",
       "      <th>imagesrc_class</th>\n",
       "      <th>ingredients_count</th>\n",
       "      <th>tags_count</th>\n",
       "      <th>preparation_length</th>\n",
       "      <th>title_length</th>\n",
       "    </tr>\n",
       "  </thead>\n",
       "  <tbody>\n",
       "    <tr>\n",
       "      <th>0</th>\n",
       "      <td>0-249</td>\n",
       "      <td>https://www.epicurious.com/recipes/food/views/...</td>\n",
       "      <td>4.0</td>\n",
       "      <td>https://assets.epicurious.com/photos/56df1d8cb...</td>\n",
       "      <td>['2 cups whole-wheat flour', '2 cups all-purpo...</td>\n",
       "      <td>90.0</td>\n",
       "      <td>Put oven rack in middle position and preheat o...</td>\n",
       "      <td>3.5</td>\n",
       "      <td>50.0</td>\n",
       "      <td>['Irish', 'Bread', 'Bake', 'Vegetarian', 'Quic...</td>\n",
       "      <td>Irish Brown Bread</td>\n",
       "      <td>[2 cups whole-wheat flour, 2 cups all-purpose ...</td>\n",
       "      <td>[Irish, Bread, Bake, Vegetarian, Quick &amp; Easy,...</td>\n",
       "      <td>good</td>\n",
       "      <td>1</td>\n",
       "      <td>9.0</td>\n",
       "      <td>8.0</td>\n",
       "      <td>829</td>\n",
       "      <td>18</td>\n",
       "    </tr>\n",
       "    <tr>\n",
       "      <th>1</th>\n",
       "      <td>0-249</td>\n",
       "      <td>https://www.epicurious.com/recipes/food/views/...</td>\n",
       "      <td>4.0</td>\n",
       "      <td>https://assets.epicurious.com/photos/5a78b5919...</td>\n",
       "      <td>['1 Tbsp. crushed red pepper flakes', '1 Tbsp....</td>\n",
       "      <td>91.0</td>\n",
       "      <td>Coarsely grind red pepper flakes, peppercorns,...</td>\n",
       "      <td>3.0</td>\n",
       "      <td>11.0</td>\n",
       "      <td>['Pepper', 'Fennel', 'Pork', 'Garlic', 'White ...</td>\n",
       "      <td>Slow-Cooked Pork with Chickpeas</td>\n",
       "      <td>[1 Tbsp. crushed red pepper flakes, 1 Tbsp. wh...</td>\n",
       "      <td>[Pepper, Fennel, Pork, Garlic, White Wine, Oni...</td>\n",
       "      <td>average</td>\n",
       "      <td>1</td>\n",
       "      <td>14.0</td>\n",
       "      <td>12.0</td>\n",
       "      <td>1506</td>\n",
       "      <td>32</td>\n",
       "    </tr>\n",
       "  </tbody>\n",
       "</table>\n",
       "</div>"
      ],
      "text/plain": [
       "   batch                                               urls  bestrating  \\\n",
       "0  0-249  https://www.epicurious.com/recipes/food/views/...         4.0   \n",
       "1  0-249  https://www.epicurious.com/recipes/food/views/...         4.0   \n",
       "\n",
       "                                            imagesrc  \\\n",
       "0  https://assets.epicurious.com/photos/56df1d8cb...   \n",
       "1  https://assets.epicurious.com/photos/5a78b5919...   \n",
       "\n",
       "                                         ingredients  makeitagainscore  \\\n",
       "0  ['2 cups whole-wheat flour', '2 cups all-purpo...              90.0   \n",
       "1  ['1 Tbsp. crushed red pepper flakes', '1 Tbsp....              91.0   \n",
       "\n",
       "                                         preparation  rating  reviews  \\\n",
       "0  Put oven rack in middle position and preheat o...     3.5     50.0   \n",
       "1  Coarsely grind red pepper flakes, peppercorns,...     3.0     11.0   \n",
       "\n",
       "                                                tags  \\\n",
       "0  ['Irish', 'Bread', 'Bake', 'Vegetarian', 'Quic...   \n",
       "1  ['Pepper', 'Fennel', 'Pork', 'Garlic', 'White ...   \n",
       "\n",
       "                              title  \\\n",
       "0                Irish Brown Bread    \n",
       "1  Slow-Cooked Pork with Chickpeas    \n",
       "\n",
       "                                 ingredients_refined  \\\n",
       "0  [2 cups whole-wheat flour, 2 cups all-purpose ...   \n",
       "1  [1 Tbsp. crushed red pepper flakes, 1 Tbsp. wh...   \n",
       "\n",
       "                                        tags_refined rating_class  \\\n",
       "0  [Irish, Bread, Bake, Vegetarian, Quick & Easy,...         good   \n",
       "1  [Pepper, Fennel, Pork, Garlic, White Wine, Oni...      average   \n",
       "\n",
       "   imagesrc_class  ingredients_count  tags_count  preparation_length  \\\n",
       "0               1                9.0         8.0                 829   \n",
       "1               1               14.0        12.0                1506   \n",
       "\n",
       "   title_length  \n",
       "0            18  \n",
       "1            32  "
      ]
     },
     "execution_count": 85,
     "metadata": {},
     "output_type": "execute_result"
    }
   ],
   "source": [
    "df.head(2)"
   ]
  },
  {
   "cell_type": "markdown",
   "metadata": {},
   "source": [
    "#### create a validation dataset"
   ]
  },
  {
   "cell_type": "code",
   "execution_count": 112,
   "metadata": {},
   "outputs": [],
   "source": [
    "from sklearn.model_selection import train_test_split\n",
    "from sklearn.feature_extraction.text import TfidfVectorizer"
   ]
  },
  {
   "cell_type": "code",
   "execution_count": 113,
   "metadata": {},
   "outputs": [
    {
     "name": "stdout",
     "output_type": "stream",
     "text": [
      "<class 'pandas.core.frame.DataFrame'>\n",
      "Int64Index: 11494 entries, 0 to 11523\n",
      "Data columns (total 19 columns):\n",
      "batch                  11494 non-null object\n",
      "urls                   11494 non-null object\n",
      "bestrating             11494 non-null float64\n",
      "imagesrc               5644 non-null object\n",
      "ingredients            11494 non-null object\n",
      "makeitagainscore       11494 non-null float64\n",
      "preparation            11494 non-null object\n",
      "rating                 11494 non-null float64\n",
      "reviews                11494 non-null float64\n",
      "tags                   11494 non-null object\n",
      "title                  11494 non-null object\n",
      "ingredients_refined    11494 non-null object\n",
      "tags_refined           11494 non-null object\n",
      "rating_class           11494 non-null object\n",
      "imagesrc_class         11494 non-null int64\n",
      "ingredients_count      11494 non-null float64\n",
      "tags_count             11494 non-null float64\n",
      "preparation_length     11494 non-null int64\n",
      "title_length           11494 non-null int64\n",
      "dtypes: float64(6), int64(3), object(10)\n",
      "memory usage: 2.1+ MB\n"
     ]
    }
   ],
   "source": [
    "df.info()"
   ]
  },
  {
   "cell_type": "code",
   "execution_count": 114,
   "metadata": {},
   "outputs": [
    {
     "data": {
      "text/plain": [
       "good           6452\n",
       "average        2955\n",
       "exceptional    1432\n",
       "negative        655\n",
       "Name: rating_class, dtype: int64"
      ]
     },
     "execution_count": 114,
     "metadata": {},
     "output_type": "execute_result"
    }
   ],
   "source": [
    "df['rating_class'].value_counts()"
   ]
  },
  {
   "cell_type": "code",
   "execution_count": 115,
   "metadata": {},
   "outputs": [],
   "source": [
    "validation_size = 0.20\n",
    "seed = 7"
   ]
  },
  {
   "cell_type": "code",
   "execution_count": 116,
   "metadata": {},
   "outputs": [],
   "source": [
    "X = df.values\n",
    "y = df.values[:,13] # rating_class"
   ]
  },
  {
   "cell_type": "code",
   "execution_count": 117,
   "metadata": {},
   "outputs": [],
   "source": [
    "X_train, X_validation, y_train, y_validation = train_test_split(\n",
    "    X, y, test_size=validation_size, random_state=seed)"
   ]
  },
  {
   "cell_type": "code",
   "execution_count": 118,
   "metadata": {},
   "outputs": [],
   "source": [
    "# NLP SPARSE\n",
    "X_train_nlp = X_train[:,6]\n",
    "X_validation_nlp = X_validation[:,6]\n",
    "vect = TfidfVectorizer(stop_words='english')\n",
    "tf_transformer = vect.fit(X_train_nlp)\n",
    "# encode document\n",
    "X_train_nlp = tf_transformer.transform(X_train_nlp)\n",
    "X_validation_nlp = tf_transformer.transform(X_validation_nlp)"
   ]
  },
  {
   "cell_type": "code",
   "execution_count": 119,
   "metadata": {},
   "outputs": [
    {
     "name": "stdout",
     "output_type": "stream",
     "text": [
      "X_train_nlp:(9195, 7784)\n",
      "X_validation_nlp:(2299, 7784)\n"
     ]
    }
   ],
   "source": [
    "print(f\"X_train_nlp:{X_train_nlp.shape}\")\n",
    "print(f\"X_validation_nlp:{X_validation_nlp.shape}\")"
   ]
  },
  {
   "cell_type": "code",
   "execution_count": 120,
   "metadata": {},
   "outputs": [],
   "source": [
    "# DENSE\n",
    "X_train_dense = X_train[:,14:19] # imagesrc_class, ingredients_elements, tags_elements, preparation_length, title_length\n",
    "X_validation_dense = X_validation[:,14:19]"
   ]
  },
  {
   "cell_type": "code",
   "execution_count": 121,
   "metadata": {},
   "outputs": [
    {
     "name": "stdout",
     "output_type": "stream",
     "text": [
      "X_train_dense:(9195, 5)\n",
      "X_validation_dense:(2299, 5)\n"
     ]
    }
   ],
   "source": [
    "print(f\"X_train_dense:{X_train_dense.shape}\")\n",
    "print(f\"X_validation_dense:{X_validation_dense.shape}\")"
   ]
  },
  {
   "cell_type": "code",
   "execution_count": 122,
   "metadata": {},
   "outputs": [
    {
     "data": {
      "text/plain": [
       "(array(['average', 'exceptional', 'good', 'negative'], dtype=object),\n",
       " array([2955, 1432, 6452,  655]))"
      ]
     },
     "execution_count": 122,
     "metadata": {},
     "output_type": "execute_result"
    }
   ],
   "source": [
    "np.unique(y, return_counts=True)"
   ]
  },
  {
   "cell_type": "markdown",
   "metadata": {},
   "source": [
    "### PCA"
   ]
  },
  {
   "cell_type": "code",
   "execution_count": 123,
   "metadata": {},
   "outputs": [
    {
     "data": {
      "text/plain": [
       "TruncatedSVD(algorithm='randomized', n_components=500, n_iter=8,\n",
       "       random_state=42, tol=0.0)"
      ]
     },
     "execution_count": 123,
     "metadata": {},
     "output_type": "execute_result"
    }
   ],
   "source": [
    "from sklearn.decomposition import TruncatedSVD\n",
    "svd = TruncatedSVD(n_components=500, n_iter=8, random_state=42)\n",
    "svd.fit(X_train_nlp)"
   ]
  },
  {
   "cell_type": "code",
   "execution_count": 124,
   "metadata": {},
   "outputs": [
    {
     "name": "stdout",
     "output_type": "stream",
     "text": [
      "0.712912127927\n"
     ]
    }
   ],
   "source": [
    "print(svd.explained_variance_ratio_.sum())  "
   ]
  },
  {
   "cell_type": "code",
   "execution_count": 125,
   "metadata": {},
   "outputs": [],
   "source": [
    "X_train_nlp_pca = svd.transform(X_train_nlp)"
   ]
  },
  {
   "cell_type": "code",
   "execution_count": 126,
   "metadata": {},
   "outputs": [
    {
     "data": {
      "text/plain": [
       "(9195, 500)"
      ]
     },
     "execution_count": 126,
     "metadata": {},
     "output_type": "execute_result"
    }
   ],
   "source": [
    "X_train_nlp_pca.shape"
   ]
  },
  {
   "cell_type": "code",
   "execution_count": 127,
   "metadata": {},
   "outputs": [],
   "source": [
    "X_validation_nlp_pca = svd.transform(X_validation_nlp)"
   ]
  },
  {
   "cell_type": "code",
   "execution_count": 128,
   "metadata": {},
   "outputs": [
    {
     "data": {
      "text/plain": [
       "(2299, 500)"
      ]
     },
     "execution_count": 128,
     "metadata": {},
     "output_type": "execute_result"
    }
   ],
   "source": [
    "X_validation_nlp_pca.shape"
   ]
  },
  {
   "cell_type": "code",
   "execution_count": 129,
   "metadata": {},
   "outputs": [],
   "source": [
    "X_train = np.hstack((X_train_nlp_pca,X_train_dense)) "
   ]
  },
  {
   "cell_type": "code",
   "execution_count": 130,
   "metadata": {},
   "outputs": [],
   "source": [
    "X_validation = np.hstack((X_validation_nlp_pca,X_validation_dense)) "
   ]
  },
  {
   "cell_type": "code",
   "execution_count": 131,
   "metadata": {},
   "outputs": [
    {
     "data": {
      "text/plain": [
       "(9195, 505)"
      ]
     },
     "execution_count": 131,
     "metadata": {},
     "output_type": "execute_result"
    }
   ],
   "source": [
    "X_train.shape"
   ]
  },
  {
   "cell_type": "code",
   "execution_count": 132,
   "metadata": {},
   "outputs": [
    {
     "data": {
      "text/plain": [
       "(2299, 505)"
      ]
     },
     "execution_count": 132,
     "metadata": {},
     "output_type": "execute_result"
    }
   ],
   "source": [
    "X_validation.shape"
   ]
  },
  {
   "cell_type": "markdown",
   "metadata": {},
   "source": [
    "#### build models and cross validation"
   ]
  },
  {
   "cell_type": "code",
   "execution_count": 133,
   "metadata": {},
   "outputs": [],
   "source": [
    "# models\n",
    "from sklearn.linear_model import LogisticRegression\n",
    "from sklearn.tree import DecisionTreeClassifier\n",
    "from sklearn.neighbors import KNeighborsClassifier\n",
    "from sklearn.discriminant_analysis import LinearDiscriminantAnalysis\n",
    "from sklearn.naive_bayes import MultinomialNB\n",
    "from sklearn.svm import SVC\n",
    "from sklearn.ensemble import RandomForestClassifier"
   ]
  },
  {
   "cell_type": "code",
   "execution_count": 134,
   "metadata": {},
   "outputs": [],
   "source": [
    "# Test options and evaluation metric\n",
    "seed = 7\n",
    "scoring = 'accuracy'"
   ]
  },
  {
   "cell_type": "code",
   "execution_count": 135,
   "metadata": {},
   "outputs": [],
   "source": [
    "# kfold cross validation\n",
    "from sklearn import model_selection"
   ]
  },
  {
   "cell_type": "code",
   "execution_count": 136,
   "metadata": {},
   "outputs": [],
   "source": [
    "models = []\n",
    "models.append(('LR',LogisticRegression()))\n",
    "models.append(('CART',DecisionTreeClassifier()))\n",
    "models.append(('KNN',KNeighborsClassifier()))\n",
    "models.append(('LDA',LinearDiscriminantAnalysis()))\n",
    "# models.append(('NB',MultinomialNB()))\n",
    "models.append(('SVM',SVC()))\n",
    "models.append(('RF',RandomForestClassifier()))"
   ]
  },
  {
   "cell_type": "code",
   "execution_count": 137,
   "metadata": {},
   "outputs": [
    {
     "name": "stdout",
     "output_type": "stream",
     "text": [
      "LR: 0.558893 (0.009662)\n",
      "CART: 0.407612 (0.013262)\n",
      "KNN: 0.448830 (0.016569)\n"
     ]
    },
    {
     "name": "stderr",
     "output_type": "stream",
     "text": [
      "/anaconda/envs/py36/lib/python3.6/site-packages/sklearn/discriminant_analysis.py:442: UserWarning: The priors do not sum to 1. Renormalizing\n",
      "  UserWarning)\n"
     ]
    },
    {
     "name": "stdout",
     "output_type": "stream",
     "text": [
      "LDA: 0.529856 (0.011999)\n",
      "SVM: 0.560416 (0.011943)\n",
      "RF: 0.487769 (0.016629)\n"
     ]
    }
   ],
   "source": [
    "#evaluate each model in turn \n",
    "results = []\n",
    "names = []\n",
    "\n",
    "for name, model in models:\n",
    "    kfold = model_selection.KFold(n_splits=10,random_state=seed)\n",
    "    cv_results = model_selection.cross_val_score(model, X_train, y_train, cv=kfold, scoring=scoring)\n",
    "    results.append(cv_results)\n",
    "    names.append(name)\n",
    "    msg = \"%s: %f (%f)\" % (name, cv_results.mean(), cv_results.std())\n",
    "    print(msg)"
   ]
  },
  {
   "cell_type": "code",
   "execution_count": 150,
   "metadata": {},
   "outputs": [
    {
     "data": {
      "image/png": "[encoded data removed]",
      "text/plain": [
       "<matplotlib.figure.Figure at 0x1a0ff3b390>"
      ]
     },
     "metadata": {},
     "output_type": "display_data"
    }
   ],
   "source": [
    "# Compare Algorithms\n",
    "fig = plt.figure(figsize=(10,6))\n",
    "fig.suptitle('Algorithm Comparison')\n",
    "ax = fig.add_subplot(1,1,1)\n",
    "plt.boxplot(results)\n",
    "ax.set_xticklabels(names)\n",
    "ax.set_xlabel('Algorithm')\n",
    "ax.set_ylabel('Accuracy')\n",
    "plt.axhline(y=0.56, color='b', linestyle='--')\n",
    "fig.savefig('algorithm.png')\n",
    "plt.show()"
   ]
  },
  {
   "cell_type": "markdown",
   "metadata": {},
   "source": [
    "#### make predictions"
   ]
  },
  {
   "cell_type": "code",
   "execution_count": 151,
   "metadata": {},
   "outputs": [
    {
     "name": "stdout",
     "output_type": "stream",
     "text": [
      "0.56807307525\n",
      "[[  69    1  514    0]\n",
      " [   2    6  284    0]\n",
      " [  63    4 1231    0]\n",
      " [  17    0  108    0]]\n",
      "             precision    recall  f1-score   support\n",
      "\n",
      "    average       0.46      0.12      0.19       584\n",
      "exceptional       0.55      0.02      0.04       292\n",
      "       good       0.58      0.95      0.72      1298\n",
      "   negative       0.00      0.00      0.00       125\n",
      "\n",
      "avg / total       0.51      0.57      0.46      2299\n",
      "\n"
     ]
    },
    {
     "name": "stderr",
     "output_type": "stream",
     "text": [
      "/anaconda/envs/py36/lib/python3.6/site-packages/sklearn/metrics/classification.py:1135: UndefinedMetricWarning: Precision and F-score are ill-defined and being set to 0.0 in labels with no predicted samples.\n",
      "  'precision', 'predicted', average, warn_for)\n"
     ]
    }
   ],
   "source": [
    "from sklearn.metrics import accuracy_score,confusion_matrix,classification_report\n",
    "\n",
    "# Make predictions on validation dataset\n",
    "lr = LogisticRegression()\n",
    "lr.fit(X_train, y_train)\n",
    "predictions = lr.predict(X_validation)\n",
    "print(accuracy_score(y_validation, predictions))\n",
    "print(confusion_matrix(y_validation, predictions))\n",
    "print(classification_report(y_validation, predictions))"
   ]
  },
  {
   "cell_type": "markdown",
   "metadata": {},
   "source": [
    "If I understand correctly, you essentially have two forms of features for your models. (1) Text data that you have represented as a sparse bag of words and (2) more traditional dense features. If that is the case then there are 3 common approaches:\n",
    "\n",
    "Perform dimensionality reduction (such as LSA via TruncatedSVD) on your sparse data to make it dense and combine the features into a single dense matrix to train your model(s).  \n",
    "\n",
    "Add your few dense features to your sparse matrix using something like scipy's hstack into a single sparse matrix to train your model(s).  \n",
    "\n",
    "Create a model using only your sparse text data and then combine its predictions (probabilities if it's classification) as a dense feature with your other dense features to create a model (ie: ensembling via stacking). If you go this route remember to only use CV predictions as features to train your model otherwise you'll likely overfit quite badly (you can make a quite class to do this all within a single Pipeline if desired)."
   ]
  }
 ],
 "metadata": {
  "kernelspec": {
   "display_name": "Python 3",
   "language": "python",
   "name": "python3"
  },
  "language_info": {
   "codemirror_mode": {
    "name": "ipython",
    "version": 3
   },
   "file_extension": ".py",
   "mimetype": "text/x-python",
   "name": "python",
   "nbconvert_exporter": "python",
   "pygments_lexer": "ipython3",
   "version": "3.6.2"
  }
 },
 "nbformat": 4,
 "nbformat_minor": 2
}
