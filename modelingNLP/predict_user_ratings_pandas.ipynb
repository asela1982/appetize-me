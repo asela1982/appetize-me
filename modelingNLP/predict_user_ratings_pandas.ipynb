{
 "cells": [
  {
   "cell_type": "code",
   "execution_count": 1569,
   "metadata": {},
   "outputs": [],
   "source": [
    "# import relevant libraries\n",
    "import pandas as pd\n",
    "import numpy as np"
   ]
  },
  {
   "cell_type": "code",
   "execution_count": 1570,
   "metadata": {},
   "outputs": [],
   "source": [
    "# load the csvs\n",
    "df1 = pd.read_csv('../ScrapeData/csv_recipes/recipe_df1.csv')\n",
    "df2 = pd.read_csv('../ScrapeData/csv_recipes/recipe_df2.csv')\n",
    "df3 = pd.read_csv('../ScrapeData/csv_recipes/recipe_df3.csv')\n",
    "df4 = pd.read_csv('../ScrapeData/csv_recipes/recipe_df4.csv')\n",
    "df5 = pd.read_csv('../ScrapeData/csv_recipes/recipe_df5.csv')\n",
    "df6 = pd.read_csv('../ScrapeData/csv_recipes/recipe_df6.csv')\n",
    "df7 = pd.read_csv('../ScrapeData/csv_recipes/recipe_df7.csv')\n",
    "df8 = pd.read_csv('../ScrapeData/csv_recipes/recipe_df8.csv')"
   ]
  },
  {
   "cell_type": "code",
   "execution_count": 1571,
   "metadata": {},
   "outputs": [],
   "source": [
    "# concat the dataframes\n",
    "df = pd.concat([df1,df2,df3,df4,df5,df6,df7,df8])\n",
    "df = df.drop(['Unnamed: 0', 'id'], axis=1) #drop columns not required"
   ]
  },
  {
   "cell_type": "code",
   "execution_count": 1572,
   "metadata": {},
   "outputs": [
    {
     "data": {
      "text/plain": [
       "bestrating          11512\n",
       "imagesrc             5670\n",
       "ingredients         11524\n",
       "makeitagainscore    11512\n",
       "preparation         11522\n",
       "rating              11512\n",
       "reviews             11512\n",
       "tags                11495\n",
       "title               11523\n",
       "dtype: int64"
      ]
     },
     "execution_count": 1572,
     "metadata": {},
     "output_type": "execute_result"
    }
   ],
   "source": [
    "df.count()"
   ]
  },
  {
   "cell_type": "code",
   "execution_count": 1573,
   "metadata": {},
   "outputs": [],
   "source": [
    "# reset index\n",
    "df = df.reset_index(drop=True)"
   ]
  },
  {
   "cell_type": "code",
   "execution_count": 1574,
   "metadata": {},
   "outputs": [
    {
     "data": {
      "text/html": [
       "<div>\n",
       "<style>\n",
       "    .dataframe thead tr:only-child th {\n",
       "        text-align: right;\n",
       "    }\n",
       "\n",
       "    .dataframe thead th {\n",
       "        text-align: left;\n",
       "    }\n",
       "\n",
       "    .dataframe tbody tr th {\n",
       "        vertical-align: top;\n",
       "    }\n",
       "</style>\n",
       "<table border=\"1\" class=\"dataframe\">\n",
       "  <thead>\n",
       "    <tr style=\"text-align: right;\">\n",
       "      <th></th>\n",
       "      <th>bestrating</th>\n",
       "      <th>imagesrc</th>\n",
       "      <th>ingredients</th>\n",
       "      <th>makeitagainscore</th>\n",
       "      <th>preparation</th>\n",
       "      <th>rating</th>\n",
       "      <th>reviews</th>\n",
       "      <th>tags</th>\n",
       "      <th>title</th>\n",
       "    </tr>\n",
       "  </thead>\n",
       "  <tbody>\n",
       "    <tr>\n",
       "      <th>0</th>\n",
       "      <td>4.0</td>\n",
       "      <td>https://assets.epicurious.com/photos/56df1d8cb...</td>\n",
       "      <td>['2 cups whole-wheat flour', '2 cups all-purpo...</td>\n",
       "      <td>90%</td>\n",
       "      <td>Put oven rack in middle position and preheat o...</td>\n",
       "      <td>3.5</td>\n",
       "      <td>50.0</td>\n",
       "      <td>['Irish', 'Bread', 'Bake', 'Vegetarian', 'Quic...</td>\n",
       "      <td>Irish Brown Bread</td>\n",
       "    </tr>\n",
       "    <tr>\n",
       "      <th>1</th>\n",
       "      <td>4.0</td>\n",
       "      <td>https://assets.epicurious.com/photos/5a78b5919...</td>\n",
       "      <td>['1 Tbsp. crushed red pepper flakes', '1 Tbsp....</td>\n",
       "      <td>91%</td>\n",
       "      <td>Coarsely grind red pepper flakes, peppercorns,...</td>\n",
       "      <td>3.0</td>\n",
       "      <td>11.0</td>\n",
       "      <td>['Pepper', 'Fennel', 'Pork', 'Garlic', 'White ...</td>\n",
       "      <td>Slow-Cooked Pork with Chickpeas</td>\n",
       "    </tr>\n",
       "    <tr>\n",
       "      <th>2</th>\n",
       "      <td>4.0</td>\n",
       "      <td>https://assets.epicurious.com/photos/5a68f33b3...</td>\n",
       "      <td>['1/4 cup extra-virgin olive oil', '12 oz. dry...</td>\n",
       "      <td>67%</td>\n",
       "      <td>Pour oil into cooker insert and select “Sauté....</td>\n",
       "      <td>2.0</td>\n",
       "      <td>15.0</td>\n",
       "      <td>['Instant Pot', 'Kale', 'Potato', 'Onion', 'Ga...</td>\n",
       "      <td>Instant Pot Caldo Verde</td>\n",
       "    </tr>\n",
       "  </tbody>\n",
       "</table>\n",
       "</div>"
      ],
      "text/plain": [
       "   bestrating                                           imagesrc  \\\n",
       "0         4.0  https://assets.epicurious.com/photos/56df1d8cb...   \n",
       "1         4.0  https://assets.epicurious.com/photos/5a78b5919...   \n",
       "2         4.0  https://assets.epicurious.com/photos/5a68f33b3...   \n",
       "\n",
       "                                         ingredients makeitagainscore  \\\n",
       "0  ['2 cups whole-wheat flour', '2 cups all-purpo...              90%   \n",
       "1  ['1 Tbsp. crushed red pepper flakes', '1 Tbsp....              91%   \n",
       "2  ['1/4 cup extra-virgin olive oil', '12 oz. dry...              67%   \n",
       "\n",
       "                                         preparation  rating  reviews  \\\n",
       "0  Put oven rack in middle position and preheat o...     3.5     50.0   \n",
       "1  Coarsely grind red pepper flakes, peppercorns,...     3.0     11.0   \n",
       "2  Pour oil into cooker insert and select “Sauté....     2.0     15.0   \n",
       "\n",
       "                                                tags  \\\n",
       "0  ['Irish', 'Bread', 'Bake', 'Vegetarian', 'Quic...   \n",
       "1  ['Pepper', 'Fennel', 'Pork', 'Garlic', 'White ...   \n",
       "2  ['Instant Pot', 'Kale', 'Potato', 'Onion', 'Ga...   \n",
       "\n",
       "                              title  \n",
       "0                Irish Brown Bread   \n",
       "1  Slow-Cooked Pork with Chickpeas   \n",
       "2          Instant Pot Caldo Verde   "
      ]
     },
     "execution_count": 1574,
     "metadata": {},
     "output_type": "execute_result"
    }
   ],
   "source": [
    "df.head(3)"
   ]
  },
  {
   "cell_type": "code",
   "execution_count": 1575,
   "metadata": {},
   "outputs": [],
   "source": [
    "# drop rows if there are null value records\n",
    "df.dropna(axis=0, how='any', inplace=True,subset=['bestrating','ingredients',\\\n",
    "                            'makeitagainscore','preparation','rating','reviews','tags','title'])"
   ]
  },
  {
   "cell_type": "markdown",
   "metadata": {},
   "source": [
    "#### Create a column for tags"
   ]
  },
  {
   "cell_type": "code",
   "execution_count": 1576,
   "metadata": {},
   "outputs": [],
   "source": [
    "df['tags_clean'] = \"\""
   ]
  },
  {
   "cell_type": "code",
   "execution_count": 1577,
   "metadata": {},
   "outputs": [],
   "source": [
    "# ast - Abstract Syntax Tree - processes trees of the Python abstract syntax grammar.\n",
    "import ast\n",
    "\n",
    "for index, row in df.iterrows():\n",
    "    all_tags = []\n",
    "    tags = ast.literal_eval(row[\"tags\"])\n",
    "    for tag in tags:\n",
    "        all_tags.append(tag)\n",
    "    all_tags_str = ','.join(all_tags)\n",
    "    df.set_value(index,'tags_clean',all_tags_str)  "
   ]
  },
  {
   "cell_type": "code",
   "execution_count": 1578,
   "metadata": {},
   "outputs": [
    {
     "name": "stdout",
     "output_type": "stream",
     "text": [
      "<class 'pandas.core.frame.DataFrame'>\n",
      "Int64Index: 11494 entries, 0 to 11523\n",
      "Data columns (total 10 columns):\n",
      "bestrating          11494 non-null float64\n",
      "imagesrc            5644 non-null object\n",
      "ingredients         11494 non-null object\n",
      "makeitagainscore    11494 non-null object\n",
      "preparation         11494 non-null object\n",
      "rating              11494 non-null float64\n",
      "reviews             11494 non-null float64\n",
      "tags                11494 non-null object\n",
      "title               11494 non-null object\n",
      "tags_clean          11494 non-null object\n",
      "dtypes: float64(3), object(7)\n",
      "memory usage: 1.3+ MB\n"
     ]
    }
   ],
   "source": [
    "df.info()"
   ]
  },
  {
   "cell_type": "markdown",
   "metadata": {},
   "source": [
    "#### Create a class for ratings"
   ]
  },
  {
   "cell_type": "code",
   "execution_count": 1579,
   "metadata": {},
   "outputs": [
    {
     "data": {
      "text/plain": [
       "3.5    6452\n",
       "3.0    2955\n",
       "4.0    1432\n",
       "2.5     560\n",
       "2.0      71\n",
       "1.5      18\n",
       "1.0       5\n",
       "0.0       1\n",
       "Name: rating, dtype: int64"
      ]
     },
     "execution_count": 1579,
     "metadata": {},
     "output_type": "execute_result"
    }
   ],
   "source": [
    "df['rating'].value_counts()"
   ]
  },
  {
   "cell_type": "code",
   "execution_count": 1580,
   "metadata": {},
   "outputs": [],
   "source": [
    "def classify_rating(rating):\n",
    "    if rating == 4:\n",
    "        return 'exceptional'\n",
    "    \n",
    "    elif rating == 3.5:\n",
    "        return 'good'\n",
    "    \n",
    "    elif rating == 3:\n",
    "        return 'average'\n",
    "    \n",
    "    else:\n",
    "        return 'negative'"
   ]
  },
  {
   "cell_type": "code",
   "execution_count": 1581,
   "metadata": {},
   "outputs": [],
   "source": [
    "df['rating_class'] = df['rating'].apply(classify_rating)"
   ]
  },
  {
   "cell_type": "code",
   "execution_count": 1582,
   "metadata": {},
   "outputs": [
    {
     "data": {
      "text/plain": [
       "good           6452\n",
       "average        2955\n",
       "exceptional    1432\n",
       "negative        655\n",
       "Name: rating_class, dtype: int64"
      ]
     },
     "execution_count": 1582,
     "metadata": {},
     "output_type": "execute_result"
    }
   ],
   "source": [
    "#class distribution\n",
    "df['rating_class'].value_counts()"
   ]
  },
  {
   "cell_type": "markdown",
   "metadata": {},
   "source": [
    "### EDA"
   ]
  },
  {
   "cell_type": "markdown",
   "metadata": {},
   "source": [
    "#### Relationship between image availability and rating"
   ]
  },
  {
   "cell_type": "code",
   "execution_count": 1583,
   "metadata": {},
   "outputs": [],
   "source": [
    "# create has_image feature\n",
    "df['imagesrc_class'] = np.where(df['imagesrc'].isnull(), 0, 1)"
   ]
  },
  {
   "cell_type": "code",
   "execution_count": 1584,
   "metadata": {
    "scrolled": true
   },
   "outputs": [
    {
     "data": {
      "text/html": [
       "<div>\n",
       "<style>\n",
       "    .dataframe thead tr:only-child th {\n",
       "        text-align: right;\n",
       "    }\n",
       "\n",
       "    .dataframe thead th {\n",
       "        text-align: left;\n",
       "    }\n",
       "\n",
       "    .dataframe tbody tr th {\n",
       "        vertical-align: top;\n",
       "    }\n",
       "</style>\n",
       "<table border=\"1\" class=\"dataframe\">\n",
       "  <thead>\n",
       "    <tr style=\"text-align: right;\">\n",
       "      <th></th>\n",
       "      <th>imagesrc_class</th>\n",
       "    </tr>\n",
       "    <tr>\n",
       "      <th>rating_class</th>\n",
       "      <th></th>\n",
       "    </tr>\n",
       "  </thead>\n",
       "  <tbody>\n",
       "    <tr>\n",
       "      <th>average</th>\n",
       "      <td>0.392217</td>\n",
       "    </tr>\n",
       "    <tr>\n",
       "      <th>exceptional</th>\n",
       "      <td>0.690642</td>\n",
       "    </tr>\n",
       "    <tr>\n",
       "      <th>good</th>\n",
       "      <td>0.500620</td>\n",
       "    </tr>\n",
       "    <tr>\n",
       "      <th>negative</th>\n",
       "      <td>0.406107</td>\n",
       "    </tr>\n",
       "  </tbody>\n",
       "</table>\n",
       "</div>"
      ],
      "text/plain": [
       "              imagesrc_class\n",
       "rating_class                \n",
       "average             0.392217\n",
       "exceptional         0.690642\n",
       "good                0.500620\n",
       "negative            0.406107"
      ]
     },
     "execution_count": 1584,
     "metadata": {},
     "output_type": "execute_result"
    }
   ],
   "source": [
    "df.groupby(['rating_class']).agg({'imagesrc_class':np.mean})"
   ]
  },
  {
   "cell_type": "markdown",
   "metadata": {},
   "source": [
    "#### Relationship between nu of ingredients and rating"
   ]
  },
  {
   "cell_type": "code",
   "execution_count": 1585,
   "metadata": {},
   "outputs": [],
   "source": [
    "df[\"ingredients_elements\"] = np.nan"
   ]
  },
  {
   "cell_type": "code",
   "execution_count": 1586,
   "metadata": {},
   "outputs": [],
   "source": [
    "for index, row in df.iterrows():\n",
    "    elements = row[\"ingredients\"].count(',')\n",
    "    df.set_value(index, \"ingredients_elements\", elements)"
   ]
  },
  {
   "cell_type": "code",
   "execution_count": 1587,
   "metadata": {},
   "outputs": [
    {
     "data": {
      "text/html": [
       "<div>\n",
       "<style>\n",
       "    .dataframe thead tr:only-child th {\n",
       "        text-align: right;\n",
       "    }\n",
       "\n",
       "    .dataframe thead th {\n",
       "        text-align: left;\n",
       "    }\n",
       "\n",
       "    .dataframe tbody tr th {\n",
       "        vertical-align: top;\n",
       "    }\n",
       "</style>\n",
       "<table border=\"1\" class=\"dataframe\">\n",
       "  <thead>\n",
       "    <tr style=\"text-align: right;\">\n",
       "      <th></th>\n",
       "      <th>bestrating</th>\n",
       "      <th>imagesrc</th>\n",
       "      <th>ingredients</th>\n",
       "      <th>makeitagainscore</th>\n",
       "      <th>preparation</th>\n",
       "      <th>rating</th>\n",
       "      <th>reviews</th>\n",
       "      <th>tags</th>\n",
       "      <th>title</th>\n",
       "      <th>tags_clean</th>\n",
       "      <th>rating_class</th>\n",
       "      <th>imagesrc_class</th>\n",
       "      <th>ingredients_elements</th>\n",
       "    </tr>\n",
       "  </thead>\n",
       "  <tbody>\n",
       "    <tr>\n",
       "      <th>0</th>\n",
       "      <td>4.0</td>\n",
       "      <td>https://assets.epicurious.com/photos/56df1d8cb...</td>\n",
       "      <td>['2 cups whole-wheat flour', '2 cups all-purpo...</td>\n",
       "      <td>90%</td>\n",
       "      <td>Put oven rack in middle position and preheat o...</td>\n",
       "      <td>3.5</td>\n",
       "      <td>50.0</td>\n",
       "      <td>['Irish', 'Bread', 'Bake', 'Vegetarian', 'Quic...</td>\n",
       "      <td>Irish Brown Bread</td>\n",
       "      <td>Irish,Bread,Bake,Vegetarian,Quick &amp; Easy,St. P...</td>\n",
       "      <td>good</td>\n",
       "      <td>1</td>\n",
       "      <td>9.0</td>\n",
       "    </tr>\n",
       "    <tr>\n",
       "      <th>1</th>\n",
       "      <td>4.0</td>\n",
       "      <td>https://assets.epicurious.com/photos/5a78b5919...</td>\n",
       "      <td>['1 Tbsp. crushed red pepper flakes', '1 Tbsp....</td>\n",
       "      <td>91%</td>\n",
       "      <td>Coarsely grind red pepper flakes, peppercorns,...</td>\n",
       "      <td>3.0</td>\n",
       "      <td>11.0</td>\n",
       "      <td>['Pepper', 'Fennel', 'Pork', 'Garlic', 'White ...</td>\n",
       "      <td>Slow-Cooked Pork with Chickpeas</td>\n",
       "      <td>Pepper,Fennel,Pork,Garlic,White Wine,Onion,Chi...</td>\n",
       "      <td>average</td>\n",
       "      <td>1</td>\n",
       "      <td>18.0</td>\n",
       "    </tr>\n",
       "  </tbody>\n",
       "</table>\n",
       "</div>"
      ],
      "text/plain": [
       "   bestrating                                           imagesrc  \\\n",
       "0         4.0  https://assets.epicurious.com/photos/56df1d8cb...   \n",
       "1         4.0  https://assets.epicurious.com/photos/5a78b5919...   \n",
       "\n",
       "                                         ingredients makeitagainscore  \\\n",
       "0  ['2 cups whole-wheat flour', '2 cups all-purpo...              90%   \n",
       "1  ['1 Tbsp. crushed red pepper flakes', '1 Tbsp....              91%   \n",
       "\n",
       "                                         preparation  rating  reviews  \\\n",
       "0  Put oven rack in middle position and preheat o...     3.5     50.0   \n",
       "1  Coarsely grind red pepper flakes, peppercorns,...     3.0     11.0   \n",
       "\n",
       "                                                tags  \\\n",
       "0  ['Irish', 'Bread', 'Bake', 'Vegetarian', 'Quic...   \n",
       "1  ['Pepper', 'Fennel', 'Pork', 'Garlic', 'White ...   \n",
       "\n",
       "                              title  \\\n",
       "0                Irish Brown Bread    \n",
       "1  Slow-Cooked Pork with Chickpeas    \n",
       "\n",
       "                                          tags_clean rating_class  \\\n",
       "0  Irish,Bread,Bake,Vegetarian,Quick & Easy,St. P...         good   \n",
       "1  Pepper,Fennel,Pork,Garlic,White Wine,Onion,Chi...      average   \n",
       "\n",
       "   imagesrc_class  ingredients_elements  \n",
       "0               1                   9.0  \n",
       "1               1                  18.0  "
      ]
     },
     "execution_count": 1587,
     "metadata": {},
     "output_type": "execute_result"
    }
   ],
   "source": [
    "df.head(2)"
   ]
  },
  {
   "cell_type": "code",
   "execution_count": 1588,
   "metadata": {
    "scrolled": true
   },
   "outputs": [
    {
     "data": {
      "text/html": [
       "<div>\n",
       "<style>\n",
       "    .dataframe thead tr:only-child th {\n",
       "        text-align: right;\n",
       "    }\n",
       "\n",
       "    .dataframe thead th {\n",
       "        text-align: left;\n",
       "    }\n",
       "\n",
       "    .dataframe tbody tr th {\n",
       "        vertical-align: top;\n",
       "    }\n",
       "</style>\n",
       "<table border=\"1\" class=\"dataframe\">\n",
       "  <thead>\n",
       "    <tr style=\"text-align: right;\">\n",
       "      <th></th>\n",
       "      <th>ingredients_elements</th>\n",
       "    </tr>\n",
       "    <tr>\n",
       "      <th>rating_class</th>\n",
       "      <th></th>\n",
       "    </tr>\n",
       "  </thead>\n",
       "  <tbody>\n",
       "    <tr>\n",
       "      <th>average</th>\n",
       "      <td>12.653469</td>\n",
       "    </tr>\n",
       "    <tr>\n",
       "      <th>exceptional</th>\n",
       "      <td>14.178771</td>\n",
       "    </tr>\n",
       "    <tr>\n",
       "      <th>good</th>\n",
       "      <td>13.502945</td>\n",
       "    </tr>\n",
       "    <tr>\n",
       "      <th>negative</th>\n",
       "      <td>11.522137</td>\n",
       "    </tr>\n",
       "  </tbody>\n",
       "</table>\n",
       "</div>"
      ],
      "text/plain": [
       "              ingredients_elements\n",
       "rating_class                      \n",
       "average                  12.653469\n",
       "exceptional              14.178771\n",
       "good                     13.502945\n",
       "negative                 11.522137"
      ]
     },
     "execution_count": 1588,
     "metadata": {},
     "output_type": "execute_result"
    }
   ],
   "source": [
    "df.groupby(['rating_class']).agg({'ingredients_elements':np.mean})"
   ]
  },
  {
   "cell_type": "markdown",
   "metadata": {},
   "source": [
    "#### Relationship between nu of tags and rating"
   ]
  },
  {
   "cell_type": "code",
   "execution_count": 1589,
   "metadata": {},
   "outputs": [],
   "source": [
    "df[\"tags_elements\"] = np.nan"
   ]
  },
  {
   "cell_type": "code",
   "execution_count": 1590,
   "metadata": {},
   "outputs": [],
   "source": [
    "for index, row in df.iterrows():\n",
    "    elements = row[\"tags\"].count(',')\n",
    "    df.set_value(index, \"tags_elements\", elements)"
   ]
  },
  {
   "cell_type": "code",
   "execution_count": 1591,
   "metadata": {},
   "outputs": [
    {
     "data": {
      "text/html": [
       "<div>\n",
       "<style>\n",
       "    .dataframe thead tr:only-child th {\n",
       "        text-align: right;\n",
       "    }\n",
       "\n",
       "    .dataframe thead th {\n",
       "        text-align: left;\n",
       "    }\n",
       "\n",
       "    .dataframe tbody tr th {\n",
       "        vertical-align: top;\n",
       "    }\n",
       "</style>\n",
       "<table border=\"1\" class=\"dataframe\">\n",
       "  <thead>\n",
       "    <tr style=\"text-align: right;\">\n",
       "      <th></th>\n",
       "      <th>bestrating</th>\n",
       "      <th>imagesrc</th>\n",
       "      <th>ingredients</th>\n",
       "      <th>makeitagainscore</th>\n",
       "      <th>preparation</th>\n",
       "      <th>rating</th>\n",
       "      <th>reviews</th>\n",
       "      <th>tags</th>\n",
       "      <th>title</th>\n",
       "      <th>tags_clean</th>\n",
       "      <th>rating_class</th>\n",
       "      <th>imagesrc_class</th>\n",
       "      <th>ingredients_elements</th>\n",
       "      <th>tags_elements</th>\n",
       "    </tr>\n",
       "  </thead>\n",
       "  <tbody>\n",
       "    <tr>\n",
       "      <th>0</th>\n",
       "      <td>4.0</td>\n",
       "      <td>https://assets.epicurious.com/photos/56df1d8cb...</td>\n",
       "      <td>['2 cups whole-wheat flour', '2 cups all-purpo...</td>\n",
       "      <td>90%</td>\n",
       "      <td>Put oven rack in middle position and preheat o...</td>\n",
       "      <td>3.5</td>\n",
       "      <td>50.0</td>\n",
       "      <td>['Irish', 'Bread', 'Bake', 'Vegetarian', 'Quic...</td>\n",
       "      <td>Irish Brown Bread</td>\n",
       "      <td>Irish,Bread,Bake,Vegetarian,Quick &amp; Easy,St. P...</td>\n",
       "      <td>good</td>\n",
       "      <td>1</td>\n",
       "      <td>9.0</td>\n",
       "      <td>7.0</td>\n",
       "    </tr>\n",
       "    <tr>\n",
       "      <th>1</th>\n",
       "      <td>4.0</td>\n",
       "      <td>https://assets.epicurious.com/photos/5a78b5919...</td>\n",
       "      <td>['1 Tbsp. crushed red pepper flakes', '1 Tbsp....</td>\n",
       "      <td>91%</td>\n",
       "      <td>Coarsely grind red pepper flakes, peppercorns,...</td>\n",
       "      <td>3.0</td>\n",
       "      <td>11.0</td>\n",
       "      <td>['Pepper', 'Fennel', 'Pork', 'Garlic', 'White ...</td>\n",
       "      <td>Slow-Cooked Pork with Chickpeas</td>\n",
       "      <td>Pepper,Fennel,Pork,Garlic,White Wine,Onion,Chi...</td>\n",
       "      <td>average</td>\n",
       "      <td>1</td>\n",
       "      <td>18.0</td>\n",
       "      <td>11.0</td>\n",
       "    </tr>\n",
       "  </tbody>\n",
       "</table>\n",
       "</div>"
      ],
      "text/plain": [
       "   bestrating                                           imagesrc  \\\n",
       "0         4.0  https://assets.epicurious.com/photos/56df1d8cb...   \n",
       "1         4.0  https://assets.epicurious.com/photos/5a78b5919...   \n",
       "\n",
       "                                         ingredients makeitagainscore  \\\n",
       "0  ['2 cups whole-wheat flour', '2 cups all-purpo...              90%   \n",
       "1  ['1 Tbsp. crushed red pepper flakes', '1 Tbsp....              91%   \n",
       "\n",
       "                                         preparation  rating  reviews  \\\n",
       "0  Put oven rack in middle position and preheat o...     3.5     50.0   \n",
       "1  Coarsely grind red pepper flakes, peppercorns,...     3.0     11.0   \n",
       "\n",
       "                                                tags  \\\n",
       "0  ['Irish', 'Bread', 'Bake', 'Vegetarian', 'Quic...   \n",
       "1  ['Pepper', 'Fennel', 'Pork', 'Garlic', 'White ...   \n",
       "\n",
       "                              title  \\\n",
       "0                Irish Brown Bread    \n",
       "1  Slow-Cooked Pork with Chickpeas    \n",
       "\n",
       "                                          tags_clean rating_class  \\\n",
       "0  Irish,Bread,Bake,Vegetarian,Quick & Easy,St. P...         good   \n",
       "1  Pepper,Fennel,Pork,Garlic,White Wine,Onion,Chi...      average   \n",
       "\n",
       "   imagesrc_class  ingredients_elements  tags_elements  \n",
       "0               1                   9.0            7.0  \n",
       "1               1                  18.0           11.0  "
      ]
     },
     "execution_count": 1591,
     "metadata": {},
     "output_type": "execute_result"
    }
   ],
   "source": [
    "df.head(2)"
   ]
  },
  {
   "cell_type": "code",
   "execution_count": 1592,
   "metadata": {},
   "outputs": [
    {
     "data": {
      "text/html": [
       "<div>\n",
       "<style>\n",
       "    .dataframe thead tr:only-child th {\n",
       "        text-align: right;\n",
       "    }\n",
       "\n",
       "    .dataframe thead th {\n",
       "        text-align: left;\n",
       "    }\n",
       "\n",
       "    .dataframe tbody tr th {\n",
       "        vertical-align: top;\n",
       "    }\n",
       "</style>\n",
       "<table border=\"1\" class=\"dataframe\">\n",
       "  <thead>\n",
       "    <tr style=\"text-align: right;\">\n",
       "      <th></th>\n",
       "      <th>tags_elements</th>\n",
       "    </tr>\n",
       "    <tr>\n",
       "      <th>rating_class</th>\n",
       "      <th></th>\n",
       "    </tr>\n",
       "  </thead>\n",
       "  <tbody>\n",
       "    <tr>\n",
       "      <th>average</th>\n",
       "      <td>12.298139</td>\n",
       "    </tr>\n",
       "    <tr>\n",
       "      <th>exceptional</th>\n",
       "      <td>13.058659</td>\n",
       "    </tr>\n",
       "    <tr>\n",
       "      <th>good</th>\n",
       "      <td>12.785958</td>\n",
       "    </tr>\n",
       "    <tr>\n",
       "      <th>negative</th>\n",
       "      <td>12.181679</td>\n",
       "    </tr>\n",
       "  </tbody>\n",
       "</table>\n",
       "</div>"
      ],
      "text/plain": [
       "              tags_elements\n",
       "rating_class               \n",
       "average           12.298139\n",
       "exceptional       13.058659\n",
       "good              12.785958\n",
       "negative          12.181679"
      ]
     },
     "execution_count": 1592,
     "metadata": {},
     "output_type": "execute_result"
    }
   ],
   "source": [
    "df.groupby(['rating_class']).agg({'tags_elements':np.mean})"
   ]
  },
  {
   "cell_type": "markdown",
   "metadata": {},
   "source": [
    "#### Relationship between makeitagainscore  and rating"
   ]
  },
  {
   "cell_type": "code",
   "execution_count": 1593,
   "metadata": {},
   "outputs": [],
   "source": [
    "df['makeitagainscore'] = pd.to_numeric(df['makeitagainscore'].str.replace('%', ''))"
   ]
  },
  {
   "cell_type": "code",
   "execution_count": 1594,
   "metadata": {},
   "outputs": [
    {
     "data": {
      "text/html": [
       "<div>\n",
       "<style>\n",
       "    .dataframe thead tr:only-child th {\n",
       "        text-align: right;\n",
       "    }\n",
       "\n",
       "    .dataframe thead th {\n",
       "        text-align: left;\n",
       "    }\n",
       "\n",
       "    .dataframe tbody tr th {\n",
       "        vertical-align: top;\n",
       "    }\n",
       "</style>\n",
       "<table border=\"1\" class=\"dataframe\">\n",
       "  <thead>\n",
       "    <tr style=\"text-align: right;\">\n",
       "      <th></th>\n",
       "      <th>bestrating</th>\n",
       "      <th>imagesrc</th>\n",
       "      <th>ingredients</th>\n",
       "      <th>makeitagainscore</th>\n",
       "      <th>preparation</th>\n",
       "      <th>rating</th>\n",
       "      <th>reviews</th>\n",
       "      <th>tags</th>\n",
       "      <th>title</th>\n",
       "      <th>tags_clean</th>\n",
       "      <th>rating_class</th>\n",
       "      <th>imagesrc_class</th>\n",
       "      <th>ingredients_elements</th>\n",
       "      <th>tags_elements</th>\n",
       "    </tr>\n",
       "  </thead>\n",
       "  <tbody>\n",
       "    <tr>\n",
       "      <th>0</th>\n",
       "      <td>4.0</td>\n",
       "      <td>https://assets.epicurious.com/photos/56df1d8cb...</td>\n",
       "      <td>['2 cups whole-wheat flour', '2 cups all-purpo...</td>\n",
       "      <td>90</td>\n",
       "      <td>Put oven rack in middle position and preheat o...</td>\n",
       "      <td>3.5</td>\n",
       "      <td>50.0</td>\n",
       "      <td>['Irish', 'Bread', 'Bake', 'Vegetarian', 'Quic...</td>\n",
       "      <td>Irish Brown Bread</td>\n",
       "      <td>Irish,Bread,Bake,Vegetarian,Quick &amp; Easy,St. P...</td>\n",
       "      <td>good</td>\n",
       "      <td>1</td>\n",
       "      <td>9.0</td>\n",
       "      <td>7.0</td>\n",
       "    </tr>\n",
       "    <tr>\n",
       "      <th>1</th>\n",
       "      <td>4.0</td>\n",
       "      <td>https://assets.epicurious.com/photos/5a78b5919...</td>\n",
       "      <td>['1 Tbsp. crushed red pepper flakes', '1 Tbsp....</td>\n",
       "      <td>91</td>\n",
       "      <td>Coarsely grind red pepper flakes, peppercorns,...</td>\n",
       "      <td>3.0</td>\n",
       "      <td>11.0</td>\n",
       "      <td>['Pepper', 'Fennel', 'Pork', 'Garlic', 'White ...</td>\n",
       "      <td>Slow-Cooked Pork with Chickpeas</td>\n",
       "      <td>Pepper,Fennel,Pork,Garlic,White Wine,Onion,Chi...</td>\n",
       "      <td>average</td>\n",
       "      <td>1</td>\n",
       "      <td>18.0</td>\n",
       "      <td>11.0</td>\n",
       "    </tr>\n",
       "  </tbody>\n",
       "</table>\n",
       "</div>"
      ],
      "text/plain": [
       "   bestrating                                           imagesrc  \\\n",
       "0         4.0  https://assets.epicurious.com/photos/56df1d8cb...   \n",
       "1         4.0  https://assets.epicurious.com/photos/5a78b5919...   \n",
       "\n",
       "                                         ingredients  makeitagainscore  \\\n",
       "0  ['2 cups whole-wheat flour', '2 cups all-purpo...                90   \n",
       "1  ['1 Tbsp. crushed red pepper flakes', '1 Tbsp....                91   \n",
       "\n",
       "                                         preparation  rating  reviews  \\\n",
       "0  Put oven rack in middle position and preheat o...     3.5     50.0   \n",
       "1  Coarsely grind red pepper flakes, peppercorns,...     3.0     11.0   \n",
       "\n",
       "                                                tags  \\\n",
       "0  ['Irish', 'Bread', 'Bake', 'Vegetarian', 'Quic...   \n",
       "1  ['Pepper', 'Fennel', 'Pork', 'Garlic', 'White ...   \n",
       "\n",
       "                              title  \\\n",
       "0                Irish Brown Bread    \n",
       "1  Slow-Cooked Pork with Chickpeas    \n",
       "\n",
       "                                          tags_clean rating_class  \\\n",
       "0  Irish,Bread,Bake,Vegetarian,Quick & Easy,St. P...         good   \n",
       "1  Pepper,Fennel,Pork,Garlic,White Wine,Onion,Chi...      average   \n",
       "\n",
       "   imagesrc_class  ingredients_elements  tags_elements  \n",
       "0               1                   9.0            7.0  \n",
       "1               1                  18.0           11.0  "
      ]
     },
     "execution_count": 1594,
     "metadata": {},
     "output_type": "execute_result"
    }
   ],
   "source": [
    "df.head(2)"
   ]
  },
  {
   "cell_type": "code",
   "execution_count": 1595,
   "metadata": {},
   "outputs": [
    {
     "data": {
      "text/html": [
       "<div>\n",
       "<style>\n",
       "    .dataframe thead tr:only-child th {\n",
       "        text-align: right;\n",
       "    }\n",
       "\n",
       "    .dataframe thead th {\n",
       "        text-align: left;\n",
       "    }\n",
       "\n",
       "    .dataframe tbody tr th {\n",
       "        vertical-align: top;\n",
       "    }\n",
       "</style>\n",
       "<table border=\"1\" class=\"dataframe\">\n",
       "  <thead>\n",
       "    <tr style=\"text-align: right;\">\n",
       "      <th></th>\n",
       "      <th>makeitagainscore</th>\n",
       "    </tr>\n",
       "    <tr>\n",
       "      <th>rating_class</th>\n",
       "      <th></th>\n",
       "    </tr>\n",
       "  </thead>\n",
       "  <tbody>\n",
       "    <tr>\n",
       "      <th>average</th>\n",
       "      <td>81.161083</td>\n",
       "    </tr>\n",
       "    <tr>\n",
       "      <th>exceptional</th>\n",
       "      <td>94.356145</td>\n",
       "    </tr>\n",
       "    <tr>\n",
       "      <th>good</th>\n",
       "      <td>89.667080</td>\n",
       "    </tr>\n",
       "    <tr>\n",
       "      <th>negative</th>\n",
       "      <td>64.444275</td>\n",
       "    </tr>\n",
       "  </tbody>\n",
       "</table>\n",
       "</div>"
      ],
      "text/plain": [
       "              makeitagainscore\n",
       "rating_class                  \n",
       "average              81.161083\n",
       "exceptional          94.356145\n",
       "good                 89.667080\n",
       "negative             64.444275"
      ]
     },
     "execution_count": 1595,
     "metadata": {},
     "output_type": "execute_result"
    }
   ],
   "source": [
    "df.groupby(['rating_class']).agg({'makeitagainscore':np.mean})"
   ]
  },
  {
   "cell_type": "markdown",
   "metadata": {},
   "source": [
    "#### Relationship between preparation length and rating"
   ]
  },
  {
   "cell_type": "code",
   "execution_count": 1596,
   "metadata": {},
   "outputs": [],
   "source": [
    "df['preparation_length'] = df['preparation'].str.len()"
   ]
  },
  {
   "cell_type": "code",
   "execution_count": 1597,
   "metadata": {},
   "outputs": [
    {
     "data": {
      "text/html": [
       "<div>\n",
       "<style>\n",
       "    .dataframe thead tr:only-child th {\n",
       "        text-align: right;\n",
       "    }\n",
       "\n",
       "    .dataframe thead th {\n",
       "        text-align: left;\n",
       "    }\n",
       "\n",
       "    .dataframe tbody tr th {\n",
       "        vertical-align: top;\n",
       "    }\n",
       "</style>\n",
       "<table border=\"1\" class=\"dataframe\">\n",
       "  <thead>\n",
       "    <tr style=\"text-align: right;\">\n",
       "      <th></th>\n",
       "      <th>bestrating</th>\n",
       "      <th>imagesrc</th>\n",
       "      <th>ingredients</th>\n",
       "      <th>makeitagainscore</th>\n",
       "      <th>preparation</th>\n",
       "      <th>rating</th>\n",
       "      <th>reviews</th>\n",
       "      <th>tags</th>\n",
       "      <th>title</th>\n",
       "      <th>tags_clean</th>\n",
       "      <th>rating_class</th>\n",
       "      <th>imagesrc_class</th>\n",
       "      <th>ingredients_elements</th>\n",
       "      <th>tags_elements</th>\n",
       "      <th>preparation_length</th>\n",
       "    </tr>\n",
       "  </thead>\n",
       "  <tbody>\n",
       "    <tr>\n",
       "      <th>0</th>\n",
       "      <td>4.0</td>\n",
       "      <td>https://assets.epicurious.com/photos/56df1d8cb...</td>\n",
       "      <td>['2 cups whole-wheat flour', '2 cups all-purpo...</td>\n",
       "      <td>90</td>\n",
       "      <td>Put oven rack in middle position and preheat o...</td>\n",
       "      <td>3.5</td>\n",
       "      <td>50.0</td>\n",
       "      <td>['Irish', 'Bread', 'Bake', 'Vegetarian', 'Quic...</td>\n",
       "      <td>Irish Brown Bread</td>\n",
       "      <td>Irish,Bread,Bake,Vegetarian,Quick &amp; Easy,St. P...</td>\n",
       "      <td>good</td>\n",
       "      <td>1</td>\n",
       "      <td>9.0</td>\n",
       "      <td>7.0</td>\n",
       "      <td>829</td>\n",
       "    </tr>\n",
       "    <tr>\n",
       "      <th>1</th>\n",
       "      <td>4.0</td>\n",
       "      <td>https://assets.epicurious.com/photos/5a78b5919...</td>\n",
       "      <td>['1 Tbsp. crushed red pepper flakes', '1 Tbsp....</td>\n",
       "      <td>91</td>\n",
       "      <td>Coarsely grind red pepper flakes, peppercorns,...</td>\n",
       "      <td>3.0</td>\n",
       "      <td>11.0</td>\n",
       "      <td>['Pepper', 'Fennel', 'Pork', 'Garlic', 'White ...</td>\n",
       "      <td>Slow-Cooked Pork with Chickpeas</td>\n",
       "      <td>Pepper,Fennel,Pork,Garlic,White Wine,Onion,Chi...</td>\n",
       "      <td>average</td>\n",
       "      <td>1</td>\n",
       "      <td>18.0</td>\n",
       "      <td>11.0</td>\n",
       "      <td>1506</td>\n",
       "    </tr>\n",
       "  </tbody>\n",
       "</table>\n",
       "</div>"
      ],
      "text/plain": [
       "   bestrating                                           imagesrc  \\\n",
       "0         4.0  https://assets.epicurious.com/photos/56df1d8cb...   \n",
       "1         4.0  https://assets.epicurious.com/photos/5a78b5919...   \n",
       "\n",
       "                                         ingredients  makeitagainscore  \\\n",
       "0  ['2 cups whole-wheat flour', '2 cups all-purpo...                90   \n",
       "1  ['1 Tbsp. crushed red pepper flakes', '1 Tbsp....                91   \n",
       "\n",
       "                                         preparation  rating  reviews  \\\n",
       "0  Put oven rack in middle position and preheat o...     3.5     50.0   \n",
       "1  Coarsely grind red pepper flakes, peppercorns,...     3.0     11.0   \n",
       "\n",
       "                                                tags  \\\n",
       "0  ['Irish', 'Bread', 'Bake', 'Vegetarian', 'Quic...   \n",
       "1  ['Pepper', 'Fennel', 'Pork', 'Garlic', 'White ...   \n",
       "\n",
       "                              title  \\\n",
       "0                Irish Brown Bread    \n",
       "1  Slow-Cooked Pork with Chickpeas    \n",
       "\n",
       "                                          tags_clean rating_class  \\\n",
       "0  Irish,Bread,Bake,Vegetarian,Quick & Easy,St. P...         good   \n",
       "1  Pepper,Fennel,Pork,Garlic,White Wine,Onion,Chi...      average   \n",
       "\n",
       "   imagesrc_class  ingredients_elements  tags_elements  preparation_length  \n",
       "0               1                   9.0            7.0                 829  \n",
       "1               1                  18.0           11.0                1506  "
      ]
     },
     "execution_count": 1597,
     "metadata": {},
     "output_type": "execute_result"
    }
   ],
   "source": [
    "df.head(2)"
   ]
  },
  {
   "cell_type": "code",
   "execution_count": 1598,
   "metadata": {},
   "outputs": [
    {
     "data": {
      "text/html": [
       "<div>\n",
       "<style>\n",
       "    .dataframe thead tr:only-child th {\n",
       "        text-align: right;\n",
       "    }\n",
       "\n",
       "    .dataframe thead th {\n",
       "        text-align: left;\n",
       "    }\n",
       "\n",
       "    .dataframe tbody tr th {\n",
       "        vertical-align: top;\n",
       "    }\n",
       "</style>\n",
       "<table border=\"1\" class=\"dataframe\">\n",
       "  <thead>\n",
       "    <tr style=\"text-align: right;\">\n",
       "      <th></th>\n",
       "      <th>preparation_length</th>\n",
       "    </tr>\n",
       "    <tr>\n",
       "      <th>rating_class</th>\n",
       "      <th></th>\n",
       "    </tr>\n",
       "  </thead>\n",
       "  <tbody>\n",
       "    <tr>\n",
       "      <th>average</th>\n",
       "      <td>873.341455</td>\n",
       "    </tr>\n",
       "    <tr>\n",
       "      <th>exceptional</th>\n",
       "      <td>1068.687849</td>\n",
       "    </tr>\n",
       "    <tr>\n",
       "      <th>good</th>\n",
       "      <td>947.127247</td>\n",
       "    </tr>\n",
       "    <tr>\n",
       "      <th>negative</th>\n",
       "      <td>857.917557</td>\n",
       "    </tr>\n",
       "  </tbody>\n",
       "</table>\n",
       "</div>"
      ],
      "text/plain": [
       "              preparation_length\n",
       "rating_class                    \n",
       "average               873.341455\n",
       "exceptional          1068.687849\n",
       "good                  947.127247\n",
       "negative              857.917557"
      ]
     },
     "execution_count": 1598,
     "metadata": {},
     "output_type": "execute_result"
    }
   ],
   "source": [
    "df.groupby(['rating_class']).agg({'preparation_length':np.mean})"
   ]
  },
  {
   "cell_type": "markdown",
   "metadata": {},
   "source": [
    "#### Relationship between title length and rating"
   ]
  },
  {
   "cell_type": "code",
   "execution_count": 1599,
   "metadata": {},
   "outputs": [],
   "source": [
    "df['title_length'] = df['title'].str.len()"
   ]
  },
  {
   "cell_type": "code",
   "execution_count": 1600,
   "metadata": {},
   "outputs": [
    {
     "data": {
      "text/html": [
       "<div>\n",
       "<style>\n",
       "    .dataframe thead tr:only-child th {\n",
       "        text-align: right;\n",
       "    }\n",
       "\n",
       "    .dataframe thead th {\n",
       "        text-align: left;\n",
       "    }\n",
       "\n",
       "    .dataframe tbody tr th {\n",
       "        vertical-align: top;\n",
       "    }\n",
       "</style>\n",
       "<table border=\"1\" class=\"dataframe\">\n",
       "  <thead>\n",
       "    <tr style=\"text-align: right;\">\n",
       "      <th></th>\n",
       "      <th>bestrating</th>\n",
       "      <th>imagesrc</th>\n",
       "      <th>ingredients</th>\n",
       "      <th>makeitagainscore</th>\n",
       "      <th>preparation</th>\n",
       "      <th>rating</th>\n",
       "      <th>reviews</th>\n",
       "      <th>tags</th>\n",
       "      <th>title</th>\n",
       "      <th>tags_clean</th>\n",
       "      <th>rating_class</th>\n",
       "      <th>imagesrc_class</th>\n",
       "      <th>ingredients_elements</th>\n",
       "      <th>tags_elements</th>\n",
       "      <th>preparation_length</th>\n",
       "      <th>title_length</th>\n",
       "    </tr>\n",
       "  </thead>\n",
       "  <tbody>\n",
       "    <tr>\n",
       "      <th>0</th>\n",
       "      <td>4.0</td>\n",
       "      <td>https://assets.epicurious.com/photos/56df1d8cb...</td>\n",
       "      <td>['2 cups whole-wheat flour', '2 cups all-purpo...</td>\n",
       "      <td>90</td>\n",
       "      <td>Put oven rack in middle position and preheat o...</td>\n",
       "      <td>3.5</td>\n",
       "      <td>50.0</td>\n",
       "      <td>['Irish', 'Bread', 'Bake', 'Vegetarian', 'Quic...</td>\n",
       "      <td>Irish Brown Bread</td>\n",
       "      <td>Irish,Bread,Bake,Vegetarian,Quick &amp; Easy,St. P...</td>\n",
       "      <td>good</td>\n",
       "      <td>1</td>\n",
       "      <td>9.0</td>\n",
       "      <td>7.0</td>\n",
       "      <td>829</td>\n",
       "      <td>18</td>\n",
       "    </tr>\n",
       "    <tr>\n",
       "      <th>1</th>\n",
       "      <td>4.0</td>\n",
       "      <td>https://assets.epicurious.com/photos/5a78b5919...</td>\n",
       "      <td>['1 Tbsp. crushed red pepper flakes', '1 Tbsp....</td>\n",
       "      <td>91</td>\n",
       "      <td>Coarsely grind red pepper flakes, peppercorns,...</td>\n",
       "      <td>3.0</td>\n",
       "      <td>11.0</td>\n",
       "      <td>['Pepper', 'Fennel', 'Pork', 'Garlic', 'White ...</td>\n",
       "      <td>Slow-Cooked Pork with Chickpeas</td>\n",
       "      <td>Pepper,Fennel,Pork,Garlic,White Wine,Onion,Chi...</td>\n",
       "      <td>average</td>\n",
       "      <td>1</td>\n",
       "      <td>18.0</td>\n",
       "      <td>11.0</td>\n",
       "      <td>1506</td>\n",
       "      <td>32</td>\n",
       "    </tr>\n",
       "  </tbody>\n",
       "</table>\n",
       "</div>"
      ],
      "text/plain": [
       "   bestrating                                           imagesrc  \\\n",
       "0         4.0  https://assets.epicurious.com/photos/56df1d8cb...   \n",
       "1         4.0  https://assets.epicurious.com/photos/5a78b5919...   \n",
       "\n",
       "                                         ingredients  makeitagainscore  \\\n",
       "0  ['2 cups whole-wheat flour', '2 cups all-purpo...                90   \n",
       "1  ['1 Tbsp. crushed red pepper flakes', '1 Tbsp....                91   \n",
       "\n",
       "                                         preparation  rating  reviews  \\\n",
       "0  Put oven rack in middle position and preheat o...     3.5     50.0   \n",
       "1  Coarsely grind red pepper flakes, peppercorns,...     3.0     11.0   \n",
       "\n",
       "                                                tags  \\\n",
       "0  ['Irish', 'Bread', 'Bake', 'Vegetarian', 'Quic...   \n",
       "1  ['Pepper', 'Fennel', 'Pork', 'Garlic', 'White ...   \n",
       "\n",
       "                              title  \\\n",
       "0                Irish Brown Bread    \n",
       "1  Slow-Cooked Pork with Chickpeas    \n",
       "\n",
       "                                          tags_clean rating_class  \\\n",
       "0  Irish,Bread,Bake,Vegetarian,Quick & Easy,St. P...         good   \n",
       "1  Pepper,Fennel,Pork,Garlic,White Wine,Onion,Chi...      average   \n",
       "\n",
       "   imagesrc_class  ingredients_elements  tags_elements  preparation_length  \\\n",
       "0               1                   9.0            7.0                 829   \n",
       "1               1                  18.0           11.0                1506   \n",
       "\n",
       "   title_length  \n",
       "0            18  \n",
       "1            32  "
      ]
     },
     "execution_count": 1600,
     "metadata": {},
     "output_type": "execute_result"
    }
   ],
   "source": [
    "df.head(2)"
   ]
  },
  {
   "cell_type": "code",
   "execution_count": 1601,
   "metadata": {},
   "outputs": [
    {
     "data": {
      "text/html": [
       "<div>\n",
       "<style>\n",
       "    .dataframe thead tr:only-child th {\n",
       "        text-align: right;\n",
       "    }\n",
       "\n",
       "    .dataframe thead th {\n",
       "        text-align: left;\n",
       "    }\n",
       "\n",
       "    .dataframe tbody tr th {\n",
       "        vertical-align: top;\n",
       "    }\n",
       "</style>\n",
       "<table border=\"1\" class=\"dataframe\">\n",
       "  <thead>\n",
       "    <tr style=\"text-align: right;\">\n",
       "      <th></th>\n",
       "      <th>title_length</th>\n",
       "    </tr>\n",
       "    <tr>\n",
       "      <th>rating_class</th>\n",
       "      <th></th>\n",
       "    </tr>\n",
       "  </thead>\n",
       "  <tbody>\n",
       "    <tr>\n",
       "      <th>average</th>\n",
       "      <td>33.953638</td>\n",
       "    </tr>\n",
       "    <tr>\n",
       "      <th>exceptional</th>\n",
       "      <td>35.379190</td>\n",
       "    </tr>\n",
       "    <tr>\n",
       "      <th>good</th>\n",
       "      <td>35.099504</td>\n",
       "    </tr>\n",
       "    <tr>\n",
       "      <th>negative</th>\n",
       "      <td>31.687023</td>\n",
       "    </tr>\n",
       "  </tbody>\n",
       "</table>\n",
       "</div>"
      ],
      "text/plain": [
       "              title_length\n",
       "rating_class              \n",
       "average          33.953638\n",
       "exceptional      35.379190\n",
       "good             35.099504\n",
       "negative         31.687023"
      ]
     },
     "execution_count": 1601,
     "metadata": {},
     "output_type": "execute_result"
    }
   ],
   "source": [
    "df.groupby(['rating_class']).agg({'title_length':np.mean})"
   ]
  },
  {
   "cell_type": "markdown",
   "metadata": {},
   "source": [
    "### Evaluate Some Algorithms"
   ]
  },
  {
   "cell_type": "code",
   "execution_count": 1602,
   "metadata": {},
   "outputs": [
    {
     "data": {
      "text/html": [
       "<div>\n",
       "<style>\n",
       "    .dataframe thead tr:only-child th {\n",
       "        text-align: right;\n",
       "    }\n",
       "\n",
       "    .dataframe thead th {\n",
       "        text-align: left;\n",
       "    }\n",
       "\n",
       "    .dataframe tbody tr th {\n",
       "        vertical-align: top;\n",
       "    }\n",
       "</style>\n",
       "<table border=\"1\" class=\"dataframe\">\n",
       "  <thead>\n",
       "    <tr style=\"text-align: right;\">\n",
       "      <th></th>\n",
       "      <th>bestrating</th>\n",
       "      <th>imagesrc</th>\n",
       "      <th>ingredients</th>\n",
       "      <th>makeitagainscore</th>\n",
       "      <th>preparation</th>\n",
       "      <th>rating</th>\n",
       "      <th>reviews</th>\n",
       "      <th>tags</th>\n",
       "      <th>title</th>\n",
       "      <th>tags_clean</th>\n",
       "      <th>rating_class</th>\n",
       "      <th>imagesrc_class</th>\n",
       "      <th>ingredients_elements</th>\n",
       "      <th>tags_elements</th>\n",
       "      <th>preparation_length</th>\n",
       "      <th>title_length</th>\n",
       "    </tr>\n",
       "  </thead>\n",
       "  <tbody>\n",
       "    <tr>\n",
       "      <th>0</th>\n",
       "      <td>4.0</td>\n",
       "      <td>https://assets.epicurious.com/photos/56df1d8cb...</td>\n",
       "      <td>['2 cups whole-wheat flour', '2 cups all-purpo...</td>\n",
       "      <td>90</td>\n",
       "      <td>Put oven rack in middle position and preheat o...</td>\n",
       "      <td>3.5</td>\n",
       "      <td>50.0</td>\n",
       "      <td>['Irish', 'Bread', 'Bake', 'Vegetarian', 'Quic...</td>\n",
       "      <td>Irish Brown Bread</td>\n",
       "      <td>Irish,Bread,Bake,Vegetarian,Quick &amp; Easy,St. P...</td>\n",
       "      <td>good</td>\n",
       "      <td>1</td>\n",
       "      <td>9.0</td>\n",
       "      <td>7.0</td>\n",
       "      <td>829</td>\n",
       "      <td>18</td>\n",
       "    </tr>\n",
       "    <tr>\n",
       "      <th>1</th>\n",
       "      <td>4.0</td>\n",
       "      <td>https://assets.epicurious.com/photos/5a78b5919...</td>\n",
       "      <td>['1 Tbsp. crushed red pepper flakes', '1 Tbsp....</td>\n",
       "      <td>91</td>\n",
       "      <td>Coarsely grind red pepper flakes, peppercorns,...</td>\n",
       "      <td>3.0</td>\n",
       "      <td>11.0</td>\n",
       "      <td>['Pepper', 'Fennel', 'Pork', 'Garlic', 'White ...</td>\n",
       "      <td>Slow-Cooked Pork with Chickpeas</td>\n",
       "      <td>Pepper,Fennel,Pork,Garlic,White Wine,Onion,Chi...</td>\n",
       "      <td>average</td>\n",
       "      <td>1</td>\n",
       "      <td>18.0</td>\n",
       "      <td>11.0</td>\n",
       "      <td>1506</td>\n",
       "      <td>32</td>\n",
       "    </tr>\n",
       "  </tbody>\n",
       "</table>\n",
       "</div>"
      ],
      "text/plain": [
       "   bestrating                                           imagesrc  \\\n",
       "0         4.0  https://assets.epicurious.com/photos/56df1d8cb...   \n",
       "1         4.0  https://assets.epicurious.com/photos/5a78b5919...   \n",
       "\n",
       "                                         ingredients  makeitagainscore  \\\n",
       "0  ['2 cups whole-wheat flour', '2 cups all-purpo...                90   \n",
       "1  ['1 Tbsp. crushed red pepper flakes', '1 Tbsp....                91   \n",
       "\n",
       "                                         preparation  rating  reviews  \\\n",
       "0  Put oven rack in middle position and preheat o...     3.5     50.0   \n",
       "1  Coarsely grind red pepper flakes, peppercorns,...     3.0     11.0   \n",
       "\n",
       "                                                tags  \\\n",
       "0  ['Irish', 'Bread', 'Bake', 'Vegetarian', 'Quic...   \n",
       "1  ['Pepper', 'Fennel', 'Pork', 'Garlic', 'White ...   \n",
       "\n",
       "                              title  \\\n",
       "0                Irish Brown Bread    \n",
       "1  Slow-Cooked Pork with Chickpeas    \n",
       "\n",
       "                                          tags_clean rating_class  \\\n",
       "0  Irish,Bread,Bake,Vegetarian,Quick & Easy,St. P...         good   \n",
       "1  Pepper,Fennel,Pork,Garlic,White Wine,Onion,Chi...      average   \n",
       "\n",
       "   imagesrc_class  ingredients_elements  tags_elements  preparation_length  \\\n",
       "0               1                   9.0            7.0                 829   \n",
       "1               1                  18.0           11.0                1506   \n",
       "\n",
       "   title_length  \n",
       "0            18  \n",
       "1            32  "
      ]
     },
     "execution_count": 1602,
     "metadata": {},
     "output_type": "execute_result"
    }
   ],
   "source": [
    "df.head(2)"
   ]
  },
  {
   "cell_type": "markdown",
   "metadata": {},
   "source": [
    "#### create a validation dataset"
   ]
  },
  {
   "cell_type": "code",
   "execution_count": 1603,
   "metadata": {},
   "outputs": [],
   "source": [
    "from sklearn.model_selection import train_test_split"
   ]
  },
  {
   "cell_type": "code",
   "execution_count": 1604,
   "metadata": {},
   "outputs": [
    {
     "name": "stdout",
     "output_type": "stream",
     "text": [
      "<class 'pandas.core.frame.DataFrame'>\n",
      "Int64Index: 11494 entries, 0 to 11523\n",
      "Data columns (total 16 columns):\n",
      "bestrating              11494 non-null float64\n",
      "imagesrc                5644 non-null object\n",
      "ingredients             11494 non-null object\n",
      "makeitagainscore        11494 non-null int64\n",
      "preparation             11494 non-null object\n",
      "rating                  11494 non-null float64\n",
      "reviews                 11494 non-null float64\n",
      "tags                    11494 non-null object\n",
      "title                   11494 non-null object\n",
      "tags_clean              11494 non-null object\n",
      "rating_class            11494 non-null object\n",
      "imagesrc_class          11494 non-null int64\n",
      "ingredients_elements    11494 non-null float64\n",
      "tags_elements           11494 non-null float64\n",
      "preparation_length      11494 non-null int64\n",
      "title_length            11494 non-null int64\n",
      "dtypes: float64(5), int64(4), object(7)\n",
      "memory usage: 1.8+ MB\n"
     ]
    }
   ],
   "source": [
    "df.info()"
   ]
  },
  {
   "cell_type": "code",
   "execution_count": 1605,
   "metadata": {},
   "outputs": [
    {
     "data": {
      "text/plain": [
       "good           6452\n",
       "average        2955\n",
       "exceptional    1432\n",
       "negative        655\n",
       "Name: rating_class, dtype: int64"
      ]
     },
     "execution_count": 1605,
     "metadata": {},
     "output_type": "execute_result"
    }
   ],
   "source": [
    "df['rating_class'].value_counts()"
   ]
  },
  {
   "cell_type": "code",
   "execution_count": 1606,
   "metadata": {},
   "outputs": [],
   "source": [
    "validation_size = 0.20\n",
    "seed = 7"
   ]
  },
  {
   "cell_type": "code",
   "execution_count": 1608,
   "metadata": {},
   "outputs": [],
   "source": [
    "X = df.values\n",
    "y = df.values[:,10] # rating_class"
   ]
  },
  {
   "cell_type": "code",
   "execution_count": 1609,
   "metadata": {},
   "outputs": [],
   "source": [
    "X_train, X_validation, y_train, y_validation = train_test_split(\n",
    "    X, y, test_size=validation_size, random_state=seed)"
   ]
  },
  {
   "cell_type": "code",
   "execution_count": 1610,
   "metadata": {},
   "outputs": [],
   "source": [
    "# NLP SPARSE\n",
    "X_train_nlp = X_train[:,4]\n",
    "X_validation_nlp = X_validation[:,4]\n",
    "tf_transformer = TfidfVectorizer(stop_words='english')\n",
    "tf_transformer = vect.fit(X_train_nlp)\n",
    "# encode document\n",
    "X_train_nlp = tf_transformer.transform(X_train_nlp)\n",
    "X_validation_nlp = tf_transformer.transform(X_validation_nlp)"
   ]
  },
  {
   "cell_type": "code",
   "execution_count": 1611,
   "metadata": {},
   "outputs": [
    {
     "name": "stdout",
     "output_type": "stream",
     "text": [
      "X_train_nlp:(9195, 7784)\n",
      "X_validation_nlp:(2299, 7784)\n"
     ]
    }
   ],
   "source": [
    "print(f\"X_train_nlp:{X_train_nlp.shape}\")\n",
    "print(f\"X_validation_nlp:{X_validation_nlp.shape}\")"
   ]
  },
  {
   "cell_type": "code",
   "execution_count": 1612,
   "metadata": {},
   "outputs": [],
   "source": [
    "# DENSE\n",
    "X_train_dense = X_train[:,11:16] # imagesrc_class, ingredients_elements, tags_elements, preparation_length, title_length\n",
    "X_validation_dense = X_validation[:,11:16]"
   ]
  },
  {
   "cell_type": "code",
   "execution_count": 1613,
   "metadata": {},
   "outputs": [
    {
     "name": "stdout",
     "output_type": "stream",
     "text": [
      "X_train_dense:(9195, 5)\n",
      "X_validation_dense:(2299, 5)\n"
     ]
    }
   ],
   "source": [
    "print(f\"X_train_dense:{X_train_dense.shape}\")\n",
    "print(f\"X_validation_dense:{X_validation_dense.shape}\")"
   ]
  },
  {
   "cell_type": "code",
   "execution_count": 1614,
   "metadata": {},
   "outputs": [
    {
     "data": {
      "text/plain": [
       "(array(['average', 'exceptional', 'good', 'negative'], dtype=object),\n",
       " array([2955, 1432, 6452,  655]))"
      ]
     },
     "execution_count": 1614,
     "metadata": {},
     "output_type": "execute_result"
    }
   ],
   "source": [
    "np.unique(y, return_counts=True)"
   ]
  },
  {
   "cell_type": "markdown",
   "metadata": {},
   "source": [
    "### PCA"
   ]
  },
  {
   "cell_type": "code",
   "execution_count": 1615,
   "metadata": {},
   "outputs": [
    {
     "data": {
      "text/plain": [
       "TruncatedSVD(algorithm='randomized', n_components=500, n_iter=8,\n",
       "       random_state=42, tol=0.0)"
      ]
     },
     "execution_count": 1615,
     "metadata": {},
     "output_type": "execute_result"
    }
   ],
   "source": [
    "from sklearn.decomposition import TruncatedSVD\n",
    "svd = TruncatedSVD(n_components=500, n_iter=8, random_state=42)\n",
    "svd.fit(X_train_nlp)"
   ]
  },
  {
   "cell_type": "code",
   "execution_count": 1616,
   "metadata": {},
   "outputs": [
    {
     "name": "stdout",
     "output_type": "stream",
     "text": [
      "0.712912127927\n"
     ]
    }
   ],
   "source": [
    "print(svd.explained_variance_ratio_.sum())  "
   ]
  },
  {
   "cell_type": "code",
   "execution_count": 1617,
   "metadata": {},
   "outputs": [],
   "source": [
    "X_train_nlp_pca = svd.transform(X_train_nlp)"
   ]
  },
  {
   "cell_type": "code",
   "execution_count": 1618,
   "metadata": {},
   "outputs": [
    {
     "data": {
      "text/plain": [
       "(9195, 500)"
      ]
     },
     "execution_count": 1618,
     "metadata": {},
     "output_type": "execute_result"
    }
   ],
   "source": [
    "X_train_nlp_pca.shape"
   ]
  },
  {
   "cell_type": "code",
   "execution_count": 1619,
   "metadata": {},
   "outputs": [],
   "source": [
    "X_validation_nlp_pca = svd.transform(X_validation_nlp)"
   ]
  },
  {
   "cell_type": "code",
   "execution_count": 1620,
   "metadata": {},
   "outputs": [
    {
     "data": {
      "text/plain": [
       "(2299, 500)"
      ]
     },
     "execution_count": 1620,
     "metadata": {},
     "output_type": "execute_result"
    }
   ],
   "source": [
    "X_validation_nlp_pca.shape"
   ]
  },
  {
   "cell_type": "code",
   "execution_count": 1621,
   "metadata": {},
   "outputs": [],
   "source": [
    "X_train = np.hstack((X_train_nlp_pca,X_train_dense)) "
   ]
  },
  {
   "cell_type": "code",
   "execution_count": 1622,
   "metadata": {},
   "outputs": [],
   "source": [
    "X_validation = np.hstack((X_validation_nlp_pca,X_validation_dense)) "
   ]
  },
  {
   "cell_type": "code",
   "execution_count": 1623,
   "metadata": {},
   "outputs": [
    {
     "data": {
      "text/plain": [
       "(9195, 505)"
      ]
     },
     "execution_count": 1623,
     "metadata": {},
     "output_type": "execute_result"
    }
   ],
   "source": [
    "X_train.shape"
   ]
  },
  {
   "cell_type": "code",
   "execution_count": 1624,
   "metadata": {},
   "outputs": [
    {
     "data": {
      "text/plain": [
       "(2299, 505)"
      ]
     },
     "execution_count": 1624,
     "metadata": {},
     "output_type": "execute_result"
    }
   ],
   "source": [
    "X_validation.shape"
   ]
  },
  {
   "cell_type": "markdown",
   "metadata": {},
   "source": [
    "#### build models and cross validation"
   ]
  },
  {
   "cell_type": "code",
   "execution_count": 1625,
   "metadata": {},
   "outputs": [],
   "source": [
    "# models\n",
    "from sklearn.linear_model import LogisticRegression\n",
    "from sklearn.tree import DecisionTreeClassifier\n",
    "from sklearn.neighbors import KNeighborsClassifier\n",
    "from sklearn.discriminant_analysis import LinearDiscriminantAnalysis\n",
    "from sklearn.naive_bayes import MultinomialNB\n",
    "from sklearn.svm import SVC\n",
    "from sklearn.ensemble import RandomForestClassifier"
   ]
  },
  {
   "cell_type": "code",
   "execution_count": 1626,
   "metadata": {},
   "outputs": [],
   "source": [
    "# Test options and evaluation metric\n",
    "seed = 7\n",
    "scoring = 'accuracy'"
   ]
  },
  {
   "cell_type": "code",
   "execution_count": 1627,
   "metadata": {},
   "outputs": [],
   "source": [
    "# kfold cross validation\n",
    "from sklearn import model_selection"
   ]
  },
  {
   "cell_type": "code",
   "execution_count": 1638,
   "metadata": {},
   "outputs": [],
   "source": [
    "models = []\n",
    "models.append(('LR',LogisticRegression()))\n",
    "models.append(('CART',DecisionTreeClassifier()))\n",
    "models.append(('KNN',KNeighborsClassifier()))\n",
    "# models.append(('LDA',LinearDiscriminantAnalysis()))\n",
    "# models.append(('NB',MultinomialNB()))\n",
    "# models.append(('SVM',SVC()))\n",
    "models.append(('RF',RandomForestClassifier()))"
   ]
  },
  {
   "cell_type": "code",
   "execution_count": 1639,
   "metadata": {},
   "outputs": [
    {
     "name": "stdout",
     "output_type": "stream",
     "text": [
      "LR: 0.556391 (0.010292)\n",
      "CART: 0.405548 (0.012317)\n",
      "KNN: 0.449919 (0.017803)\n",
      "RF: 0.497881 (0.008608)\n"
     ]
    }
   ],
   "source": [
    "#evaluate each model in turn \n",
    "results = []\n",
    "names = []\n",
    "\n",
    "for name, model in models:\n",
    "    kfold = model_selection.KFold(n_splits=10,random_state=seed)\n",
    "    cv_results = model_selection.cross_val_score(model, X_train, y_train, cv=kfold, scoring=scoring)\n",
    "    results.append(cv_results)\n",
    "    names.append(name)\n",
    "    msg = \"%s: %f (%f)\" % (name, cv_results.mean(), cv_results.std())\n",
    "    print(msg)"
   ]
  },
  {
   "cell_type": "code",
   "execution_count": 1640,
   "metadata": {},
   "outputs": [
    {
     "data": {
      "image/png": "[encoded data removed]",
      "text/plain": [
       "<matplotlib.figure.Figure at 0x1a3934e4a8>"
      ]
     },
     "metadata": {},
     "output_type": "display_data"
    }
   ],
   "source": [
    "# Compare Algorithms\n",
    "fig = plt.figure(figsize=(10,6))\n",
    "fig.suptitle('Algorithm Comparison')\n",
    "ax = fig.add_subplot(1,1,1)\n",
    "plt.boxplot(results)\n",
    "ax.set_xticklabels(names)\n",
    "plt.show()"
   ]
  },
  {
   "cell_type": "markdown",
   "metadata": {},
   "source": [
    "#### make predictions"
   ]
  },
  {
   "cell_type": "code",
   "execution_count": 1641,
   "metadata": {},
   "outputs": [
    {
     "name": "stdout",
     "output_type": "stream",
     "text": [
      "0.501087429317\n",
      "[[ 110   12  458    4]\n",
      " [  59   15  217    1]\n",
      " [ 227   41 1027    3]\n",
      " [  24    5   96    0]]\n",
      "             precision    recall  f1-score   support\n",
      "\n",
      "    average       0.26      0.19      0.22       584\n",
      "exceptional       0.21      0.05      0.08       292\n",
      "       good       0.57      0.79      0.66      1298\n",
      "   negative       0.00      0.00      0.00       125\n",
      "\n",
      "avg / total       0.42      0.50      0.44      2299\n",
      "\n"
     ]
    }
   ],
   "source": [
    "from sklearn.metrics import accuracy_score,confusion_matrix,classification_report\n",
    "\n",
    "# Make predictions on validation dataset\n",
    "rf = RandomForestClassifier()\n",
    "rf.fit(X_train, y_train)\n",
    "predictions = rf.predict(X_validation)\n",
    "print(accuracy_score(y_validation, predictions))\n",
    "print(confusion_matrix(y_validation, predictions))\n",
    "print(classification_report(y_validation, predictions))"
   ]
  },
  {
   "cell_type": "markdown",
   "metadata": {},
   "source": [
    "If I understand correctly, you essentially have two forms of features for your models. (1) Text data that you have represented as a sparse bag of words and (2) more traditional dense features. If that is the case then there are 3 common approaches:\n",
    "\n",
    "Perform dimensionality reduction (such as LSA via TruncatedSVD) on your sparse data to make it dense and combine the features into a single dense matrix to train your model(s).  \n",
    "\n",
    "Add your few dense features to your sparse matrix using something like scipy's hstack into a single sparse matrix to train your model(s).  \n",
    "\n",
    "Create a model using only your sparse text data and then combine its predictions (probabilities if it's classification) as a dense feature with your other dense features to create a model (ie: ensembling via stacking). If you go this route remember to only use CV predictions as features to train your model otherwise you'll likely overfit quite badly (you can make a quite class to do this all within a single Pipeline if desired)."
   ]
  }
 ],
 "metadata": {
  "kernelspec": {
   "display_name": "Python 3",
   "language": "python",
   "name": "python3"
  },
  "language_info": {
   "codemirror_mode": {
    "name": "ipython",
    "version": 3
   },
   "file_extension": ".py",
   "mimetype": "text/x-python",
   "name": "python",
   "nbconvert_exporter": "python",
   "pygments_lexer": "ipython3",
   "version": "3.6.2"
  }
 },
 "nbformat": 4,
 "nbformat_minor": 2
}
