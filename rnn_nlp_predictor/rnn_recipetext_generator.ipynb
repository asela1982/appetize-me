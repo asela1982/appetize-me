{
 "cells": [
  {
   "cell_type": "code",
   "execution_count": 1,
   "metadata": {},
   "outputs": [],
   "source": [
    "import pandas as pd\n",
    "import numpy as np\n",
    "import os\n",
    "# ast - Abstract Syntax Tree - processes trees of the Python abstract syntax grammar.\n",
    "import ast"
   ]
  },
  {
   "cell_type": "code",
   "execution_count": 2,
   "metadata": {},
   "outputs": [],
   "source": [
    "recipe_df1 = pd.read_csv('../ScrapeData/csv_recipes/recipe_df1.csv',low_memory=False)\n",
    "recipe_df2 = pd.read_csv('../ScrapeData/csv_recipes/recipe_df2.csv',low_memory=False)\n",
    "recipe_df3 = pd.read_csv('../ScrapeData/csv_recipes/recipe_df3.csv',low_memory=False)\n",
    "recipe_df4 = pd.read_csv('../ScrapeData/csv_recipes/recipe_df4.csv',low_memory=False)\n",
    "recipe_df5 = pd.read_csv('../ScrapeData/csv_recipes/recipe_df5.csv',low_memory=False)"
   ]
  },
  {
   "cell_type": "code",
   "execution_count": 3,
   "metadata": {},
   "outputs": [],
   "source": [
    "# Add merge all df into one df. \n",
    "# test = [recipe_df1, recipe_df2,recipe_df3, recipe_df4, recipe_df5]\n",
    "all_recipes = pd.concat([recipe_df1, recipe_df2,recipe_df3, recipe_df4, recipe_df5],ignore_index=True)"
   ]
  },
  {
   "cell_type": "code",
   "execution_count": 4,
   "metadata": {},
   "outputs": [
    {
     "data": {
      "text/html": [
       "<div>\n",
       "<style scoped>\n",
       "    .dataframe tbody tr th:only-of-type {\n",
       "        vertical-align: middle;\n",
       "    }\n",
       "\n",
       "    .dataframe tbody tr th {\n",
       "        vertical-align: top;\n",
       "    }\n",
       "\n",
       "    .dataframe thead th {\n",
       "        text-align: right;\n",
       "    }\n",
       "</style>\n",
       "<table border=\"1\" class=\"dataframe\">\n",
       "  <thead>\n",
       "    <tr style=\"text-align: right;\">\n",
       "      <th></th>\n",
       "      <th>Unnamed: 0</th>\n",
       "      <th>bestrating</th>\n",
       "      <th>id</th>\n",
       "      <th>imagesrc</th>\n",
       "      <th>ingredients</th>\n",
       "      <th>makeitagainscore</th>\n",
       "      <th>preparation</th>\n",
       "      <th>rating</th>\n",
       "      <th>reviews</th>\n",
       "      <th>tags</th>\n",
       "      <th>title</th>\n",
       "    </tr>\n",
       "  </thead>\n",
       "  <tbody>\n",
       "    <tr>\n",
       "      <th>0</th>\n",
       "      <td>NaN</td>\n",
       "      <td>4.0</td>\n",
       "      <td>0.0</td>\n",
       "      <td>https://assets.epicurious.com/photos/56df1d8cb...</td>\n",
       "      <td>['2 cups whole-wheat flour', '2 cups all-purpo...</td>\n",
       "      <td>90%</td>\n",
       "      <td>Put oven rack in middle position and preheat o...</td>\n",
       "      <td>3.5</td>\n",
       "      <td>50.0</td>\n",
       "      <td>['Irish', 'Bread', 'Bake', 'Vegetarian', 'Quic...</td>\n",
       "      <td>Irish Brown Bread</td>\n",
       "    </tr>\n",
       "    <tr>\n",
       "      <th>1</th>\n",
       "      <td>NaN</td>\n",
       "      <td>4.0</td>\n",
       "      <td>1.0</td>\n",
       "      <td>https://assets.epicurious.com/photos/5a78b5919...</td>\n",
       "      <td>['1 Tbsp. crushed red pepper flakes', '1 Tbsp....</td>\n",
       "      <td>91%</td>\n",
       "      <td>Coarsely grind red pepper flakes, peppercorns,...</td>\n",
       "      <td>3.0</td>\n",
       "      <td>11.0</td>\n",
       "      <td>['Pepper', 'Fennel', 'Pork', 'Garlic', 'White ...</td>\n",
       "      <td>Slow-Cooked Pork with Chickpeas</td>\n",
       "    </tr>\n",
       "    <tr>\n",
       "      <th>2</th>\n",
       "      <td>NaN</td>\n",
       "      <td>4.0</td>\n",
       "      <td>2.0</td>\n",
       "      <td>https://assets.epicurious.com/photos/5a68f33b3...</td>\n",
       "      <td>['1/4 cup extra-virgin olive oil', '12 oz. dry...</td>\n",
       "      <td>67%</td>\n",
       "      <td>Pour oil into cooker insert and select “Sauté....</td>\n",
       "      <td>2.0</td>\n",
       "      <td>15.0</td>\n",
       "      <td>['Instant Pot', 'Kale', 'Potato', 'Onion', 'Ga...</td>\n",
       "      <td>Instant Pot Caldo Verde</td>\n",
       "    </tr>\n",
       "    <tr>\n",
       "      <th>3</th>\n",
       "      <td>NaN</td>\n",
       "      <td>4.0</td>\n",
       "      <td>3.0</td>\n",
       "      <td>https://assets.epicurious.com/photos/5a9971b01...</td>\n",
       "      <td>['1 tablespoon olive oil', '2 garlic cloves, t...</td>\n",
       "      <td>81%</td>\n",
       "      <td>Preheat oven to 350°F. Heat oil in a large ski...</td>\n",
       "      <td>3.5</td>\n",
       "      <td>26.0</td>\n",
       "      <td>['Side', 'Bake', 'Christmas', 'Easter', 'Thank...</td>\n",
       "      <td>Parmesan Bread Pudding with Broccoli Rabe and ...</td>\n",
       "    </tr>\n",
       "    <tr>\n",
       "      <th>4</th>\n",
       "      <td>NaN</td>\n",
       "      <td>4.0</td>\n",
       "      <td>4.0</td>\n",
       "      <td>https://assets.epicurious.com/photos/54b71d9a2...</td>\n",
       "      <td>['1 1/2 pounds boneless, skinless chicken brea...</td>\n",
       "      <td>96%</td>\n",
       "      <td>Place chicken, garlic, bay leaves, allspice, a...</td>\n",
       "      <td>3.5</td>\n",
       "      <td>23.0</td>\n",
       "      <td>['Asian', 'Soup/Stew', 'Chicken', 'Low Carb', ...</td>\n",
       "      <td>Brothy Poached Chicken with Mushrooms and Fres...</td>\n",
       "    </tr>\n",
       "  </tbody>\n",
       "</table>\n",
       "</div>"
      ],
      "text/plain": [
       "   Unnamed: 0  bestrating   id  \\\n",
       "0         NaN         4.0  0.0   \n",
       "1         NaN         4.0  1.0   \n",
       "2         NaN         4.0  2.0   \n",
       "3         NaN         4.0  3.0   \n",
       "4         NaN         4.0  4.0   \n",
       "\n",
       "                                            imagesrc  \\\n",
       "0  https://assets.epicurious.com/photos/56df1d8cb...   \n",
       "1  https://assets.epicurious.com/photos/5a78b5919...   \n",
       "2  https://assets.epicurious.com/photos/5a68f33b3...   \n",
       "3  https://assets.epicurious.com/photos/5a9971b01...   \n",
       "4  https://assets.epicurious.com/photos/54b71d9a2...   \n",
       "\n",
       "                                         ingredients makeitagainscore  \\\n",
       "0  ['2 cups whole-wheat flour', '2 cups all-purpo...              90%   \n",
       "1  ['1 Tbsp. crushed red pepper flakes', '1 Tbsp....              91%   \n",
       "2  ['1/4 cup extra-virgin olive oil', '12 oz. dry...              67%   \n",
       "3  ['1 tablespoon olive oil', '2 garlic cloves, t...              81%   \n",
       "4  ['1 1/2 pounds boneless, skinless chicken brea...              96%   \n",
       "\n",
       "                                         preparation  rating  reviews  \\\n",
       "0  Put oven rack in middle position and preheat o...     3.5     50.0   \n",
       "1  Coarsely grind red pepper flakes, peppercorns,...     3.0     11.0   \n",
       "2  Pour oil into cooker insert and select “Sauté....     2.0     15.0   \n",
       "3  Preheat oven to 350°F. Heat oil in a large ski...     3.5     26.0   \n",
       "4  Place chicken, garlic, bay leaves, allspice, a...     3.5     23.0   \n",
       "\n",
       "                                                tags  \\\n",
       "0  ['Irish', 'Bread', 'Bake', 'Vegetarian', 'Quic...   \n",
       "1  ['Pepper', 'Fennel', 'Pork', 'Garlic', 'White ...   \n",
       "2  ['Instant Pot', 'Kale', 'Potato', 'Onion', 'Ga...   \n",
       "3  ['Side', 'Bake', 'Christmas', 'Easter', 'Thank...   \n",
       "4  ['Asian', 'Soup/Stew', 'Chicken', 'Low Carb', ...   \n",
       "\n",
       "                                               title  \n",
       "0                                 Irish Brown Bread   \n",
       "1                   Slow-Cooked Pork with Chickpeas   \n",
       "2                           Instant Pot Caldo Verde   \n",
       "3  Parmesan Bread Pudding with Broccoli Rabe and ...  \n",
       "4  Brothy Poached Chicken with Mushrooms and Fres...  "
      ]
     },
     "execution_count": 4,
     "metadata": {},
     "output_type": "execute_result"
    }
   ],
   "source": [
    "all_recipes.head()"
   ]
  },
  {
   "cell_type": "code",
   "execution_count": 55,
   "metadata": {},
   "outputs": [
    {
     "name": "stdout",
     "output_type": "stream",
     "text": [
      "count of recipes: 6674\n"
     ]
    }
   ],
   "source": [
    "print(\"count of recipes: \" + str(len(all_recipes)))"
   ]
  },
  {
   "cell_type": "code",
   "execution_count": 63,
   "metadata": {},
   "outputs": [
    {
     "name": "stdout",
     "output_type": "stream",
     "text": [
      "Put oven rack in middle position and preheat oven to 400°F. Butter a 9- by 2-inch round cake pan.Whisk together flours, wheat germ, salt, sugar, baking soda, and cream of tartar in a large bowl until combined well. Blend in butter with a pastry blender or your fingertips until mixture resembles coarse meal. Make a well in center and add buttermilk, stirring until a dough forms. Gently knead on a floured surface, adding just enough more flour to keep dough from sticking, until smooth, about 3 minutes.Transfer dough to cake pan and flatten to fill pan. With a sharp knife, cut an X (1/2 inch deep) across top of dough (5 inches long). Bake until loaf is lightly browned and sounds hollow when bottom is tapped, 30 to 40 minutes. Cool in pan on a rack 10 minutes, then turn out onto rack and cool, right side up, about 1 hour.\n"
     ]
    }
   ],
   "source": [
    "print(all_recipes.head(1)[\"preparation\"][0])"
   ]
  },
  {
   "cell_type": "code",
   "execution_count": 81,
   "metadata": {},
   "outputs": [],
   "source": [
    "def ingredients_list(ing):\n",
    "    \"\"\" Return a bulltted list of ingredients, with Ingredients header, from a list of ingredients \"\"\"\n",
    "    result = \"Ingredients:\\n\"\n",
    "    \n",
    "    for i in range(len(ing)):\n",
    "        result += f\"- {ing[i]}\\n\"\n",
    "    \n",
    "    return result"
   ]
  },
  {
   "cell_type": "code",
   "execution_count": 82,
   "metadata": {},
   "outputs": [],
   "source": [
    "import ast\n",
    "\n",
    "# Initialize our text file\n",
    "string_text = \"\"\n",
    "\n",
    "i = 0\n",
    "# Iterate through all rows, and append recipes & instructions to master text file\n",
    "for index, row in all_recipes.iterrows(): \n",
    "    # Add title\n",
    "    string_text += \"\\n\\n\\nRecipe: \" + str(row[\"title\"]) + \"\\n\\n\"\n",
    "    #\n",
    "    # Parse ingredients into a bulletted list\n",
    "    #\n",
    "    ingred_value = row[\"ingredients\"]\n",
    "    ingredients = ast.literal_eval(ingred_value)\n",
    "\n",
    "    # Call function to get ingredients bulletted out\n",
    "    ing_listing = ingredients_list(ingredients)\n",
    "    \n",
    "    # Append ingredients value to text file\n",
    "    string_text += ing_listing + \"\\n\"\n",
    "\n",
    "    #\n",
    "    # Parse instructions and append\n",
    "    #\n",
    "    string_text += \"Directions:\\n\" + str(row[\"preparation\"])\n",
    "    \n",
    "    i += 1"
   ]
  },
  {
   "cell_type": "code",
   "execution_count": 83,
   "metadata": {},
   "outputs": [],
   "source": [
    "# Save it to a text file\n",
    "with open(\"recipe_output.txt\", \"w\") as text_file:\n",
    "    print(string_text, file=text_file)"
   ]
  },
  {
   "cell_type": "code",
   "execution_count": null,
   "metadata": {},
   "outputs": [],
   "source": []
  }
 ],
 "metadata": {
  "kernelspec": {
   "display_name": "Python 3",
   "language": "python",
   "name": "python3"
  },
  "language_info": {
   "codemirror_mode": {
    "name": "ipython",
    "version": 3
   },
   "file_extension": ".py",
   "mimetype": "text/x-python",
   "name": "python",
   "nbconvert_exporter": "python",
   "pygments_lexer": "ipython3",
   "version": "3.6.4"
  }
 },
 "nbformat": 4,
 "nbformat_minor": 2
}
