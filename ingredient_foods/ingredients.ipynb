{
 "cells": [
  {
   "attachments": {},
   "cell_type": "markdown",
   "metadata": {},
   "source": [
    "## The data is from https://www.kaggle.com/kaggle/recipe-ingredients-dataset/data  I used the test.json file and renamed it to recipe_ingredients.json it was the smaller of the two files."
   ]
  },
  {
   "cell_type": "code",
   "execution_count": 1,
   "metadata": {
    "scrolled": false
   },
   "outputs": [
    {
     "data": {
      "text/plain": [
       "{'id': 18009,\n",
       " 'ingredients': ['baking powder',\n",
       "  'eggs',\n",
       "  'all-purpose flour',\n",
       "  'raisins',\n",
       "  'milk',\n",
       "  'white sugar']}"
      ]
     },
     "execution_count": 1,
     "metadata": {},
     "output_type": "execute_result"
    }
   ],
   "source": [
    "# Read the recipe_ingredients.json file\n",
    "import json\n",
    "recipe_ingredients = json.load(open('recipe_ingredients.json'))\n",
    "recipe_ingredients[0]"
   ]
  },
  {
   "cell_type": "code",
   "execution_count": 2,
   "metadata": {},
   "outputs": [
    {
     "data": {
      "text/plain": [
       "['baking powder',\n",
       " 'eggs',\n",
       " 'all-purpose flour',\n",
       " 'raisins',\n",
       " 'milk',\n",
       " 'white sugar']"
      ]
     },
     "execution_count": 2,
     "metadata": {},
     "output_type": "execute_result"
    }
   ],
   "source": [
    "ingredients = recipe_ingredients[0][\"ingredients\"]\n",
    "ingredients"
   ]
  },
  {
   "cell_type": "code",
   "execution_count": 3,
   "metadata": {},
   "outputs": [],
   "source": [
    "# Get the ingredients from the recipe_ingredients.json.\n",
    "# Get the food label from the json file and add them to a list\n",
    "\n",
    "common_ingredients = []\n",
    "for i in range(len(recipe_ingredients)):\n",
    "    ingredients = recipe_ingredients[i][\"ingredients\"]\n",
    "    for j in range(len(ingredients)):\n",
    "        item = ingredients[j]\n",
    "        common_ingredients.append(item)"
   ]
  },
  {
   "cell_type": "code",
   "execution_count": 4,
   "metadata": {},
   "outputs": [
    {
     "data": {
      "text/plain": [
       "['baking powder',\n",
       " 'eggs',\n",
       " 'all-purpose flour',\n",
       " 'raisins',\n",
       " 'milk',\n",
       " 'white sugar',\n",
       " 'sugar',\n",
       " 'egg yolks',\n",
       " 'corn starch',\n",
       " 'cream of tartar']"
      ]
     },
     "execution_count": 4,
     "metadata": {},
     "output_type": "execute_result"
    }
   ],
   "source": [
    "common_ingredients[0:10]"
   ]
  },
  {
   "cell_type": "code",
   "execution_count": 5,
   "metadata": {},
   "outputs": [
    {
     "data": {
      "text/plain": [
       "107395"
      ]
     },
     "execution_count": 5,
     "metadata": {},
     "output_type": "execute_result"
    }
   ],
   "source": [
    "len(common_ingredients)"
   ]
  },
  {
   "cell_type": "code",
   "execution_count": 6,
   "metadata": {},
   "outputs": [
    {
     "data": {
      "text/plain": [
       "4484"
      ]
     },
     "execution_count": 6,
     "metadata": {},
     "output_type": "execute_result"
    }
   ],
   "source": [
    "# Get the unique ingredients. \n",
    "unique_ingredients = list(set(common_ingredients))\n",
    "len(unique_ingredients)"
   ]
  },
  {
   "cell_type": "code",
   "execution_count": 8,
   "metadata": {},
   "outputs": [],
   "source": [
    "# Save the list to a text file\n",
    "with open(\"ingredients.txt\", \"w\") as text_file:\n",
    "    print(unique_ingredients, file=text_file)"
   ]
  },
  {
   "cell_type": "code",
   "execution_count": null,
   "metadata": {},
   "outputs": [],
   "source": []
  }
 ],
 "metadata": {
  "kernelspec": {
   "display_name": "Python 3",
   "language": "python",
   "name": "python3"
  },
  "language_info": {
   "codemirror_mode": {
    "name": "ipython",
    "version": 3
   },
   "file_extension": ".py",
   "mimetype": "text/x-python",
   "name": "python",
   "nbconvert_exporter": "python",
   "pygments_lexer": "ipython3",
   "version": "3.6.4"
  }
 },
 "nbformat": 4,
 "nbformat_minor": 2
}
